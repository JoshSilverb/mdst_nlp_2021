{
  "nbformat": 4,
  "nbformat_minor": 0,
  "metadata": {
    "colab": {
      "name": "ensemble_Nov7.ipynb",
      "provenance": [],
      "collapsed_sections": []
    },
    "kernelspec": {
      "name": "python3",
      "display_name": "Python 3"
    },
    "language_info": {
      "name": "python"
    },
    "accelerator": "GPU"
  },
  "cells": [
    {
      "cell_type": "code",
      "metadata": {
        "id": "bEqELizWeOWI"
      },
      "source": [
        "import numpy as np\n",
        "import tensorflow as tf\n",
        "import pandas as pd\n",
        "from sklearn.model_selection import train_test_split\n",
        "import matplotlib.pyplot as plt\n",
        "import seaborn as sns\n",
        "from sklearn.metrics import f1_score\n",
        "from keras.wrappers.scikit_learn import KerasClassifier\n",
        "from sklearn.model_selection import RandomizedSearchCV, GridSearchCV"
      ],
      "execution_count": 43,
      "outputs": []
    },
    {
      "cell_type": "code",
      "metadata": {
        "id": "C1mncf4ged_z",
        "colab": {
          "base_uri": "https://localhost:8080/",
          "height": 203
        },
        "outputId": "55098ff9-5f88-4b0c-d3cd-a8cc1f6cbcac"
      },
      "source": [
        "df = pd.read_csv(\"train.csv\")\n",
        "df.head()"
      ],
      "execution_count": 44,
      "outputs": [
        {
          "output_type": "execute_result",
          "data": {
            "text/html": [
              "<div>\n",
              "<style scoped>\n",
              "    .dataframe tbody tr th:only-of-type {\n",
              "        vertical-align: middle;\n",
              "    }\n",
              "\n",
              "    .dataframe tbody tr th {\n",
              "        vertical-align: top;\n",
              "    }\n",
              "\n",
              "    .dataframe thead th {\n",
              "        text-align: right;\n",
              "    }\n",
              "</style>\n",
              "<table border=\"1\" class=\"dataframe\">\n",
              "  <thead>\n",
              "    <tr style=\"text-align: right;\">\n",
              "      <th></th>\n",
              "      <th>id</th>\n",
              "      <th>text</th>\n",
              "      <th>author</th>\n",
              "    </tr>\n",
              "  </thead>\n",
              "  <tbody>\n",
              "    <tr>\n",
              "      <th>0</th>\n",
              "      <td>id26305</td>\n",
              "      <td>This process, however, afforded me no means of...</td>\n",
              "      <td>EAP</td>\n",
              "    </tr>\n",
              "    <tr>\n",
              "      <th>1</th>\n",
              "      <td>id17569</td>\n",
              "      <td>It never once occurred to me that the fumbling...</td>\n",
              "      <td>HPL</td>\n",
              "    </tr>\n",
              "    <tr>\n",
              "      <th>2</th>\n",
              "      <td>id11008</td>\n",
              "      <td>In his left hand was a gold snuff box, from wh...</td>\n",
              "      <td>EAP</td>\n",
              "    </tr>\n",
              "    <tr>\n",
              "      <th>3</th>\n",
              "      <td>id27763</td>\n",
              "      <td>How lovely is spring As we looked from Windsor...</td>\n",
              "      <td>MWS</td>\n",
              "    </tr>\n",
              "    <tr>\n",
              "      <th>4</th>\n",
              "      <td>id12958</td>\n",
              "      <td>Finding nothing else, not even gold, the Super...</td>\n",
              "      <td>HPL</td>\n",
              "    </tr>\n",
              "  </tbody>\n",
              "</table>\n",
              "</div>"
            ],
            "text/plain": [
              "        id                                               text author\n",
              "0  id26305  This process, however, afforded me no means of...    EAP\n",
              "1  id17569  It never once occurred to me that the fumbling...    HPL\n",
              "2  id11008  In his left hand was a gold snuff box, from wh...    EAP\n",
              "3  id27763  How lovely is spring As we looked from Windsor...    MWS\n",
              "4  id12958  Finding nothing else, not even gold, the Super...    HPL"
            ]
          },
          "metadata": {},
          "execution_count": 44
        }
      ]
    },
    {
      "cell_type": "code",
      "metadata": {
        "id": "LASVt4J2eyJ0"
      },
      "source": [
        "X = df[\"text\"].copy()\n",
        "#X = df[\"text\"]\n",
        "\n",
        "authors = df[\"author\"].copy()\n",
        "\n",
        "# Label data\n",
        "y = []\n",
        "for author in authors:\n",
        "    if author == \"EAP\":\n",
        "        y.append([1, 0, 0])\n",
        "    if author == \"HPL\":\n",
        "        y.append([0, 1, 0])\n",
        "    if author == \"MWS\":\n",
        "        y.append([0, 0, 1])\n",
        "\n",
        "y = np.array(y)"
      ],
      "execution_count": 45,
      "outputs": []
    },
    {
      "cell_type": "code",
      "metadata": {
        "id": "PpKsd96YevaK"
      },
      "source": [
        "X_train, X_test, y_train, y_test = train_test_split(X, y, test_size=0.2, random_state=42)\n"
      ],
      "execution_count": 46,
      "outputs": []
    },
    {
      "cell_type": "code",
      "metadata": {
        "id": "pb19mHr4gDTQ"
      },
      "source": [
        "encoder = tf.keras.layers.TextVectorization()\n",
        "encoder.adapt(X_train)"
      ],
      "execution_count": 47,
      "outputs": []
    },
    {
      "cell_type": "code",
      "metadata": {
        "id": "0wKdyQsae1HY"
      },
      "source": [
        "class CNN1d(tf.keras.Model):\n",
        "    def __init__(self, conv1_filters, conv1_size, conv2_filters, conv2_size, dense1, encoder):\n",
        "        super(CNN1d, self).__init__()\n",
        "\n",
        "        self.encoder = encoder\n",
        "\n",
        "        vocab = encoder.get_vocabulary()\n",
        "        \n",
        "        self.embedding = tf.keras.layers.Embedding(input_dim=len(vocab),output_dim=64,mask_zero=True)\n",
        "        \n",
        "\n",
        "        self.conv1 = tf.keras.layers.Conv1D(filters=conv1_filters,\n",
        "                            kernel_size=conv1_size,\n",
        "                            padding=\"same\",\n",
        "                            activation=\"relu\",\n",
        "                            data_format=\"channels_last\",\n",
        "                            )\n",
        "        self.conv2 = tf.keras.layers.Conv1D(filters=conv2_filters,\n",
        "                            kernel_size=conv2_size,\n",
        "                            padding=\"same\",\n",
        "                            activation=\"relu\",\n",
        "                            data_format=\"channels_last\",\n",
        "                            )\n",
        "        self.global_pool = tf.keras.layers.GlobalMaxPool1D(keepdims=False)\n",
        "        self.dense1 = tf.keras.layers.Dense(dense1, activation='relu')\n",
        "        self.dense2 = tf.keras.layers.Dense(3, activation=\"softmax\")\n",
        "\n",
        "    def call(self, x, training=False):\n",
        "        emb = self.encoder(x)\n",
        "        emb = self.embedding(emb)\n",
        "        conv1 = self.conv1(emb)\n",
        "        conv2 = self.conv2(emb)\n",
        "        z = tf.concat([conv1, conv2], axis=2)\n",
        "        z = self.global_pool(z)\n",
        "        z = self.dense1(z)\n",
        "        z = self.dense2(z)\n",
        "        return z"
      ],
      "execution_count": 48,
      "outputs": []
    },
    {
      "cell_type": "code",
      "metadata": {
        "id": "Nw7IAbU4f5SY"
      },
      "source": [
        "def create_model(conv1_filters, conv1_size, conv2_filters, conv2_size, dense1):\n",
        "    model = CNN1d(conv1_filters, conv1_size, conv2_filters, conv2_size, dense1, encoder)\n",
        "    model.compile(loss=tf.keras.losses.CategoricalCrossentropy(),\n",
        "              optimizer=tf.keras.optimizers.Adam(1e-3),\n",
        "              metrics=['accuracy']\n",
        "    )\n",
        "    return model"
      ],
      "execution_count": 49,
      "outputs": []
    },
    {
      "cell_type": "code",
      "metadata": {
        "colab": {
          "base_uri": "https://localhost:8080/"
        },
        "id": "fQh8h_kbgIsb",
        "outputId": "b5cddad0-8d4d-429d-8272-72667f154bc5"
      },
      "source": [
        "callbacks = [\n",
        "          tf.keras.callbacks.EarlyStopping(monitor='val_loss', patience=3),\n",
        "          tf.keras.callbacks.ModelCheckpoint(\n",
        "            filepath=\"CNN_weights\",\n",
        "            save_weights_only=True,\n",
        "            monitor='val_accuracy',\n",
        "            mode='max',\n",
        "            save_best_only=True)\n",
        "]\n",
        "with tf.device('/device:GPU:0'):\n",
        "  cnn = create_model(128, 6, 128, 5, 128)\n",
        "  history = cnn.fit(X_train, y_train, epochs=15,\n",
        "                      validation_data=(X_test, y_test),\n",
        "                      validation_steps=30,\n",
        "                      callbacks=callbacks)"
      ],
      "execution_count": 50,
      "outputs": [
        {
          "output_type": "stream",
          "name": "stdout",
          "text": [
            "Epoch 1/15\n",
            "490/490 [==============================] - 7s 13ms/step - loss: 0.7084 - accuracy: 0.6780 - val_loss: 0.4783 - val_accuracy: 0.8100\n",
            "Epoch 2/15\n",
            "490/490 [==============================] - 5s 11ms/step - loss: 0.2283 - accuracy: 0.9190 - val_loss: 0.4740 - val_accuracy: 0.8220\n",
            "Epoch 3/15\n",
            "490/490 [==============================] - 6s 11ms/step - loss: 0.0630 - accuracy: 0.9815 - val_loss: 0.6636 - val_accuracy: 0.8034\n",
            "Epoch 4/15\n",
            "490/490 [==============================] - 5s 11ms/step - loss: 0.0177 - accuracy: 0.9951 - val_loss: 0.7477 - val_accuracy: 0.8166\n",
            "Epoch 5/15\n",
            "490/490 [==============================] - 5s 11ms/step - loss: 0.0055 - accuracy: 0.9990 - val_loss: 0.8605 - val_accuracy: 0.8154\n"
          ]
        }
      ]
    },
    {
      "cell_type": "code",
      "metadata": {
        "id": "JnAj6cOlhcAt"
      },
      "source": [
        "max_features = 1000000\n",
        "Vectorizer = tf.keras.layers.TextVectorization(max_tokens=max_features, output_mode='tf_idf', ngrams=2)\n",
        "with tf.device('/device:CPU:0'):\n",
        "  Vectorizer.adapt(X)\n",
        "vocab = Vectorizer.get_vocabulary()"
      ],
      "execution_count": 51,
      "outputs": []
    },
    {
      "cell_type": "code",
      "metadata": {
        "id": "GJFgMVdch2pW"
      },
      "source": [
        "model = tf.keras.Sequential()\n",
        "model.add(Vectorizer)\n",
        "   \n",
        "model.add(tf.keras.layers.Dense(25, activation='relu'))\n",
        "model.add(tf.keras.layers.Dropout(0.2))\n",
        "   \n",
        "model.add(tf.keras.layers.Dense(3, activation='softmax'))\n",
        "   \n",
        "model.compile(loss=tf.keras.losses.CategoricalCrossentropy(),\n",
        "             optimizer=tf.keras.optimizers.Adam(1e-3),\n",
        "             metrics=['accuracy'])"
      ],
      "execution_count": 52,
      "outputs": []
    },
    {
      "cell_type": "code",
      "metadata": {
        "colab": {
          "base_uri": "https://localhost:8080/"
        },
        "id": "BpX9nZxSmQkB",
        "outputId": "66771882-08ef-4f4c-df2a-1f37b25205d6"
      },
      "source": [
        "model.fit(X_train, y_train, epochs=1, batch_size=64,\n",
        "         validation_data=(X_test,y_test),\n",
        "         validation_steps=10)\n",
        "\n",
        "pred = model.predict(df['text'])"
      ],
      "execution_count": 53,
      "outputs": [
        {
          "output_type": "stream",
          "name": "stdout",
          "text": [
            "245/245 [==============================] - 11s 41ms/step - loss: 0.5720 - accuracy: 0.7700 - val_loss: 0.3619 - val_accuracy: 0.8594\n"
          ]
        }
      ]
    },
    {
      "cell_type": "code",
      "metadata": {
        "id": "lzNyagbgobRi"
      },
      "source": [
        "cnn_pred = cnn.predict(df['text'])\n",
        "ngram_pred = model.predict(df['text'])"
      ],
      "execution_count": 54,
      "outputs": []
    },
    {
      "cell_type": "code",
      "metadata": {
        "colab": {
          "base_uri": "https://localhost:8080/",
          "height": 417
        },
        "id": "j8I5QFMRmSTi",
        "outputId": "732e69d8-3d99-4071-b9ab-da7f1647e2fc"
      },
      "source": [
        "ensemble_df = pd.DataFrame({\n",
        "    \"id\": df[\"id\"],\n",
        "    \"EAP_ngram\": ngram_pred[:, 0],\n",
        "    \"HPL_ngram\": ngram_pred[:, 1],\n",
        "    \"MWS_ngram\": ngram_pred[:, 2],\n",
        "    \"EAP_cnn\": cnn_pred[:, 0],\n",
        "    \"HPL_cnn\": cnn_pred[:, 1],\n",
        "    \"MWS_cnn\": cnn_pred[:, 2],\n",
        "    \"actual_author\": df['author']\n",
        "})\n",
        "ensemble_df"
      ],
      "execution_count": 57,
      "outputs": [
        {
          "output_type": "execute_result",
          "data": {
            "text/html": [
              "<div>\n",
              "<style scoped>\n",
              "    .dataframe tbody tr th:only-of-type {\n",
              "        vertical-align: middle;\n",
              "    }\n",
              "\n",
              "    .dataframe tbody tr th {\n",
              "        vertical-align: top;\n",
              "    }\n",
              "\n",
              "    .dataframe thead th {\n",
              "        text-align: right;\n",
              "    }\n",
              "</style>\n",
              "<table border=\"1\" class=\"dataframe\">\n",
              "  <thead>\n",
              "    <tr style=\"text-align: right;\">\n",
              "      <th></th>\n",
              "      <th>id</th>\n",
              "      <th>EAP_ngram</th>\n",
              "      <th>HPL_ngram</th>\n",
              "      <th>MWS_ngram</th>\n",
              "      <th>EAP_cnn</th>\n",
              "      <th>HPL_cnn</th>\n",
              "      <th>MWS_cnn</th>\n",
              "      <th>actual_author</th>\n",
              "    </tr>\n",
              "  </thead>\n",
              "  <tbody>\n",
              "    <tr>\n",
              "      <th>0</th>\n",
              "      <td>id26305</td>\n",
              "      <td>0.997641</td>\n",
              "      <td>0.001860</td>\n",
              "      <td>0.000499</td>\n",
              "      <td>9.999982e-01</td>\n",
              "      <td>1.628095e-06</td>\n",
              "      <td>1.062047e-07</td>\n",
              "      <td>EAP</td>\n",
              "    </tr>\n",
              "    <tr>\n",
              "      <th>1</th>\n",
              "      <td>id17569</td>\n",
              "      <td>0.080363</td>\n",
              "      <td>0.888638</td>\n",
              "      <td>0.030999</td>\n",
              "      <td>2.242347e-04</td>\n",
              "      <td>9.995772e-01</td>\n",
              "      <td>1.985183e-04</td>\n",
              "      <td>HPL</td>\n",
              "    </tr>\n",
              "    <tr>\n",
              "      <th>2</th>\n",
              "      <td>id11008</td>\n",
              "      <td>0.998898</td>\n",
              "      <td>0.001085</td>\n",
              "      <td>0.000017</td>\n",
              "      <td>9.998996e-01</td>\n",
              "      <td>1.003015e-04</td>\n",
              "      <td>1.073481e-07</td>\n",
              "      <td>EAP</td>\n",
              "    </tr>\n",
              "    <tr>\n",
              "      <th>3</th>\n",
              "      <td>id27763</td>\n",
              "      <td>0.002344</td>\n",
              "      <td>0.001729</td>\n",
              "      <td>0.995927</td>\n",
              "      <td>1.198767e-08</td>\n",
              "      <td>1.155771e-08</td>\n",
              "      <td>1.000000e+00</td>\n",
              "      <td>MWS</td>\n",
              "    </tr>\n",
              "    <tr>\n",
              "      <th>4</th>\n",
              "      <td>id12958</td>\n",
              "      <td>0.001371</td>\n",
              "      <td>0.997999</td>\n",
              "      <td>0.000630</td>\n",
              "      <td>3.885653e-05</td>\n",
              "      <td>9.999548e-01</td>\n",
              "      <td>6.358903e-06</td>\n",
              "      <td>HPL</td>\n",
              "    </tr>\n",
              "    <tr>\n",
              "      <th>...</th>\n",
              "      <td>...</td>\n",
              "      <td>...</td>\n",
              "      <td>...</td>\n",
              "      <td>...</td>\n",
              "      <td>...</td>\n",
              "      <td>...</td>\n",
              "      <td>...</td>\n",
              "      <td>...</td>\n",
              "    </tr>\n",
              "    <tr>\n",
              "      <th>19574</th>\n",
              "      <td>id17718</td>\n",
              "      <td>0.986627</td>\n",
              "      <td>0.010192</td>\n",
              "      <td>0.003181</td>\n",
              "      <td>9.999247e-01</td>\n",
              "      <td>7.504811e-05</td>\n",
              "      <td>2.222216e-07</td>\n",
              "      <td>EAP</td>\n",
              "    </tr>\n",
              "    <tr>\n",
              "      <th>19575</th>\n",
              "      <td>id08973</td>\n",
              "      <td>0.922833</td>\n",
              "      <td>0.053497</td>\n",
              "      <td>0.023670</td>\n",
              "      <td>9.999982e-01</td>\n",
              "      <td>4.381722e-08</td>\n",
              "      <td>1.829797e-06</td>\n",
              "      <td>EAP</td>\n",
              "    </tr>\n",
              "    <tr>\n",
              "      <th>19576</th>\n",
              "      <td>id05267</td>\n",
              "      <td>0.999413</td>\n",
              "      <td>0.000335</td>\n",
              "      <td>0.000251</td>\n",
              "      <td>9.999993e-01</td>\n",
              "      <td>2.906222e-07</td>\n",
              "      <td>5.317214e-07</td>\n",
              "      <td>EAP</td>\n",
              "    </tr>\n",
              "    <tr>\n",
              "      <th>19577</th>\n",
              "      <td>id17513</td>\n",
              "      <td>0.450641</td>\n",
              "      <td>0.440184</td>\n",
              "      <td>0.109175</td>\n",
              "      <td>9.929609e-01</td>\n",
              "      <td>5.807552e-03</td>\n",
              "      <td>1.231570e-03</td>\n",
              "      <td>EAP</td>\n",
              "    </tr>\n",
              "    <tr>\n",
              "      <th>19578</th>\n",
              "      <td>id00393</td>\n",
              "      <td>0.018102</td>\n",
              "      <td>0.979700</td>\n",
              "      <td>0.002198</td>\n",
              "      <td>3.356124e-07</td>\n",
              "      <td>9.999996e-01</td>\n",
              "      <td>1.085274e-08</td>\n",
              "      <td>HPL</td>\n",
              "    </tr>\n",
              "  </tbody>\n",
              "</table>\n",
              "<p>19579 rows × 8 columns</p>\n",
              "</div>"
            ],
            "text/plain": [
              "            id  EAP_ngram  HPL_ngram  ...       HPL_cnn       MWS_cnn  actual_author\n",
              "0      id26305   0.997641   0.001860  ...  1.628095e-06  1.062047e-07            EAP\n",
              "1      id17569   0.080363   0.888638  ...  9.995772e-01  1.985183e-04            HPL\n",
              "2      id11008   0.998898   0.001085  ...  1.003015e-04  1.073481e-07            EAP\n",
              "3      id27763   0.002344   0.001729  ...  1.155771e-08  1.000000e+00            MWS\n",
              "4      id12958   0.001371   0.997999  ...  9.999548e-01  6.358903e-06            HPL\n",
              "...        ...        ...        ...  ...           ...           ...            ...\n",
              "19574  id17718   0.986627   0.010192  ...  7.504811e-05  2.222216e-07            EAP\n",
              "19575  id08973   0.922833   0.053497  ...  4.381722e-08  1.829797e-06            EAP\n",
              "19576  id05267   0.999413   0.000335  ...  2.906222e-07  5.317214e-07            EAP\n",
              "19577  id17513   0.450641   0.440184  ...  5.807552e-03  1.231570e-03            EAP\n",
              "19578  id00393   0.018102   0.979700  ...  9.999996e-01  1.085274e-08            HPL\n",
              "\n",
              "[19579 rows x 8 columns]"
            ]
          },
          "metadata": {},
          "execution_count": 57
        }
      ]
    },
    {
      "cell_type": "code",
      "metadata": {
        "id": "fsy4YAB_rpaY"
      },
      "source": [
        "X_final = ensemble_df[['EAP_ngram', 'EAP_ngram', 'EAP_ngram']].copy()\n",
        "#, 'EAP_cnn', 'HPL_cnn', 'MWS_cnn'\n",
        "authors_final = ensemble_df[\"actual_author\"].copy()\n",
        "\n",
        "# Label data\n",
        "y_final = []\n",
        "for author in authors_final:\n",
        "    if author == \"EAP\":\n",
        "        y_final.append([1, 0, 0])\n",
        "    if author == \"HPL\":\n",
        "        y_final.append([0, 1, 0])\n",
        "    if author == \"MWS\":\n",
        "        y_final.append([0, 0, 1])\n",
        "\n",
        "y_final = np.array(y_final)"
      ],
      "execution_count": 74,
      "outputs": []
    },
    {
      "cell_type": "code",
      "metadata": {
        "id": "9pEY9_I1sqHR"
      },
      "source": [
        "X_train_final, X_test_final, y_train_final, y_test_final = train_test_split(X_final, y_final, test_size=0.2, random_state=42)"
      ],
      "execution_count": 75,
      "outputs": []
    },
    {
      "cell_type": "code",
      "metadata": {
        "id": "i64MvvlIq9Vx"
      },
      "source": [
        "ensemble = tf.keras.Sequential()\n",
        "   \n",
        "ensemble.add(tf.keras.layers.Dense(25, activation='relu'))\n",
        "ensemble.add(tf.keras.layers.Dropout(0.2))\n",
        "   \n",
        "ensemble.add(tf.keras.layers.Dense(3, activation='softmax'))\n",
        "   \n",
        "ensemble.compile(loss=tf.keras.losses.CategoricalCrossentropy(),\n",
        "             optimizer=tf.keras.optimizers.Adam(1e-3),\n",
        "             metrics=['accuracy'])"
      ],
      "execution_count": 76,
      "outputs": []
    },
    {
      "cell_type": "code",
      "metadata": {
        "colab": {
          "base_uri": "https://localhost:8080/"
        },
        "id": "r51czw3HsiP8",
        "outputId": "41c4219e-577d-46c2-f1c3-0cbad22579fe"
      },
      "source": [
        "ensemble.fit(X_train_final, y_train_final, epochs=1, batch_size=64,\n",
        "         validation_data=(X_test_final,y_test_final),\n",
        "         validation_steps=10)"
      ],
      "execution_count": 83,
      "outputs": [
        {
          "output_type": "stream",
          "name": "stdout",
          "text": [
            "245/245 [==============================] - 1s 4ms/step - loss: 0.4726 - accuracy: 0.7022 - val_loss: 0.7336 - val_accuracy: 0.6594\n"
          ]
        },
        {
          "output_type": "execute_result",
          "data": {
            "text/plain": [
              "<keras.callbacks.History at 0x7f58fc901e50>"
            ]
          },
          "metadata": {},
          "execution_count": 83
        }
      ]
    },
    {
      "cell_type": "code",
      "metadata": {
        "id": "mi4kqML5tVQC"
      },
      "source": [
        ""
      ],
      "execution_count": 79,
      "outputs": []
    }
  ]
}