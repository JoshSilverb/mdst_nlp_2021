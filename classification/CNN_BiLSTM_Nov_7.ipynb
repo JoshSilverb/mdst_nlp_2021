{
  "nbformat": 4,
  "nbformat_minor": 0,
  "metadata": {
    "colab": {
      "name": "CNN_BiLSTM_Nov_7",
      "provenance": [],
      "collapsed_sections": []
    },
    "kernelspec": {
      "name": "python3",
      "display_name": "Python 3"
    },
    "language_info": {
      "name": "python"
    },
    "accelerator": "GPU"
  },
  "cells": [
    {
      "cell_type": "code",
      "metadata": {
        "id": "pBOE95TAQn7L"
      },
      "source": [
        "import numpy as np\n",
        "import tensorflow as tf\n",
        "import pandas as pd\n",
        "from sklearn.model_selection import train_test_split\n",
        "import matplotlib.pyplot as plt\n",
        "import seaborn as sns\n",
        "from sklearn.metrics import f1_score\n",
        "from keras.wrappers.scikit_learn import KerasClassifier\n",
        "from sklearn.model_selection import RandomizedSearchCV, GridSearchCV"
      ],
      "execution_count": null,
      "outputs": []
    },
    {
      "cell_type": "code",
      "metadata": {
        "colab": {
          "base_uri": "https://localhost:8080/",
          "height": 203
        },
        "id": "gOCMhEBkRMnY",
        "outputId": "39a2e0c8-5217-4bc1-f511-04c24c25676f"
      },
      "source": [
        "df = pd.read_csv(\"train.csv\")\n",
        "df.head()"
      ],
      "execution_count": null,
      "outputs": [
        {
          "output_type": "execute_result",
          "data": {
            "text/html": [
              "<div>\n",
              "<style scoped>\n",
              "    .dataframe tbody tr th:only-of-type {\n",
              "        vertical-align: middle;\n",
              "    }\n",
              "\n",
              "    .dataframe tbody tr th {\n",
              "        vertical-align: top;\n",
              "    }\n",
              "\n",
              "    .dataframe thead th {\n",
              "        text-align: right;\n",
              "    }\n",
              "</style>\n",
              "<table border=\"1\" class=\"dataframe\">\n",
              "  <thead>\n",
              "    <tr style=\"text-align: right;\">\n",
              "      <th></th>\n",
              "      <th>id</th>\n",
              "      <th>text</th>\n",
              "      <th>author</th>\n",
              "    </tr>\n",
              "  </thead>\n",
              "  <tbody>\n",
              "    <tr>\n",
              "      <th>0</th>\n",
              "      <td>id26305</td>\n",
              "      <td>This process, however, afforded me no means of...</td>\n",
              "      <td>EAP</td>\n",
              "    </tr>\n",
              "    <tr>\n",
              "      <th>1</th>\n",
              "      <td>id17569</td>\n",
              "      <td>It never once occurred to me that the fumbling...</td>\n",
              "      <td>HPL</td>\n",
              "    </tr>\n",
              "    <tr>\n",
              "      <th>2</th>\n",
              "      <td>id11008</td>\n",
              "      <td>In his left hand was a gold snuff box, from wh...</td>\n",
              "      <td>EAP</td>\n",
              "    </tr>\n",
              "    <tr>\n",
              "      <th>3</th>\n",
              "      <td>id27763</td>\n",
              "      <td>How lovely is spring As we looked from Windsor...</td>\n",
              "      <td>MWS</td>\n",
              "    </tr>\n",
              "    <tr>\n",
              "      <th>4</th>\n",
              "      <td>id12958</td>\n",
              "      <td>Finding nothing else, not even gold, the Super...</td>\n",
              "      <td>HPL</td>\n",
              "    </tr>\n",
              "  </tbody>\n",
              "</table>\n",
              "</div>"
            ],
            "text/plain": [
              "        id                                               text author\n",
              "0  id26305  This process, however, afforded me no means of...    EAP\n",
              "1  id17569  It never once occurred to me that the fumbling...    HPL\n",
              "2  id11008  In his left hand was a gold snuff box, from wh...    EAP\n",
              "3  id27763  How lovely is spring As we looked from Windsor...    MWS\n",
              "4  id12958  Finding nothing else, not even gold, the Super...    HPL"
            ]
          },
          "metadata": {},
          "execution_count": 2
        }
      ]
    },
    {
      "cell_type": "code",
      "metadata": {
        "id": "NDF_OZIbRNdc"
      },
      "source": [
        "X = df[\"text\"].copy()\n",
        "authors = df[\"author\"].copy()\n",
        "\n",
        "# Label data\n",
        "y = []\n",
        "for author in authors:\n",
        "    if author == \"EAP\":\n",
        "        y.append([1, 0, 0])\n",
        "    if author == \"HPL\":\n",
        "        y.append([0, 1, 0])\n",
        "    if author == \"MWS\":\n",
        "        y.append([0, 0, 1])\n",
        "\n",
        "y = np.array(y)"
      ],
      "execution_count": null,
      "outputs": []
    },
    {
      "cell_type": "code",
      "metadata": {
        "id": "esf9XINBRZdG"
      },
      "source": [
        "X_train, X_test, y_train, y_test = train_test_split(X, y, test_size=0.2, random_state=42)"
      ],
      "execution_count": null,
      "outputs": []
    },
    {
      "cell_type": "code",
      "metadata": {
        "id": "Pz7zN-BKRbxn"
      },
      "source": [
        "encoder = tf.keras.layers.TextVectorization()\n",
        "encoder.adapt(X_train)\n",
        "vocab = encoder.get_vocabulary()"
      ],
      "execution_count": null,
      "outputs": []
    },
    {
      "cell_type": "code",
      "metadata": {
        "id": "aiEHhF6pfy37"
      },
      "source": [
        "def create_model(conv_filters, conv_size, lstm_units, dense_units):\n",
        "  model = tf.keras.Sequential([\n",
        "      encoder,\n",
        "      tf.keras.layers.Embedding(\n",
        "          input_dim=len(vocab),\n",
        "          output_dim=64,\n",
        "          # Use masking to handle the variable sequence lengths\n",
        "          mask_zero=True),\n",
        "      tf.keras.layers.Conv1D(filters=conv_filters,\n",
        "                              kernel_size=conv_size,\n",
        "                              padding=\"same\",\n",
        "                              activation=\"relu\",\n",
        "                              data_format=\"channels_last\",\n",
        "                              ),\n",
        "      tf.keras.layers.Dropout(0.2),\n",
        "      tf.keras.layers.Bidirectional(tf.keras.layers.LSTM(lstm_units, return_sequences=False)),\n",
        "      # tf.keras.layers.GlobalMaxPool1D(keepdims=False),\n",
        "      tf.keras.layers.Dense(dense_units, activation='relu'),\n",
        "      tf.keras.layers.Dropout(0.2),\n",
        "      tf.keras.layers.Dense(3, activation=\"softmax\")\n",
        "  ])\n",
        "  model.compile(loss=tf.keras.losses.CategoricalCrossentropy(),\n",
        "            optimizer=tf.keras.optimizers.Adam(1e-3),\n",
        "            metrics=['accuracy']\n",
        "  )\n",
        "  return model\n",
        "  "
      ],
      "execution_count": null,
      "outputs": []
    },
    {
      "cell_type": "code",
      "metadata": {
        "id": "mbVWWG6shW5v"
      },
      "source": [
        "# Random search\n",
        "# model = KerasClassifier(build_fn=create_model, batch_size=32, verbose=1)\n",
        "\n",
        "# conv_filters = [int(i) for i in np.random.uniform(low=8, high=2048, size=3)]\n",
        "# conv_size = [int(i) for i in np.random.uniform(low=2, high=16, size=3)]\n",
        "# lstm_units = [int(i) for i in np.random.uniform(low=8, high=2048, size=3)]\n",
        "# dense_units = [int(i) for i in np.random.uniform(low=8, high=2048, size=3)]\n",
        "\n",
        "# params = dict(conv_filters=conv_filters, conv_size=conv_size, lstm_units=lstm_units, dense_units=dense_units)\n",
        "# grid = GridSearchCV(estimator=model, scoring = 'neg_log_loss', param_grid=params, n_jobs=1, cv=3, verbose=3)\n",
        "\n",
        "# grid_result = grid.fit(X_train, y_train)\n",
        "\n",
        "# print(\"Best: %f using %s\" % (grid_result.best_score_, grid_result.best_params_))"
      ],
      "execution_count": null,
      "outputs": []
    },
    {
      "cell_type": "code",
      "metadata": {
        "id": "2Ez6kaCQR34D"
      },
      "source": [
        "# Train model\n",
        "# best_params = grid_result.best_params_\n",
        "# model = create_model(best_params[\"conv_filters\"], best_params[\"conv_size\"], best_params[\"lstm_units\"], best_params[\"dense_units\"])\n",
        "model = create_model(64, 5, 64, 64)"
      ],
      "execution_count": null,
      "outputs": []
    },
    {
      "cell_type": "code",
      "metadata": {
        "id": "PU7e7hKIRuhI",
        "colab": {
          "base_uri": "https://localhost:8080/"
        },
        "outputId": "d6d4cb6f-b3b1-4490-e4dd-64d4332df68b"
      },
      "source": [
        "model.summary()"
      ],
      "execution_count": null,
      "outputs": [
        {
          "output_type": "stream",
          "name": "stdout",
          "text": [
            "Model: \"sequential\"\n",
            "_________________________________________________________________\n",
            "Layer (type)                 Output Shape              Param #   \n",
            "=================================================================\n",
            "text_vectorization (TextVect (None, None)              0         \n",
            "_________________________________________________________________\n",
            "embedding (Embedding)        (None, None, 64)          1494208   \n",
            "_________________________________________________________________\n",
            "conv1d (Conv1D)              (None, None, 64)          20544     \n",
            "_________________________________________________________________\n",
            "dropout (Dropout)            (None, None, 64)          0         \n",
            "_________________________________________________________________\n",
            "bidirectional (Bidirectional (None, 128)               66048     \n",
            "_________________________________________________________________\n",
            "dense (Dense)                (None, 64)                8256      \n",
            "_________________________________________________________________\n",
            "dropout_1 (Dropout)          (None, 64)                0         \n",
            "_________________________________________________________________\n",
            "dense_1 (Dense)              (None, 3)                 195       \n",
            "=================================================================\n",
            "Total params: 1,589,251\n",
            "Trainable params: 1,589,251\n",
            "Non-trainable params: 0\n",
            "_________________________________________________________________\n"
          ]
        }
      ]
    },
    {
      "cell_type": "code",
      "metadata": {
        "id": "XOueWP8lRc11",
        "colab": {
          "base_uri": "https://localhost:8080/"
        },
        "outputId": "900c6a5e-23bf-4e89-8c34-2ac9dd9184e3"
      },
      "source": [
        "callbacks = [\n",
        "          tf.keras.callbacks.EarlyStopping(monitor='val_loss', patience=3),\n",
        "          tf.keras.callbacks.ModelCheckpoint(\n",
        "            filepath=\"BiLSTM_CNN_weights\",\n",
        "            save_weights_only=True,\n",
        "            monitor='val_loss',\n",
        "            mode='max',\n",
        "            save_best_only=True)\n",
        "]\n",
        "with tf.device('/device:GPU:0'):\n",
        "  history = model.fit(X_train, y_train, epochs=15,\n",
        "                      validation_data=(X_test, y_test),\n",
        "                      validation_steps=30,\n",
        "                      callbacks=callbacks)"
      ],
      "execution_count": null,
      "outputs": [
        {
          "output_type": "stream",
          "name": "stdout",
          "text": [
            "Epoch 1/15\n",
            "490/490 [==============================] - 79s 150ms/step - loss: 0.6881 - accuracy: 0.6908 - val_loss: 0.4796 - val_accuracy: 0.8077\n",
            "Epoch 2/15\n",
            "490/490 [==============================] - 71s 145ms/step - loss: 0.2582 - accuracy: 0.9055 - val_loss: 0.4731 - val_accuracy: 0.8154\n",
            "Epoch 3/15\n",
            "490/490 [==============================] - 72s 147ms/step - loss: 0.1250 - accuracy: 0.9560 - val_loss: 0.6110 - val_accuracy: 0.8202\n",
            "Epoch 4/15\n",
            "490/490 [==============================] - 71s 145ms/step - loss: 0.0744 - accuracy: 0.9753 - val_loss: 0.7301 - val_accuracy: 0.8115\n",
            "Epoch 5/15\n",
            "490/490 [==============================] - 73s 148ms/step - loss: 0.0502 - accuracy: 0.9819 - val_loss: 0.8827 - val_accuracy: 0.8006\n"
          ]
        }
      ]
    }
  ]
}