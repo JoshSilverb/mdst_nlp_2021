{
  "nbformat": 4,
  "nbformat_minor": 5,
  "metadata": {
    "kernelspec": {
      "display_name": "Python 3 (ipykernel)",
      "language": "python",
      "name": "python3"
    },
    "language_info": {
      "codemirror_mode": {
        "name": "ipython",
        "version": 3
      },
      "file_extension": ".py",
      "mimetype": "text/x-python",
      "name": "python",
      "nbconvert_exporter": "python",
      "pygments_lexer": "ipython3",
      "version": "3.9.7"
    },
    "colab": {
      "name": "EDA_Ensemble_mlp_sentance_len_stop_words.ipynb",
      "provenance": [],
      "collapsed_sections": [
        "445b5503",
        "86b02f65",
        "5f70ad16",
        "b9d5c042",
        "18c226eb"
      ]
    }
  },
  "cells": [
    {
      "cell_type": "code",
      "metadata": {
        "id": "20b17617"
      },
      "source": [
        "import numpy as np\n",
        "import tensorflow as tf\n",
        "import pandas as pd\n",
        "from sklearn.model_selection import train_test_split\n",
        "#import matplotlib.pyplot as plt\n",
        "#import seaborn as sns\n",
        "from sklearn.metrics import f1_score\n",
        "from keras.wrappers.scikit_learn import KerasClassifier\n",
        "from sklearn.model_selection import RandomizedSearchCV, GridSearchCV"
      ],
      "id": "20b17617",
      "execution_count": null,
      "outputs": []
    },
    {
      "cell_type": "code",
      "metadata": {
        "id": "0372a154"
      },
      "source": [
        "#import os            ##  This module is for \"operating system\" interfaces\n",
        "#import sys           ##  This module is for functionality relevant to the python run time\n",
        "#path_to_datafolder = 'C:/Users/mjdom/source/repos/mdst_nlp_2021/data'\n",
        "#print(os.listdir(path_to_datafolder))"
      ],
      "id": "0372a154",
      "execution_count": null,
      "outputs": []
    },
    {
      "cell_type": "code",
      "metadata": {
        "colab": {
          "base_uri": "https://localhost:8080/",
          "height": 203
        },
        "id": "43f56cb1",
        "outputId": "d8794b46-0d6f-46ac-9ef7-6c7776775412"
      },
      "source": [
        "#df = pd.read_csv(path_to_datafolder+'/train.csv')\n",
        "df = pd.read_csv('train.csv')\n",
        "df.head()"
      ],
      "id": "43f56cb1",
      "execution_count": null,
      "outputs": [
        {
          "output_type": "execute_result",
          "data": {
            "text/html": [
              "<div>\n",
              "<style scoped>\n",
              "    .dataframe tbody tr th:only-of-type {\n",
              "        vertical-align: middle;\n",
              "    }\n",
              "\n",
              "    .dataframe tbody tr th {\n",
              "        vertical-align: top;\n",
              "    }\n",
              "\n",
              "    .dataframe thead th {\n",
              "        text-align: right;\n",
              "    }\n",
              "</style>\n",
              "<table border=\"1\" class=\"dataframe\">\n",
              "  <thead>\n",
              "    <tr style=\"text-align: right;\">\n",
              "      <th></th>\n",
              "      <th>id</th>\n",
              "      <th>text</th>\n",
              "      <th>author</th>\n",
              "    </tr>\n",
              "  </thead>\n",
              "  <tbody>\n",
              "    <tr>\n",
              "      <th>0</th>\n",
              "      <td>id26305</td>\n",
              "      <td>This process, however, afforded me no means of...</td>\n",
              "      <td>EAP</td>\n",
              "    </tr>\n",
              "    <tr>\n",
              "      <th>1</th>\n",
              "      <td>id17569</td>\n",
              "      <td>It never once occurred to me that the fumbling...</td>\n",
              "      <td>HPL</td>\n",
              "    </tr>\n",
              "    <tr>\n",
              "      <th>2</th>\n",
              "      <td>id11008</td>\n",
              "      <td>In his left hand was a gold snuff box, from wh...</td>\n",
              "      <td>EAP</td>\n",
              "    </tr>\n",
              "    <tr>\n",
              "      <th>3</th>\n",
              "      <td>id27763</td>\n",
              "      <td>How lovely is spring As we looked from Windsor...</td>\n",
              "      <td>MWS</td>\n",
              "    </tr>\n",
              "    <tr>\n",
              "      <th>4</th>\n",
              "      <td>id12958</td>\n",
              "      <td>Finding nothing else, not even gold, the Super...</td>\n",
              "      <td>HPL</td>\n",
              "    </tr>\n",
              "  </tbody>\n",
              "</table>\n",
              "</div>"
            ],
            "text/plain": [
              "        id                                               text author\n",
              "0  id26305  This process, however, afforded me no means of...    EAP\n",
              "1  id17569  It never once occurred to me that the fumbling...    HPL\n",
              "2  id11008  In his left hand was a gold snuff box, from wh...    EAP\n",
              "3  id27763  How lovely is spring As we looked from Windsor...    MWS\n",
              "4  id12958  Finding nothing else, not even gold, the Super...    HPL"
            ]
          },
          "metadata": {},
          "execution_count": 30
        }
      ]
    },
    {
      "cell_type": "code",
      "metadata": {
        "id": "4f6b453c"
      },
      "source": [
        "X = df[\"text\"].copy()\n",
        "#X = df[\"text\"]\n",
        "\n",
        "authors = df[\"author\"].copy()\n",
        "\n",
        "# Label data\n",
        "y = []\n",
        "for author in authors:\n",
        "    if author == \"EAP\":\n",
        "        y.append([1, 0, 0])\n",
        "    if author == \"HPL\":\n",
        "        y.append([0, 1, 0])\n",
        "    if author == \"MWS\":\n",
        "        y.append([0, 0, 1])\n",
        "\n",
        "y = np.array(y)\n",
        "\n",
        "y_one_vector = []\n",
        "for author in authors:\n",
        "    if author == \"EAP\":\n",
        "        y_one_vector.append(0)\n",
        "    if author == \"HPL\":\n",
        "        y_one_vector.append(1)\n",
        "    if author == \"MWS\":\n",
        "        y_one_vector.append(2)\n",
        "\n",
        "y_one_vector = np.array(y_one_vector)"
      ],
      "id": "4f6b453c",
      "execution_count": null,
      "outputs": []
    },
    {
      "cell_type": "code",
      "metadata": {
        "id": "c113920b"
      },
      "source": [
        "X_train, X_test, y_train, y_test = train_test_split(X, y, test_size=0.2, random_state=42)"
      ],
      "id": "c113920b",
      "execution_count": null,
      "outputs": []
    },
    {
      "cell_type": "code",
      "metadata": {
        "id": "5d563597"
      },
      "source": [
        "encoder = tf.keras.layers.TextVectorization()\n",
        "encoder.adapt(X)\n"
      ],
      "id": "5d563597",
      "execution_count": null,
      "outputs": []
    },
    {
      "cell_type": "code",
      "metadata": {
        "id": "ea2a0dc2"
      },
      "source": [
        "tf.__version__\n",
        "vocab = encoder.get_vocabulary()"
      ],
      "id": "ea2a0dc2",
      "execution_count": null,
      "outputs": []
    },
    {
      "cell_type": "markdown",
      "metadata": {
        "id": "15938e12"
      },
      "source": [
        "### CNN Model"
      ],
      "id": "15938e12"
    },
    {
      "cell_type": "code",
      "metadata": {
        "id": "4b12003e"
      },
      "source": [
        "class CNN1d(tf.keras.Model):\n",
        "    def __init__(self, conv1_filters, conv1_size, conv2_filters, conv2_size, dense1, encoder):\n",
        "        super(CNN1d, self).__init__()\n",
        "\n",
        "        self.encoder = encoder\n",
        "\n",
        "        vocab = encoder.get_vocabulary()\n",
        "        \n",
        "        self.embedding = tf.keras.layers.Embedding(input_dim=len(vocab),output_dim=64,mask_zero=True)\n",
        "        \n",
        "\n",
        "        self.conv1 = tf.keras.layers.Conv1D(filters=conv1_filters,\n",
        "                            kernel_size=conv1_size,\n",
        "                            padding=\"same\",\n",
        "                            activation=\"relu\",\n",
        "                            data_format=\"channels_last\",\n",
        "                            )\n",
        "        self.conv2 = tf.keras.layers.Conv1D(filters=conv2_filters,\n",
        "                            kernel_size=conv2_size,\n",
        "                            padding=\"same\",\n",
        "                            activation=\"relu\",\n",
        "                            data_format=\"channels_last\",\n",
        "                            )\n",
        "        self.global_pool = tf.keras.layers.GlobalMaxPool1D()\n",
        "        self.dense1 = tf.keras.layers.Dense(dense1, activation='relu')\n",
        "        self.dense2 = tf.keras.layers.Dense(3, activation=\"softmax\")\n",
        "\n",
        "    def call(self, x, training=False):\n",
        "        emb = self.encoder(x)\n",
        "        emb = self.embedding(emb)\n",
        "        conv1 = self.conv1(emb)\n",
        "        conv2 = self.conv2(emb)\n",
        "        z = tf.concat([conv1, conv2], axis=2)\n",
        "        z = self.global_pool(z)\n",
        "        z = self.dense1(z)\n",
        "        z = self.dense2(z)\n",
        "        return z"
      ],
      "id": "4b12003e",
      "execution_count": null,
      "outputs": []
    },
    {
      "cell_type": "code",
      "metadata": {
        "id": "64529b94"
      },
      "source": [
        "def create_model(conv1_filters, conv1_size, conv2_filters, conv2_size, dense1):\n",
        "    model = CNN1d(conv1_filters, conv1_size, conv2_filters, conv2_size, dense1, encoder)\n",
        "    model.compile(loss=tf.keras.losses.CategoricalCrossentropy(),\n",
        "              optimizer=tf.keras.optimizers.Adam(1e-3),\n",
        "              metrics=['accuracy']\n",
        "    )\n",
        "    return model"
      ],
      "id": "64529b94",
      "execution_count": null,
      "outputs": []
    },
    {
      "cell_type": "code",
      "metadata": {
        "colab": {
          "base_uri": "https://localhost:8080/"
        },
        "id": "0f781423",
        "outputId": "6a5b0e14-d637-459c-a702-ea11ad8f2d84"
      },
      "source": [
        "callbacks = [\n",
        "          tf.keras.callbacks.EarlyStopping(monitor='val_loss', patience=3),\n",
        "          tf.keras.callbacks.ModelCheckpoint(\n",
        "            filepath=\"CNN_weights\",\n",
        "            save_weights_only=True,\n",
        "            monitor='val_accuracy',\n",
        "            mode='max',\n",
        "            save_best_only=True)\n",
        "]\n",
        "with tf.device('/device:GPU:0'):\n",
        "    cnn = create_model(128, 6, 128, 5, 128)\n",
        "    history = cnn.fit(X_train, y_train, epochs=1,\n",
        "                      validation_data=(X_test, y_test),\n",
        "                      validation_steps=30,\n",
        "                      callbacks=callbacks)"
      ],
      "id": "0f781423",
      "execution_count": null,
      "outputs": [
        {
          "output_type": "stream",
          "name": "stdout",
          "text": [
            "490/490 [==============================] - 30s 60ms/step - loss: 0.7005 - accuracy: 0.6796 - val_loss: 0.4982 - val_accuracy: 0.8029\n"
          ]
        }
      ]
    },
    {
      "cell_type": "code",
      "metadata": {
        "colab": {
          "base_uri": "https://localhost:8080/"
        },
        "id": "3899f007",
        "outputId": "a3bf6c74-07f4-43f4-aab3-956973b7d0d3"
      },
      "source": [
        "with tf.device('/device:GPU:0'):\n",
        "    cnn.evaluate(X_test, y_test)"
      ],
      "id": "3899f007",
      "execution_count": null,
      "outputs": [
        {
          "output_type": "stream",
          "name": "stdout",
          "text": [
            "123/123 [==============================] - 1s 11ms/step - loss: 0.4983 - accuracy: 0.8026\n"
          ]
        }
      ]
    },
    {
      "cell_type": "markdown",
      "metadata": {
        "id": "8dc46a4b"
      },
      "source": [
        "### N-gram model"
      ],
      "id": "8dc46a4b"
    },
    {
      "cell_type": "code",
      "metadata": {
        "id": "ba5455b3"
      },
      "source": [
        "max_features = 1000000\n",
        "Vectorizer = tf.keras.layers.experimental.preprocessing.TextVectorization(max_tokens=max_features, output_mode='tf-idf', ngrams=2)\n",
        "with tf.device('/device:CPU:0'):\n",
        "    Vectorizer.adapt(X)\n",
        "vocab = Vectorizer.get_vocabulary()"
      ],
      "id": "ba5455b3",
      "execution_count": null,
      "outputs": []
    },
    {
      "cell_type": "code",
      "metadata": {
        "id": "ebd0ee24"
      },
      "source": [
        "model_ngram = tf.keras.Sequential()\n",
        "model_ngram.add(Vectorizer)\n",
        "   \n",
        "model_ngram.add(tf.keras.layers.Dense(25, activation='relu'))\n",
        "model_ngram.add(tf.keras.layers.Dropout(0.2))\n",
        "   \n",
        "model_ngram.add(tf.keras.layers.Dense(3, activation='softmax'))\n",
        "   \n",
        "model_ngram.compile(loss=tf.keras.losses.CategoricalCrossentropy(),\n",
        "             optimizer=tf.keras.optimizers.Adam(1e-3),\n",
        "             metrics=['accuracy'])"
      ],
      "id": "ebd0ee24",
      "execution_count": null,
      "outputs": []
    },
    {
      "cell_type": "code",
      "metadata": {
        "colab": {
          "base_uri": "https://localhost:8080/"
        },
        "id": "f7bfb966",
        "outputId": "53a0d56c-2ba8-4158-84bf-8b067c1b9961"
      },
      "source": [
        "with tf.device('/device:GPU:0'):\n",
        "\n",
        "    model_ngram.fit(X_train, y_train, epochs=1, batch_size=64,\n",
        "             validation_data=(X_test,y_test),\n",
        "             validation_steps=10)\n",
        "\n",
        "pred = model_ngram.predict(df['text'])"
      ],
      "id": "f7bfb966",
      "execution_count": null,
      "outputs": [
        {
          "output_type": "stream",
          "name": "stdout",
          "text": [
            "245/245 [==============================] - 27s 109ms/step - loss: 0.5574 - accuracy: 0.7750 - val_loss: 0.3883 - val_accuracy: 0.8453\n"
          ]
        }
      ]
    },
    {
      "cell_type": "markdown",
      "metadata": {
        "id": "445b5503"
      },
      "source": [
        "### LSTM model"
      ],
      "id": "445b5503"
    },
    {
      "cell_type": "code",
      "metadata": {
        "id": "f04dec0b"
      },
      "source": [
        "LSTM = tf.keras.Sequential()\n",
        "LSTM.add(encoder)\n",
        "LSTM.add(tf.keras.layers.Embedding(input_dim=len(vocab),output_dim=64,mask_zero=True))\n",
        "\n",
        "LSTM.add(tf.keras.layers.Bidirectional(tf.keras.layers.LSTM(64,dropout=0.2,return_sequences=True)))\n",
        "\n",
        "LSTM.add(tf.keras.layers.GlobalMaxPool1D())\n",
        "\n",
        "LSTM.add(tf.keras.layers.Dropout(0.2))\n",
        "   \n",
        "LSTM.add(tf.keras.layers.Dense(3, activation='softmax'))\n",
        "   \n",
        "LSTM.compile(loss=tf.keras.losses.CategoricalCrossentropy(),\n",
        "             optimizer=tf.keras.optimizers.Adam(1e-3),\n",
        "             metrics=['accuracy'])\n"
      ],
      "id": "f04dec0b",
      "execution_count": null,
      "outputs": []
    },
    {
      "cell_type": "code",
      "metadata": {
        "colab": {
          "base_uri": "https://localhost:8080/"
        },
        "id": "a38499c3",
        "outputId": "f1f44919-7682-468e-adf9-e89ba067cb9e"
      },
      "source": [
        "with tf.device('/device:GPU:0'):\n",
        "\n",
        "    LSTM.fit(X_train, y_train, epochs=2, batch_size=64,\n",
        "             validation_data=(X_test,y_test),\n",
        "             validation_steps=10)"
      ],
      "id": "a38499c3",
      "execution_count": null,
      "outputs": [
        {
          "output_type": "stream",
          "name": "stdout",
          "text": [
            "Epoch 1/2\n",
            "245/245 [==============================] - 96s 356ms/step - loss: 0.8032 - accuracy: 0.6286 - val_loss: 0.4895 - val_accuracy: 0.8266\n",
            "Epoch 2/2\n",
            "245/245 [==============================] - 83s 340ms/step - loss: 0.3141 - accuracy: 0.8874 - val_loss: 0.4426 - val_accuracy: 0.8375\n"
          ]
        }
      ]
    },
    {
      "cell_type": "code",
      "metadata": {
        "colab": {
          "base_uri": "https://localhost:8080/"
        },
        "id": "e31ce124",
        "outputId": "a05ebc68-9b14-433f-b5bb-1b3673a4dfa4"
      },
      "source": [
        "LSTM.evaluate(X_test, y_test)"
      ],
      "id": "e31ce124",
      "execution_count": null,
      "outputs": [
        {
          "output_type": "stream",
          "name": "stdout",
          "text": [
            "123/123 [==============================] - 3s 28ms/step - loss: 0.4545 - accuracy: 0.8230\n"
          ]
        },
        {
          "output_type": "execute_result",
          "data": {
            "text/plain": [
              "[0.4545390009880066, 0.8230336904525757]"
            ]
          },
          "metadata": {},
          "execution_count": 44
        }
      ]
    },
    {
      "cell_type": "markdown",
      "metadata": {
        "id": "86b02f65"
      },
      "source": [
        "### Collect predictions"
      ],
      "id": "86b02f65"
    },
    {
      "cell_type": "code",
      "metadata": {
        "id": "bc243835"
      },
      "source": [
        "cnn_pred = cnn.predict(df['text'])\n",
        "ngram_pred = model_ngram.predict(df['text'])\n",
        "LSTM_pred = LSTM.predict(df['text'])"
      ],
      "id": "bc243835",
      "execution_count": null,
      "outputs": []
    },
    {
      "cell_type": "code",
      "metadata": {
        "colab": {
          "base_uri": "https://localhost:8080/",
          "height": 417
        },
        "id": "d93b22c9",
        "outputId": "c14d1a0b-4ea5-4188-f3c9-a8b10f7444bc"
      },
      "source": [
        "ensemble_df = pd.DataFrame({\n",
        "    \"id\": df[\"id\"],\n",
        "    \"EAP_ngram\": ngram_pred[:, 0],\n",
        "    \"HPL_ngram\": ngram_pred[:, 1],\n",
        "    \"MWS_ngram\": ngram_pred[:, 2],\n",
        "    \"EAP_cnn\": cnn_pred[:, 0],\n",
        "    \"HPL_cnn\": cnn_pred[:, 1],\n",
        "    \"MWS_cnn\": cnn_pred[:, 2],\n",
        "    \"EAP_lstm\": LSTM_pred[:, 0],\n",
        "    \"HPL_lstm\": LSTM_pred[:, 1],\n",
        "    \"MWS_lstm\": LSTM_pred[:, 2],\n",
        "\n",
        "    \"actual_author\": df['author']\n",
        "})\n",
        "ensemble_df"
      ],
      "id": "d93b22c9",
      "execution_count": null,
      "outputs": [
        {
          "output_type": "execute_result",
          "data": {
            "text/html": [
              "<div>\n",
              "<style scoped>\n",
              "    .dataframe tbody tr th:only-of-type {\n",
              "        vertical-align: middle;\n",
              "    }\n",
              "\n",
              "    .dataframe tbody tr th {\n",
              "        vertical-align: top;\n",
              "    }\n",
              "\n",
              "    .dataframe thead th {\n",
              "        text-align: right;\n",
              "    }\n",
              "</style>\n",
              "<table border=\"1\" class=\"dataframe\">\n",
              "  <thead>\n",
              "    <tr style=\"text-align: right;\">\n",
              "      <th></th>\n",
              "      <th>id</th>\n",
              "      <th>EAP_ngram</th>\n",
              "      <th>HPL_ngram</th>\n",
              "      <th>MWS_ngram</th>\n",
              "      <th>EAP_cnn</th>\n",
              "      <th>HPL_cnn</th>\n",
              "      <th>MWS_cnn</th>\n",
              "      <th>EAP_lstm</th>\n",
              "      <th>HPL_lstm</th>\n",
              "      <th>MWS_lstm</th>\n",
              "      <th>actual_author</th>\n",
              "    </tr>\n",
              "  </thead>\n",
              "  <tbody>\n",
              "    <tr>\n",
              "      <th>0</th>\n",
              "      <td>id26305</td>\n",
              "      <td>0.997226</td>\n",
              "      <td>0.000522</td>\n",
              "      <td>0.002251</td>\n",
              "      <td>0.910401</td>\n",
              "      <td>0.066274</td>\n",
              "      <td>0.023325</td>\n",
              "      <td>0.996374</td>\n",
              "      <td>0.003226</td>\n",
              "      <td>0.000400</td>\n",
              "      <td>EAP</td>\n",
              "    </tr>\n",
              "    <tr>\n",
              "      <th>1</th>\n",
              "      <td>id17569</td>\n",
              "      <td>0.031950</td>\n",
              "      <td>0.939530</td>\n",
              "      <td>0.028520</td>\n",
              "      <td>0.071288</td>\n",
              "      <td>0.901178</td>\n",
              "      <td>0.027535</td>\n",
              "      <td>0.090181</td>\n",
              "      <td>0.895979</td>\n",
              "      <td>0.013840</td>\n",
              "      <td>HPL</td>\n",
              "    </tr>\n",
              "    <tr>\n",
              "      <th>2</th>\n",
              "      <td>id11008</td>\n",
              "      <td>0.996263</td>\n",
              "      <td>0.000110</td>\n",
              "      <td>0.003627</td>\n",
              "      <td>0.502240</td>\n",
              "      <td>0.486739</td>\n",
              "      <td>0.011020</td>\n",
              "      <td>0.989578</td>\n",
              "      <td>0.009477</td>\n",
              "      <td>0.000944</td>\n",
              "      <td>EAP</td>\n",
              "    </tr>\n",
              "    <tr>\n",
              "      <th>3</th>\n",
              "      <td>id27763</td>\n",
              "      <td>0.000347</td>\n",
              "      <td>0.000016</td>\n",
              "      <td>0.999637</td>\n",
              "      <td>0.014717</td>\n",
              "      <td>0.009851</td>\n",
              "      <td>0.975432</td>\n",
              "      <td>0.004662</td>\n",
              "      <td>0.001458</td>\n",
              "      <td>0.993881</td>\n",
              "      <td>MWS</td>\n",
              "    </tr>\n",
              "    <tr>\n",
              "      <th>4</th>\n",
              "      <td>id12958</td>\n",
              "      <td>0.039937</td>\n",
              "      <td>0.956385</td>\n",
              "      <td>0.003678</td>\n",
              "      <td>0.082752</td>\n",
              "      <td>0.906579</td>\n",
              "      <td>0.010670</td>\n",
              "      <td>0.097371</td>\n",
              "      <td>0.891301</td>\n",
              "      <td>0.011328</td>\n",
              "      <td>HPL</td>\n",
              "    </tr>\n",
              "    <tr>\n",
              "      <th>...</th>\n",
              "      <td>...</td>\n",
              "      <td>...</td>\n",
              "      <td>...</td>\n",
              "      <td>...</td>\n",
              "      <td>...</td>\n",
              "      <td>...</td>\n",
              "      <td>...</td>\n",
              "      <td>...</td>\n",
              "      <td>...</td>\n",
              "      <td>...</td>\n",
              "      <td>...</td>\n",
              "    </tr>\n",
              "    <tr>\n",
              "      <th>19574</th>\n",
              "      <td>id17718</td>\n",
              "      <td>0.952896</td>\n",
              "      <td>0.040134</td>\n",
              "      <td>0.006970</td>\n",
              "      <td>0.620086</td>\n",
              "      <td>0.205356</td>\n",
              "      <td>0.174557</td>\n",
              "      <td>0.614254</td>\n",
              "      <td>0.261061</td>\n",
              "      <td>0.124685</td>\n",
              "      <td>EAP</td>\n",
              "    </tr>\n",
              "    <tr>\n",
              "      <th>19575</th>\n",
              "      <td>id08973</td>\n",
              "      <td>0.848186</td>\n",
              "      <td>0.013869</td>\n",
              "      <td>0.137945</td>\n",
              "      <td>0.641661</td>\n",
              "      <td>0.006706</td>\n",
              "      <td>0.351634</td>\n",
              "      <td>0.824758</td>\n",
              "      <td>0.050509</td>\n",
              "      <td>0.124733</td>\n",
              "      <td>EAP</td>\n",
              "    </tr>\n",
              "    <tr>\n",
              "      <th>19576</th>\n",
              "      <td>id05267</td>\n",
              "      <td>0.999543</td>\n",
              "      <td>0.000097</td>\n",
              "      <td>0.000360</td>\n",
              "      <td>0.991442</td>\n",
              "      <td>0.005039</td>\n",
              "      <td>0.003519</td>\n",
              "      <td>0.994882</td>\n",
              "      <td>0.003444</td>\n",
              "      <td>0.001674</td>\n",
              "      <td>EAP</td>\n",
              "    </tr>\n",
              "    <tr>\n",
              "      <th>19577</th>\n",
              "      <td>id17513</td>\n",
              "      <td>0.108897</td>\n",
              "      <td>0.847488</td>\n",
              "      <td>0.043615</td>\n",
              "      <td>0.674165</td>\n",
              "      <td>0.158191</td>\n",
              "      <td>0.167643</td>\n",
              "      <td>0.603570</td>\n",
              "      <td>0.282073</td>\n",
              "      <td>0.114357</td>\n",
              "      <td>EAP</td>\n",
              "    </tr>\n",
              "    <tr>\n",
              "      <th>19578</th>\n",
              "      <td>id00393</td>\n",
              "      <td>0.000412</td>\n",
              "      <td>0.999533</td>\n",
              "      <td>0.000055</td>\n",
              "      <td>0.013893</td>\n",
              "      <td>0.978527</td>\n",
              "      <td>0.007580</td>\n",
              "      <td>0.015344</td>\n",
              "      <td>0.980567</td>\n",
              "      <td>0.004088</td>\n",
              "      <td>HPL</td>\n",
              "    </tr>\n",
              "  </tbody>\n",
              "</table>\n",
              "<p>19579 rows × 11 columns</p>\n",
              "</div>"
            ],
            "text/plain": [
              "            id  EAP_ngram  HPL_ngram  ...  HPL_lstm  MWS_lstm  actual_author\n",
              "0      id26305   0.997226   0.000522  ...  0.003226  0.000400            EAP\n",
              "1      id17569   0.031950   0.939530  ...  0.895979  0.013840            HPL\n",
              "2      id11008   0.996263   0.000110  ...  0.009477  0.000944            EAP\n",
              "3      id27763   0.000347   0.000016  ...  0.001458  0.993881            MWS\n",
              "4      id12958   0.039937   0.956385  ...  0.891301  0.011328            HPL\n",
              "...        ...        ...        ...  ...       ...       ...            ...\n",
              "19574  id17718   0.952896   0.040134  ...  0.261061  0.124685            EAP\n",
              "19575  id08973   0.848186   0.013869  ...  0.050509  0.124733            EAP\n",
              "19576  id05267   0.999543   0.000097  ...  0.003444  0.001674            EAP\n",
              "19577  id17513   0.108897   0.847488  ...  0.282073  0.114357            EAP\n",
              "19578  id00393   0.000412   0.999533  ...  0.980567  0.004088            HPL\n",
              "\n",
              "[19579 rows x 11 columns]"
            ]
          },
          "metadata": {},
          "execution_count": 46
        }
      ]
    },
    {
      "cell_type": "code",
      "metadata": {
        "colab": {
          "base_uri": "https://localhost:8080/",
          "height": 417
        },
        "id": "7021d0d0",
        "outputId": "5cb712e4-407a-428d-f4c7-50705c71663e"
      },
      "source": [
        "X_final = ensemble_df[['EAP_ngram', 'HPL_ngram', 'MWS_ngram', \\\n",
        "                       'EAP_cnn', 'HPL_cnn','MWS_cnn', \\\n",
        "                       'EAP_lstm', 'HPL_lstm', 'MWS_lstm']].copy()\n",
        "#, 'EAP_cnn', 'HPL_cnn', 'MWS_cnn'\n",
        "authors_final = ensemble_df[\"actual_author\"].copy()\n",
        "\n",
        "# Label data\n",
        "y_final = []\n",
        "for author in authors_final:\n",
        "    if author == \"EAP\":\n",
        "        y_final.append([1, 0, 0])\n",
        "    if author == \"HPL\":\n",
        "        y_final.append([0, 1, 0])\n",
        "    if author == \"MWS\":\n",
        "        y_final.append([0, 0, 1])\n",
        "\n",
        "y_final = np.array(y_final)\n",
        "X_final"
      ],
      "id": "7021d0d0",
      "execution_count": null,
      "outputs": [
        {
          "output_type": "execute_result",
          "data": {
            "text/html": [
              "<div>\n",
              "<style scoped>\n",
              "    .dataframe tbody tr th:only-of-type {\n",
              "        vertical-align: middle;\n",
              "    }\n",
              "\n",
              "    .dataframe tbody tr th {\n",
              "        vertical-align: top;\n",
              "    }\n",
              "\n",
              "    .dataframe thead th {\n",
              "        text-align: right;\n",
              "    }\n",
              "</style>\n",
              "<table border=\"1\" class=\"dataframe\">\n",
              "  <thead>\n",
              "    <tr style=\"text-align: right;\">\n",
              "      <th></th>\n",
              "      <th>EAP_ngram</th>\n",
              "      <th>HPL_ngram</th>\n",
              "      <th>MWS_ngram</th>\n",
              "      <th>EAP_cnn</th>\n",
              "      <th>HPL_cnn</th>\n",
              "      <th>MWS_cnn</th>\n",
              "      <th>EAP_lstm</th>\n",
              "      <th>HPL_lstm</th>\n",
              "      <th>MWS_lstm</th>\n",
              "    </tr>\n",
              "  </thead>\n",
              "  <tbody>\n",
              "    <tr>\n",
              "      <th>0</th>\n",
              "      <td>0.997226</td>\n",
              "      <td>0.000522</td>\n",
              "      <td>0.002251</td>\n",
              "      <td>0.910401</td>\n",
              "      <td>0.066274</td>\n",
              "      <td>0.023325</td>\n",
              "      <td>0.996374</td>\n",
              "      <td>0.003226</td>\n",
              "      <td>0.000400</td>\n",
              "    </tr>\n",
              "    <tr>\n",
              "      <th>1</th>\n",
              "      <td>0.031950</td>\n",
              "      <td>0.939530</td>\n",
              "      <td>0.028520</td>\n",
              "      <td>0.071288</td>\n",
              "      <td>0.901178</td>\n",
              "      <td>0.027535</td>\n",
              "      <td>0.090181</td>\n",
              "      <td>0.895979</td>\n",
              "      <td>0.013840</td>\n",
              "    </tr>\n",
              "    <tr>\n",
              "      <th>2</th>\n",
              "      <td>0.996263</td>\n",
              "      <td>0.000110</td>\n",
              "      <td>0.003627</td>\n",
              "      <td>0.502240</td>\n",
              "      <td>0.486739</td>\n",
              "      <td>0.011020</td>\n",
              "      <td>0.989578</td>\n",
              "      <td>0.009477</td>\n",
              "      <td>0.000944</td>\n",
              "    </tr>\n",
              "    <tr>\n",
              "      <th>3</th>\n",
              "      <td>0.000347</td>\n",
              "      <td>0.000016</td>\n",
              "      <td>0.999637</td>\n",
              "      <td>0.014717</td>\n",
              "      <td>0.009851</td>\n",
              "      <td>0.975432</td>\n",
              "      <td>0.004662</td>\n",
              "      <td>0.001458</td>\n",
              "      <td>0.993881</td>\n",
              "    </tr>\n",
              "    <tr>\n",
              "      <th>4</th>\n",
              "      <td>0.039937</td>\n",
              "      <td>0.956385</td>\n",
              "      <td>0.003678</td>\n",
              "      <td>0.082752</td>\n",
              "      <td>0.906579</td>\n",
              "      <td>0.010670</td>\n",
              "      <td>0.097371</td>\n",
              "      <td>0.891301</td>\n",
              "      <td>0.011328</td>\n",
              "    </tr>\n",
              "    <tr>\n",
              "      <th>...</th>\n",
              "      <td>...</td>\n",
              "      <td>...</td>\n",
              "      <td>...</td>\n",
              "      <td>...</td>\n",
              "      <td>...</td>\n",
              "      <td>...</td>\n",
              "      <td>...</td>\n",
              "      <td>...</td>\n",
              "      <td>...</td>\n",
              "    </tr>\n",
              "    <tr>\n",
              "      <th>19574</th>\n",
              "      <td>0.952896</td>\n",
              "      <td>0.040134</td>\n",
              "      <td>0.006970</td>\n",
              "      <td>0.620086</td>\n",
              "      <td>0.205356</td>\n",
              "      <td>0.174557</td>\n",
              "      <td>0.614254</td>\n",
              "      <td>0.261061</td>\n",
              "      <td>0.124685</td>\n",
              "    </tr>\n",
              "    <tr>\n",
              "      <th>19575</th>\n",
              "      <td>0.848186</td>\n",
              "      <td>0.013869</td>\n",
              "      <td>0.137945</td>\n",
              "      <td>0.641661</td>\n",
              "      <td>0.006706</td>\n",
              "      <td>0.351634</td>\n",
              "      <td>0.824758</td>\n",
              "      <td>0.050509</td>\n",
              "      <td>0.124733</td>\n",
              "    </tr>\n",
              "    <tr>\n",
              "      <th>19576</th>\n",
              "      <td>0.999543</td>\n",
              "      <td>0.000097</td>\n",
              "      <td>0.000360</td>\n",
              "      <td>0.991442</td>\n",
              "      <td>0.005039</td>\n",
              "      <td>0.003519</td>\n",
              "      <td>0.994882</td>\n",
              "      <td>0.003444</td>\n",
              "      <td>0.001674</td>\n",
              "    </tr>\n",
              "    <tr>\n",
              "      <th>19577</th>\n",
              "      <td>0.108897</td>\n",
              "      <td>0.847488</td>\n",
              "      <td>0.043615</td>\n",
              "      <td>0.674165</td>\n",
              "      <td>0.158191</td>\n",
              "      <td>0.167643</td>\n",
              "      <td>0.603570</td>\n",
              "      <td>0.282073</td>\n",
              "      <td>0.114357</td>\n",
              "    </tr>\n",
              "    <tr>\n",
              "      <th>19578</th>\n",
              "      <td>0.000412</td>\n",
              "      <td>0.999533</td>\n",
              "      <td>0.000055</td>\n",
              "      <td>0.013893</td>\n",
              "      <td>0.978527</td>\n",
              "      <td>0.007580</td>\n",
              "      <td>0.015344</td>\n",
              "      <td>0.980567</td>\n",
              "      <td>0.004088</td>\n",
              "    </tr>\n",
              "  </tbody>\n",
              "</table>\n",
              "<p>19579 rows × 9 columns</p>\n",
              "</div>"
            ],
            "text/plain": [
              "       EAP_ngram  HPL_ngram  MWS_ngram  ...  EAP_lstm  HPL_lstm  MWS_lstm\n",
              "0       0.997226   0.000522   0.002251  ...  0.996374  0.003226  0.000400\n",
              "1       0.031950   0.939530   0.028520  ...  0.090181  0.895979  0.013840\n",
              "2       0.996263   0.000110   0.003627  ...  0.989578  0.009477  0.000944\n",
              "3       0.000347   0.000016   0.999637  ...  0.004662  0.001458  0.993881\n",
              "4       0.039937   0.956385   0.003678  ...  0.097371  0.891301  0.011328\n",
              "...          ...        ...        ...  ...       ...       ...       ...\n",
              "19574   0.952896   0.040134   0.006970  ...  0.614254  0.261061  0.124685\n",
              "19575   0.848186   0.013869   0.137945  ...  0.824758  0.050509  0.124733\n",
              "19576   0.999543   0.000097   0.000360  ...  0.994882  0.003444  0.001674\n",
              "19577   0.108897   0.847488   0.043615  ...  0.603570  0.282073  0.114357\n",
              "19578   0.000412   0.999533   0.000055  ...  0.015344  0.980567  0.004088\n",
              "\n",
              "[19579 rows x 9 columns]"
            ]
          },
          "metadata": {},
          "execution_count": 47
        }
      ]
    },
    {
      "cell_type": "code",
      "metadata": {
        "id": "3cc37cb8"
      },
      "source": [
        "X_train_final, X_test_final, y_train_final, y_test_final = train_test_split(X_final, y_final, test_size=0.2, random_state=42)\n"
      ],
      "id": "3cc37cb8",
      "execution_count": null,
      "outputs": []
    },
    {
      "cell_type": "markdown",
      "metadata": {
        "id": "5f70ad16"
      },
      "source": [
        "### Ensemble (mlp)"
      ],
      "id": "5f70ad16"
    },
    {
      "cell_type": "code",
      "metadata": {
        "id": "0fe555e2"
      },
      "source": [
        "ensemble = tf.keras.Sequential()\n",
        "# for 3 model\n",
        "ensemble.add(tf.keras.layers.Dense(36, activation='relu'))\n",
        "ensemble.add(tf.keras.layers.Dropout(0.2))\n",
        "\n",
        "ensemble.add(tf.keras.layers.Dense(3, activation='softmax'))\n",
        "\n",
        "ensemble.compile(loss=tf.keras.losses.CategoricalCrossentropy(),\n",
        "             optimizer=tf.keras.optimizers.Adam(1e-3),\n",
        "             metrics=['accuracy'])\n",
        "\n",
        "\n",
        "pass_same = tf.keras.Sequential()\n",
        "pass_same.add(tf.keras.layers.InputLayer())\n",
        "pass_same.compile(loss=tf.keras.losses.CategoricalCrossentropy(),\n",
        "             optimizer=tf.keras.optimizers.Adam(1e-3),\n",
        "             metrics=['accuracy'])"
      ],
      "id": "0fe555e2",
      "execution_count": null,
      "outputs": []
    },
    {
      "cell_type": "code",
      "metadata": {
        "colab": {
          "base_uri": "https://localhost:8080/"
        },
        "id": "8267c928",
        "outputId": "3cd7e96a-744d-40e3-c0e1-30f84ade892b"
      },
      "source": [
        "ensemble.fit(X_train_final, y_train_final, epochs=2, batch_size=128,\n",
        "         validation_data=(X_test_final,y_test_final),\n",
        "         validation_steps=10)"
      ],
      "id": "8267c928",
      "execution_count": null,
      "outputs": [
        {
          "output_type": "stream",
          "name": "stdout",
          "text": [
            "Epoch 1/2\n",
            "123/123 [==============================] - 1s 3ms/step - loss: 0.6201 - accuracy: 0.8472 - val_loss: 0.4581 - val_accuracy: 0.8555\n",
            "Epoch 2/2\n",
            "123/123 [==============================] - 0s 2ms/step - loss: 0.1512 - accuracy: 0.9801 - val_loss: 0.3838 - val_accuracy: 0.8602\n"
          ]
        },
        {
          "output_type": "execute_result",
          "data": {
            "text/plain": [
              "<keras.callbacks.History at 0x7f0143bfac90>"
            ]
          },
          "metadata": {},
          "execution_count": 50
        }
      ]
    },
    {
      "cell_type": "code",
      "metadata": {
        "colab": {
          "base_uri": "https://localhost:8080/"
        },
        "id": "5f827148",
        "outputId": "3b91e5c6-3f02-42a7-e8e8-a77a67dff2e8"
      },
      "source": [
        "ensemble.evaluate(X_test_final,y_test_final)\n",
        "model_ngram.evaluate(X_test,y_test)"
      ],
      "id": "5f827148",
      "execution_count": null,
      "outputs": [
        {
          "output_type": "stream",
          "name": "stdout",
          "text": [
            "123/123 [==============================] - 0s 1ms/step - loss: 0.3884 - accuracy: 0.8567\n",
            "123/123 [==============================] - 3s 24ms/step - loss: 0.3966 - accuracy: 0.8422\n"
          ]
        },
        {
          "output_type": "execute_result",
          "data": {
            "text/plain": [
              "[0.3965936601161957, 0.842185914516449]"
            ]
          },
          "metadata": {},
          "execution_count": 51
        }
      ]
    },
    {
      "cell_type": "code",
      "metadata": {
        "colab": {
          "base_uri": "https://localhost:8080/"
        },
        "id": "8652efcc",
        "outputId": "b9d6679e-560b-414d-f2c2-0a4f83a41650"
      },
      "source": [
        "ngram_results = model_ngram.evaluate(X_test,y_test)\n",
        "LSTM_results =LSTM.evaluate(X_test,y_test)\n",
        "cnn_results =cnn.evaluate(X_test,y_test)\n",
        "\n",
        "ensemble_results =ensemble.evaluate(X_test_final,y_test_final)\n",
        "\n",
        "df_results = pd.DataFrame({\"ngram\":ngram_results,\"cnn\":cnn_results,\\\n",
        "                           \"LSTM\":LSTM_results,\"ensemble\":ensemble_results})"
      ],
      "id": "8652efcc",
      "execution_count": null,
      "outputs": [
        {
          "output_type": "stream",
          "name": "stdout",
          "text": [
            "123/123 [==============================] - 3s 23ms/step - loss: 0.3966 - accuracy: 0.8422\n",
            "123/123 [==============================] - 3s 26ms/step - loss: 0.4545 - accuracy: 0.8230\n",
            "123/123 [==============================] - 1s 10ms/step - loss: 0.4983 - accuracy: 0.8026\n",
            "123/123 [==============================] - 0s 1ms/step - loss: 0.3884 - accuracy: 0.8567\n"
          ]
        }
      ]
    },
    {
      "cell_type": "code",
      "metadata": {
        "colab": {
          "base_uri": "https://localhost:8080/",
          "height": 110
        },
        "id": "e2e6a80a",
        "outputId": "b244cd65-d002-4b21-8bf3-80d9d87ff030"
      },
      "source": [
        "df_results"
      ],
      "id": "e2e6a80a",
      "execution_count": null,
      "outputs": [
        {
          "output_type": "execute_result",
          "data": {
            "text/html": [
              "<div>\n",
              "<style scoped>\n",
              "    .dataframe tbody tr th:only-of-type {\n",
              "        vertical-align: middle;\n",
              "    }\n",
              "\n",
              "    .dataframe tbody tr th {\n",
              "        vertical-align: top;\n",
              "    }\n",
              "\n",
              "    .dataframe thead th {\n",
              "        text-align: right;\n",
              "    }\n",
              "</style>\n",
              "<table border=\"1\" class=\"dataframe\">\n",
              "  <thead>\n",
              "    <tr style=\"text-align: right;\">\n",
              "      <th></th>\n",
              "      <th>ngram</th>\n",
              "      <th>cnn</th>\n",
              "      <th>LSTM</th>\n",
              "      <th>ensemble</th>\n",
              "    </tr>\n",
              "  </thead>\n",
              "  <tbody>\n",
              "    <tr>\n",
              "      <th>0</th>\n",
              "      <td>0.396594</td>\n",
              "      <td>0.498271</td>\n",
              "      <td>0.454539</td>\n",
              "      <td>0.388360</td>\n",
              "    </tr>\n",
              "    <tr>\n",
              "      <th>1</th>\n",
              "      <td>0.842186</td>\n",
              "      <td>0.802605</td>\n",
              "      <td>0.823034</td>\n",
              "      <td>0.856742</td>\n",
              "    </tr>\n",
              "  </tbody>\n",
              "</table>\n",
              "</div>"
            ],
            "text/plain": [
              "      ngram       cnn      LSTM  ensemble\n",
              "0  0.396594  0.498271  0.454539  0.388360\n",
              "1  0.842186  0.802605  0.823034  0.856742"
            ]
          },
          "metadata": {},
          "execution_count": 53
        }
      ]
    },
    {
      "cell_type": "markdown",
      "metadata": {
        "id": "b9d5c042"
      },
      "source": [
        "### Average of level one classifiers"
      ],
      "id": "b9d5c042"
    },
    {
      "cell_type": "code",
      "metadata": {
        "colab": {
          "base_uri": "https://localhost:8080/"
        },
        "id": "0c437a01",
        "outputId": "6c8572b3-669d-46c6-9a3b-a819c5a2309f"
      },
      "source": [
        "all_ave = (cnn_pred+ngram_pred +LSTM_pred )/3\n",
        "X_train_ave, X_test_ave, y_train_ave, y_test_ave = train_test_split(all_ave, y_final, test_size=0.2, random_state=42)\n",
        "\n",
        "\n",
        "\n",
        "pass_same.evaluate(X_test_ave,y_test_final)"
      ],
      "id": "0c437a01",
      "execution_count": null,
      "outputs": [
        {
          "output_type": "stream",
          "name": "stdout",
          "text": [
            "123/123 [==============================] - 0s 1ms/step - loss: 0.3889 - accuracy: 0.8550\n"
          ]
        },
        {
          "output_type": "execute_result",
          "data": {
            "text/plain": [
              "[0.38885003328323364, 0.8549540638923645]"
            ]
          },
          "metadata": {},
          "execution_count": 54
        }
      ]
    },
    {
      "cell_type": "code",
      "metadata": {
        "colab": {
          "base_uri": "https://localhost:8080/",
          "height": 127
        },
        "id": "b25df58b",
        "outputId": "5ce8633f-be66-4aa1-b4b3-a6d3d5ad95e1"
      },
      "source": [
        "df_results['raw_ave'] = pass_same.evaluate(X_test_ave,y_test_final)\n",
        "df_results"
      ],
      "id": "b25df58b",
      "execution_count": null,
      "outputs": [
        {
          "output_type": "stream",
          "name": "stdout",
          "text": [
            "123/123 [==============================] - 0s 1ms/step - loss: 0.3889 - accuracy: 0.8550\n"
          ]
        },
        {
          "output_type": "execute_result",
          "data": {
            "text/html": [
              "<div>\n",
              "<style scoped>\n",
              "    .dataframe tbody tr th:only-of-type {\n",
              "        vertical-align: middle;\n",
              "    }\n",
              "\n",
              "    .dataframe tbody tr th {\n",
              "        vertical-align: top;\n",
              "    }\n",
              "\n",
              "    .dataframe thead th {\n",
              "        text-align: right;\n",
              "    }\n",
              "</style>\n",
              "<table border=\"1\" class=\"dataframe\">\n",
              "  <thead>\n",
              "    <tr style=\"text-align: right;\">\n",
              "      <th></th>\n",
              "      <th>ngram</th>\n",
              "      <th>cnn</th>\n",
              "      <th>LSTM</th>\n",
              "      <th>ensemble</th>\n",
              "      <th>raw_ave</th>\n",
              "    </tr>\n",
              "  </thead>\n",
              "  <tbody>\n",
              "    <tr>\n",
              "      <th>0</th>\n",
              "      <td>0.396594</td>\n",
              "      <td>0.498271</td>\n",
              "      <td>0.454539</td>\n",
              "      <td>0.388360</td>\n",
              "      <td>0.388850</td>\n",
              "    </tr>\n",
              "    <tr>\n",
              "      <th>1</th>\n",
              "      <td>0.842186</td>\n",
              "      <td>0.802605</td>\n",
              "      <td>0.823034</td>\n",
              "      <td>0.856742</td>\n",
              "      <td>0.854954</td>\n",
              "    </tr>\n",
              "  </tbody>\n",
              "</table>\n",
              "</div>"
            ],
            "text/plain": [
              "      ngram       cnn      LSTM  ensemble   raw_ave\n",
              "0  0.396594  0.498271  0.454539  0.388360  0.388850\n",
              "1  0.842186  0.802605  0.823034  0.856742  0.854954"
            ]
          },
          "metadata": {},
          "execution_count": 55
        }
      ]
    },
    {
      "cell_type": "markdown",
      "metadata": {
        "id": "18c226eb"
      },
      "source": [
        "### Linear Regression of predictions"
      ],
      "id": "18c226eb"
    },
    {
      "cell_type": "code",
      "metadata": {
        "id": "9ab848c7"
      },
      "source": [
        "from sklearn.linear_model import LinearRegression\n"
      ],
      "id": "9ab848c7",
      "execution_count": null,
      "outputs": []
    },
    {
      "cell_type": "code",
      "metadata": {
        "id": "fc449d86"
      },
      "source": [
        "lin_reg = LinearRegression(fit_intercept=False).fit(X_train_final, y_train_final)\n"
      ],
      "id": "fc449d86",
      "execution_count": null,
      "outputs": []
    },
    {
      "cell_type": "code",
      "metadata": {
        "colab": {
          "base_uri": "https://localhost:8080/"
        },
        "id": "5a678ad5",
        "outputId": "311939b7-20d8-4f5f-f879-f61fc3636adc"
      },
      "source": [
        "print(lin_reg.score(X_test_final, y_test_final))\n"
      ],
      "id": "5a678ad5",
      "execution_count": null,
      "outputs": [
        {
          "output_type": "stream",
          "name": "stdout",
          "text": [
            "0.6610964175625725\n"
          ]
        },
        {
          "output_type": "stream",
          "name": "stderr",
          "text": [
            "/usr/local/lib/python3.7/dist-packages/sklearn/base.py:434: FutureWarning: The default value of multioutput (not exposed in score method) will change from 'variance_weighted' to 'uniform_average' in 0.23 to keep consistent with 'metrics.r2_score'. To specify the default value manually and avoid the warning, please either call 'metrics.r2_score' directly or make a custom scorer with 'metrics.make_scorer' (the built-in scorer 'r2' uses multioutput='uniform_average').\n",
            "  \"multioutput='uniform_average').\", FutureWarning)\n"
          ]
        }
      ]
    },
    {
      "cell_type": "code",
      "metadata": {
        "colab": {
          "base_uri": "https://localhost:8080/"
        },
        "id": "d23758b2",
        "outputId": "e8210872-356c-4ae0-9142-46b25090b0a3"
      },
      "source": [
        "lin_reg.predict(X_test_final)\n"
      ],
      "id": "d23758b2",
      "execution_count": null,
      "outputs": [
        {
          "output_type": "execute_result",
          "data": {
            "text/plain": [
              "array([[ 1.03067005e+00, -1.18458355e-02, -1.88238975e-02],\n",
              "       [ 3.88791233e-01,  1.89341724e-01,  4.21867311e-01],\n",
              "       [ 1.85261250e-01,  1.50868878e-01,  6.63869917e-01],\n",
              "       ...,\n",
              "       [-4.14296426e-03,  1.01134253e+00, -7.19988020e-03],\n",
              "       [ 1.23418095e-02,  9.90285814e-01, -2.62807240e-03],\n",
              "       [ 1.01979685e+00, -4.58849128e-04, -1.93374846e-02]], dtype=float32)"
            ]
          },
          "metadata": {},
          "execution_count": 61
        }
      ]
    },
    {
      "cell_type": "code",
      "metadata": {
        "colab": {
          "base_uri": "https://localhost:8080/"
        },
        "id": "ef26275b",
        "outputId": "a7f50561-6da0-45b2-854d-a916461d7a60"
      },
      "source": [
        "pass_same.evaluate(lin_reg.predict(X_test_final), y_test_final)"
      ],
      "id": "ef26275b",
      "execution_count": null,
      "outputs": [
        {
          "output_type": "stream",
          "name": "stdout",
          "text": [
            "123/123 [==============================] - 0s 1ms/step - loss: 0.4284 - accuracy: 0.8437\n"
          ]
        },
        {
          "output_type": "execute_result",
          "data": {
            "text/plain": [
              "[0.42837488651275635, 0.8437180519104004]"
            ]
          },
          "metadata": {},
          "execution_count": 62
        }
      ]
    },
    {
      "cell_type": "code",
      "metadata": {
        "colab": {
          "base_uri": "https://localhost:8080/",
          "height": 127
        },
        "id": "47a2f473",
        "outputId": "dc5ea099-8571-4c5f-b3e9-060282b967e1"
      },
      "source": [
        "df_results['Linear_reg'] =pass_same.evaluate(lin_reg.predict(X_test_final), y_test_final)\n",
        "df_results"
      ],
      "id": "47a2f473",
      "execution_count": null,
      "outputs": [
        {
          "output_type": "stream",
          "name": "stdout",
          "text": [
            "123/123 [==============================] - 0s 1ms/step - loss: 0.4284 - accuracy: 0.8437\n"
          ]
        },
        {
          "output_type": "execute_result",
          "data": {
            "text/html": [
              "<div>\n",
              "<style scoped>\n",
              "    .dataframe tbody tr th:only-of-type {\n",
              "        vertical-align: middle;\n",
              "    }\n",
              "\n",
              "    .dataframe tbody tr th {\n",
              "        vertical-align: top;\n",
              "    }\n",
              "\n",
              "    .dataframe thead th {\n",
              "        text-align: right;\n",
              "    }\n",
              "</style>\n",
              "<table border=\"1\" class=\"dataframe\">\n",
              "  <thead>\n",
              "    <tr style=\"text-align: right;\">\n",
              "      <th></th>\n",
              "      <th>ngram</th>\n",
              "      <th>cnn</th>\n",
              "      <th>LSTM</th>\n",
              "      <th>ensemble</th>\n",
              "      <th>raw_ave</th>\n",
              "      <th>Linear_reg</th>\n",
              "    </tr>\n",
              "  </thead>\n",
              "  <tbody>\n",
              "    <tr>\n",
              "      <th>0</th>\n",
              "      <td>0.396594</td>\n",
              "      <td>0.498271</td>\n",
              "      <td>0.454539</td>\n",
              "      <td>0.388360</td>\n",
              "      <td>0.388850</td>\n",
              "      <td>0.428375</td>\n",
              "    </tr>\n",
              "    <tr>\n",
              "      <th>1</th>\n",
              "      <td>0.842186</td>\n",
              "      <td>0.802605</td>\n",
              "      <td>0.823034</td>\n",
              "      <td>0.856742</td>\n",
              "      <td>0.854954</td>\n",
              "      <td>0.843718</td>\n",
              "    </tr>\n",
              "  </tbody>\n",
              "</table>\n",
              "</div>"
            ],
            "text/plain": [
              "      ngram       cnn      LSTM  ensemble   raw_ave  Linear_reg\n",
              "0  0.396594  0.498271  0.454539  0.388360  0.388850    0.428375\n",
              "1  0.842186  0.802605  0.823034  0.856742  0.854954    0.843718"
            ]
          },
          "metadata": {},
          "execution_count": 63
        }
      ]
    },
    {
      "cell_type": "markdown",
      "metadata": {
        "id": "cf19e62f"
      },
      "source": [
        "### EDA on Level one predictions:"
      ],
      "id": "cf19e62f"
    },
    {
      "cell_type": "code",
      "metadata": {
        "colab": {
          "base_uri": "https://localhost:8080/"
        },
        "id": "9d3d4b00",
        "outputId": "28ce860c-9066-4958-eccb-77ad7380aae8"
      },
      "source": [
        "ngram_wrong = np.argmax(X_test_final.values[:,:3], axis = 1) != np.argmax(y_test_final, axis = 1)\n",
        "ind_ngram = np.argwhere(ngram_wrong).reshape(len(np.argwhere(ngram_wrong)),)\n",
        "cnn_wrong = np.argmax(X_test_final.values[:,3:6], axis = 1) != np.argmax(y_test_final, axis = 1)\n",
        "ind_cnn = np.argwhere(cnn_wrong).reshape(len(np.argwhere(cnn_wrong)),)\n",
        "lstm_wrong = np.argmax(X_test_final.values[:,6:9], axis = 1) != np.argmax(y_test_final, axis = 1)\n",
        "ind_lstm = np.argwhere(lstm_wrong).reshape(len(np.argwhere(lstm_wrong)),)\n",
        "\n",
        "\n",
        "\n",
        "all_wrong = set(ind_cnn).intersection(set(ind_ngram),set(ind_lstm))\n",
        "cnn_lstm_wrong = set(ind_cnn).intersection(set(ind_lstm))\n",
        "ngram_lstm_wrong = set(ind_ngram).intersection(set(ind_lstm))\n",
        "cnn_ngram_wrong = set(ind_cnn).intersection(set(ind_ngram))\n",
        "\n",
        "\n",
        "print(\"number all wrong\", len(all_wrong))\n",
        "print(\"number ngram wrong\",len(ind_ngram))\n",
        "\n",
        "print(\"number cnn wrong\",len(ind_cnn))\n",
        "print(\"number lstm wrong\",len(ind_lstm))\n",
        "print('')\n",
        "print('')\n",
        "\n",
        "print('ngram right, cnn/lstm wrong',len(cnn_lstm_wrong.difference(set(ind_ngram))))\n",
        "print('cnn right, ngram/lstm wrong',len(ngram_lstm_wrong.difference(set(ind_cnn))))\n",
        "print('lstm right, cnn/ngram wrong',len(cnn_ngram_wrong.difference(set(ind_lstm))))\n",
        "print('')\n",
        "print('')\n",
        "\n",
        "print('ngram/cnn right, lstm wrong',len(set(ind_lstm).difference(set(ind_ngram).union(set(ind_cnn)))))\n",
        "print('cnn/lstm right, ngram wrong',len(set(ind_ngram).difference(set(ind_lstm).union(set(ind_cnn)))))\n",
        "print('ngram/lstm right, cnn wrong',len(set(ind_cnn).difference(set(ind_ngram).union(set(ind_lstm)))))\n",
        "\n",
        "print(len(all_wrong)/len(y_test_final))"
      ],
      "id": "9d3d4b00",
      "execution_count": null,
      "outputs": [
        {
          "output_type": "stream",
          "name": "stdout",
          "text": [
            "number all wrong 290\n",
            "number ngram wrong 618\n",
            "number cnn wrong 773\n",
            "number lstm wrong 693\n",
            "\n",
            "\n",
            "ngram right, cnn/lstm wrong 173\n",
            "cnn right, ngram/lstm wrong 79\n",
            "lstm right, cnn/ngram wrong 90\n",
            "\n",
            "\n",
            "ngram/cnn right, lstm wrong 151\n",
            "cnn/lstm right, ngram wrong 159\n",
            "ngram/lstm right, cnn wrong 220\n",
            "0.07405515832482125\n"
          ]
        }
      ]
    },
    {
      "cell_type": "code",
      "metadata": {
        "colab": {
          "base_uri": "https://localhost:8080/"
        },
        "id": "9ac6f3e2",
        "outputId": "62a031c6-f1f9-4c81-b3e8-3d992207ea47"
      },
      "source": [
        "X_test.iloc[list(all_wrong)]"
      ],
      "id": "9ac6f3e2",
      "execution_count": null,
      "outputs": [
        {
          "output_type": "execute_result",
          "data": {
            "text/plain": [
              "5746                   He was indubitably a\" \"How can you?\n",
              "14833    Black draperies, likewise, in the gloomy room,...\n",
              "9504     She had spoken also of the Black Man, of her o...\n",
              "5754     When the view of the water again opened out th...\n",
              "11277    His chief amusements were gunning and fishing,...\n",
              "                               ...                        \n",
              "326      Yet she smiled on and still on, uncomplainingl...\n",
              "17294    Then I saw a small black aperture, felt a ghou...\n",
              "2325     I had gazed with wonder, mixed with fear and e...\n",
              "8658     He evidently feared the physical effect of vio...\n",
              "1664     Were not the mightiest men of the olden times ...\n",
              "Name: text, Length: 290, dtype: object"
            ]
          },
          "metadata": {},
          "execution_count": 65
        }
      ]
    },
    {
      "cell_type": "code",
      "metadata": {
        "id": "6f9ee8ce"
      },
      "source": [
        ""
      ],
      "id": "6f9ee8ce",
      "execution_count": null,
      "outputs": []
    },
    {
      "cell_type": "code",
      "metadata": {
        "id": "Q2UzaOBmYGWf"
      },
      "source": [
        "ngram_wrong_text = X_test.iloc[list(ind_ngram)]\n",
        "cnn_wrong_text = X_test.iloc[list(ind_cnn)]\n",
        "lstm_wrong_text = X_test.iloc[list(ind_lstm)]"
      ],
      "id": "Q2UzaOBmYGWf",
      "execution_count": 178,
      "outputs": []
    },
    {
      "cell_type": "code",
      "metadata": {
        "colab": {
          "base_uri": "https://localhost:8080/"
        },
        "id": "0pt0cgECYlo8",
        "outputId": "76db87e7-a7d8-4c3e-8dce-bb99e951e3a1"
      },
      "source": [
        "import nltk\n",
        "from nltk.corpus import stopwords\n",
        "nltk.download('stopwords')"
      ],
      "id": "0pt0cgECYlo8",
      "execution_count": 179,
      "outputs": [
        {
          "output_type": "stream",
          "name": "stdout",
          "text": [
            "[nltk_data] Downloading package stopwords to /root/nltk_data...\n",
            "[nltk_data]   Package stopwords is already up-to-date!\n"
          ]
        },
        {
          "output_type": "execute_result",
          "data": {
            "text/plain": [
              "True"
            ]
          },
          "metadata": {},
          "execution_count": 179
        }
      ]
    },
    {
      "cell_type": "code",
      "metadata": {
        "id": "aIbp69rYZjF-"
      },
      "source": [
        "stop_words = set(stopwords.words('english'))"
      ],
      "id": "aIbp69rYZjF-",
      "execution_count": 180,
      "outputs": []
    },
    {
      "cell_type": "code",
      "metadata": {
        "id": "bV3kakV0cMNp"
      },
      "source": [
        "ngram_wrong_stop_unique = []\n",
        "cnn_wrong_stop_unique = []\n",
        "lstm_wrong_stop_unique = []\n",
        "\n",
        "ngram_wrong_stop_total = []\n",
        "cnn_wrong_stop_total = []\n",
        "lstm_wrong_stop_total = []\n",
        "\n",
        "for sentance in ngram_wrong_text: \n",
        "  ngram_wrong_stop_unique.append(len(set(sentance.split()).intersection(stop_words)))\n",
        "\n",
        "  num = 0\n",
        "  for word in sentance.split(): \n",
        "    if word in stop_words: num+=1\n",
        "  ngram_wrong_stop_total.append(num)\n",
        "\n",
        "for sentance in cnn_wrong_text:\n",
        "  cnn_wrong_stop_unique.append(len(set(sentance.split()).intersection(stop_words)))\n",
        "  num = 0\n",
        "  for word in sentance.split(): \n",
        "    if word in stop_words: num+=1\n",
        "  cnn_wrong_stop_total.append(num)\n",
        "\n",
        "for sentance in lstm_wrong_text:\n",
        "  lstm_wrong_stop_unique.append(len(set(sentance.split()).intersection(stop_words)))\n",
        "  num = 0\n",
        "  for word in sentance.split(): \n",
        "    if word in stop_words: num+=1\n",
        "  lstm_wrong_stop_total.append(num)"
      ],
      "id": "bV3kakV0cMNp",
      "execution_count": 181,
      "outputs": []
    },
    {
      "cell_type": "code",
      "metadata": {
        "colab": {
          "base_uri": "https://localhost:8080/",
          "height": 590
        },
        "id": "EJaGcxE1dqtq",
        "outputId": "25eb9362-38d8-4923-874a-421dd1a3287b"
      },
      "source": [
        "from pandas import Series\n",
        "import matplotlib.pyplot as plt\n",
        "\n",
        "ngram_u = Series(ngram_wrong_stop_unique).value_counts().sort_index()\n",
        "ngram_t = Series(ngram_wrong_stop_total).value_counts().sort_index()\n",
        "\n",
        "cnn_u = Series(cnn_wrong_stop_unique).value_counts().sort_index()\n",
        "cnn_t = Series(cnn_wrong_stop_total).value_counts().sort_index()\n",
        "\n",
        "lstm_u = Series(lstm_wrong_stop_unique).value_counts().sort_index()\n",
        "lstm_t = Series(lstm_wrong_stop_total).value_counts().sort_index()\n",
        "\n",
        "stops_unique = pd.DataFrame({'ngram': ngram_u, 'cnn': cnn_u, 'lstm': lstm_u})\n",
        "stops_total = pd.DataFrame({'ngram': ngram_t, 'cnn': cnn_t, 'lstm': lstm_t})\n",
        "\n",
        "stops_total.plot(title = 'Total Stop Words in Wrong Predictions', xlabel='# stop words', ylabel='frequency')\n",
        "stops_unique.plot(title = 'Unique Stop Words in Wrong Predictions', xlabel='# stop words', ylabel='frequency')"
      ],
      "id": "EJaGcxE1dqtq",
      "execution_count": 182,
      "outputs": [
        {
          "output_type": "execute_result",
          "data": {
            "text/plain": [
              "<matplotlib.axes._subplots.AxesSubplot at 0x7f0136662550>"
            ]
          },
          "metadata": {},
          "execution_count": 182
        },
        {
          "output_type": "display_data",
          "data": {
            "image/png": "[encoded data removed]",
            "text/plain": [
              "<Figure size 432x288 with 1 Axes>"
            ]
          },
          "metadata": {
            "needs_background": "light"
          }
        },
        {
          "output_type": "display_data",
          "data": {
            "image/png": "[encoded data removed]",
            "text/plain": [
              "<Figure size 432x288 with 1 Axes>"
            ]
          },
          "metadata": {
            "needs_background": "light"
          }
        }
      ]
    },
    {
      "cell_type": "code",
      "metadata": {
        "colab": {
          "base_uri": "https://localhost:8080/",
          "height": 407
        },
        "id": "yNbAfhsFnSDq",
        "outputId": "1bbcad4f-c712-4f33-b756-eb44a54eb82a"
      },
      "source": [
        "ngram_wrong_lengths = Series([len(x.split()) for x in ngram_wrong_text]).value_counts().sort_index()\n",
        "cnn_wrong_lengths = Series([len(x.split()) for x in cnn_wrong_text]).value_counts().sort_index()\n",
        "lstm_wrong_lengths = Series([len(x.split()) for x in lstm_wrong_text]).value_counts().sort_index()\n",
        "\n",
        "lengths_df = pd.DataFrame({'ngram': ngram_wrong_lengths, 'cnn': cnn_wrong_lengths, 'lstm': lstm_wrong_lengths})\n",
        "lengths_df.plot(figsize=(8,6),title='Sentance length of wrong predictions')"
      ],
      "id": "yNbAfhsFnSDq",
      "execution_count": 183,
      "outputs": [
        {
          "output_type": "execute_result",
          "data": {
            "text/plain": [
              "<matplotlib.axes._subplots.AxesSubplot at 0x7f0135194b10>"
            ]
          },
          "metadata": {},
          "execution_count": 183
        },
        {
          "output_type": "display_data",
          "data": {
            "image/png": "[encoded data removed]",
            "text/plain": [
              "<Figure size 576x432 with 1 Axes>"
            ]
          },
          "metadata": {
            "needs_background": "light"
          }
        }
      ]
    },
    {
      "cell_type": "code",
      "metadata": {
        "id": "kkrGb2FdrODk",
        "colab": {
          "base_uri": "https://localhost:8080/"
        },
        "outputId": "fc55b6cf-1846-4622-a977-4cc7f5b33c34"
      },
      "source": [
        "lengths_df['ngram'].describe()"
      ],
      "id": "kkrGb2FdrODk",
      "execution_count": 200,
      "outputs": [
        {
          "output_type": "execute_result",
          "data": {
            "text/plain": [
              "count    61.000000\n",
              "mean     10.131148\n",
              "std       9.461281\n",
              "min       1.000000\n",
              "25%       1.000000\n",
              "50%       6.000000\n",
              "75%      19.000000\n",
              "max      33.000000\n",
              "Name: ngram, dtype: float64"
            ]
          },
          "metadata": {},
          "execution_count": 200
        }
      ]
    },
    {
      "cell_type": "code",
      "metadata": {
        "id": "t_bEkt-5tIbo"
      },
      "source": [
        "#only_ngram_right = X_test.iloc[cnn_lstm_wrong.difference(set(ind_ngram))]"
      ],
      "id": "t_bEkt-5tIbo",
      "execution_count": 208,
      "outputs": []
    }
  ]
}