{
  "nbformat": 4,
  "nbformat_minor": 0,
  "metadata": {
    "colab": {
      "name": "Kfold_example.ipynb",
      "provenance": []
    },
    "kernelspec": {
      "name": "python3",
      "display_name": "Python 3"
    },
    "language_info": {
      "name": "python"
    }
  },
  "cells": [
    {
      "cell_type": "code",
      "metadata": {
        "id": "kVcv8kC5zeZl"
      },
      "source": [
        "import numpy as np\n",
        "import tensorflow as tf\n",
        "import pandas as pd\n",
        "from sklearn.model_selection import train_test_split\n",
        "import matplotlib.pyplot as plt\n",
        "import seaborn as sns\n",
        "from sklearn.metrics import f1_score\n",
        "from keras.wrappers.scikit_learn import KerasClassifier\n",
        "from sklearn.model_selection import RandomizedSearchCV, GridSearchCV\n",
        "from sklearn.model_selection import cross_val_score, cross_val_predict,KFold\n",
        "from sklearn.linear_model import LinearRegression\n",
        "from sklearn.metrics import log_loss\n",
        "from sklearn.svm import LinearSVC,SVC"
      ],
      "execution_count": 1,
      "outputs": []
    },
    {
      "cell_type": "code",
      "metadata": {
        "colab": {
          "base_uri": "https://localhost:8080/"
        },
        "id": "q1mHTfKYzkCQ",
        "outputId": "7cf00b42-2420-4cdb-97fe-a178864ec1b4"
      },
      "source": [
        "from google.colab import drive\n",
        "drive.mount('/content/drive')\n"
      ],
      "execution_count": 2,
      "outputs": [
        {
          "output_type": "stream",
          "name": "stdout",
          "text": [
            "Drive already mounted at /content/drive; to attempt to forcibly remount, call drive.mount(\"/content/drive\", force_remount=True).\n"
          ]
        }
      ]
    },
    {
      "cell_type": "code",
      "metadata": {
        "colab": {
          "base_uri": "https://localhost:8080/",
          "height": 53
        },
        "id": "LjZV37Tkzlw3",
        "outputId": "a0747832-614e-44f8-fb8b-0f07d14fee6b"
      },
      "source": [
        "import os            ##  This module is for \"operating system\" interfaces\n",
        "import sys           ##  This module is for functionality relevant to the python run time\n",
        "\n",
        "GOOGLE_PATH_AFTER_MYDRIVE = 'NLP_Textcat/spooky_data/train'\n",
        "GOOGLE_DRIVE_PATH = os.path.join('drive','My Drive', GOOGLE_PATH_AFTER_MYDRIVE)\n",
        "print(os.listdir(GOOGLE_DRIVE_PATH))\n",
        "\n",
        "# Append the directory path of this notebook to what python easily \"sees\"\n",
        "sys.path.append(GOOGLE_DRIVE_PATH)\n",
        "\n",
        "# Make your current working direct\n",
        "GOOGLE_DRIVE_PATH"
      ],
      "execution_count": 3,
      "outputs": [
        {
          "output_type": "stream",
          "name": "stdout",
          "text": [
            "['train.csv']\n"
          ]
        },
        {
          "output_type": "execute_result",
          "data": {
            "application/vnd.google.colaboratory.intrinsic+json": {
              "type": "string"
            },
            "text/plain": [
              "'drive/My Drive/NLP_Textcat/spooky_data/train'"
            ]
          },
          "metadata": {},
          "execution_count": 3
        }
      ]
    },
    {
      "cell_type": "code",
      "metadata": {
        "colab": {
          "base_uri": "https://localhost:8080/",
          "height": 206
        },
        "id": "WSyHZuKxztdn",
        "outputId": "7ed5cccc-47aa-4205-d2fd-beff612bf8bd"
      },
      "source": [
        "df = pd.read_csv('drive/My Drive/NLP_Textcat/spooky_data/train/train.csv')\n",
        "df.head()"
      ],
      "execution_count": 4,
      "outputs": [
        {
          "output_type": "execute_result",
          "data": {
            "text/html": [
              "<div>\n",
              "<style scoped>\n",
              "    .dataframe tbody tr th:only-of-type {\n",
              "        vertical-align: middle;\n",
              "    }\n",
              "\n",
              "    .dataframe tbody tr th {\n",
              "        vertical-align: top;\n",
              "    }\n",
              "\n",
              "    .dataframe thead th {\n",
              "        text-align: right;\n",
              "    }\n",
              "</style>\n",
              "<table border=\"1\" class=\"dataframe\">\n",
              "  <thead>\n",
              "    <tr style=\"text-align: right;\">\n",
              "      <th></th>\n",
              "      <th>id</th>\n",
              "      <th>text</th>\n",
              "      <th>author</th>\n",
              "    </tr>\n",
              "  </thead>\n",
              "  <tbody>\n",
              "    <tr>\n",
              "      <th>0</th>\n",
              "      <td>id26305</td>\n",
              "      <td>This process, however, afforded me no means of...</td>\n",
              "      <td>EAP</td>\n",
              "    </tr>\n",
              "    <tr>\n",
              "      <th>1</th>\n",
              "      <td>id17569</td>\n",
              "      <td>It never once occurred to me that the fumbling...</td>\n",
              "      <td>HPL</td>\n",
              "    </tr>\n",
              "    <tr>\n",
              "      <th>2</th>\n",
              "      <td>id11008</td>\n",
              "      <td>In his left hand was a gold snuff box, from wh...</td>\n",
              "      <td>EAP</td>\n",
              "    </tr>\n",
              "    <tr>\n",
              "      <th>3</th>\n",
              "      <td>id27763</td>\n",
              "      <td>How lovely is spring As we looked from Windsor...</td>\n",
              "      <td>MWS</td>\n",
              "    </tr>\n",
              "    <tr>\n",
              "      <th>4</th>\n",
              "      <td>id12958</td>\n",
              "      <td>Finding nothing else, not even gold, the Super...</td>\n",
              "      <td>HPL</td>\n",
              "    </tr>\n",
              "  </tbody>\n",
              "</table>\n",
              "</div>"
            ],
            "text/plain": [
              "        id                                               text author\n",
              "0  id26305  This process, however, afforded me no means of...    EAP\n",
              "1  id17569  It never once occurred to me that the fumbling...    HPL\n",
              "2  id11008  In his left hand was a gold snuff box, from wh...    EAP\n",
              "3  id27763  How lovely is spring As we looked from Windsor...    MWS\n",
              "4  id12958  Finding nothing else, not even gold, the Super...    HPL"
            ]
          },
          "metadata": {},
          "execution_count": 4
        }
      ]
    },
    {
      "cell_type": "code",
      "metadata": {
        "id": "bI6T1l-4zv03"
      },
      "source": [
        "\n",
        "X = df[\"text\"].copy()\n",
        "#X = df[\"text\"]\n",
        "\n",
        "authors = df[\"author\"].copy()\n",
        "\n",
        "# Label data\n",
        "y = []\n",
        "for author in authors:\n",
        "    if author == \"EAP\":\n",
        "        y.append([1, 0, 0])\n",
        "    if author == \"HPL\":\n",
        "        y.append([0, 1, 0])\n",
        "    if author == \"MWS\":\n",
        "        y.append([0, 0, 1])\n",
        "\n",
        "y = np.array(y)\n",
        "\n",
        "y_one_vector = []\n",
        "for author in authors:\n",
        "    if author == \"EAP\":\n",
        "        y_one_vector.append(0)\n",
        "    if author == \"HPL\":\n",
        "        y_one_vector.append(1)\n",
        "    if author == \"MWS\":\n",
        "        y_one_vector.append(2)\n",
        "\n",
        "y_one_vector = np.array(y_one_vector)"
      ],
      "execution_count": 5,
      "outputs": []
    },
    {
      "cell_type": "code",
      "metadata": {
        "id": "GpRuE6uizx5f"
      },
      "source": [
        "encoder = tf.keras.layers.TextVectorization()\n",
        "encoder.adapt(X)\n",
        "\n",
        "max_features = 1000000\n",
        "Vectorizer = tf.keras.layers.TextVectorization(max_tokens=max_features, output_mode='tf_idf', ngrams=2)\n",
        "with tf.device('/device:CPU:0'):\n",
        "  Vectorizer.adapt(X)\n",
        "\n",
        "vocab = encoder.get_vocabulary()"
      ],
      "execution_count": 6,
      "outputs": []
    },
    {
      "cell_type": "code",
      "metadata": {
        "id": "cbjP8zPxz3p3"
      },
      "source": [
        "class CNN1d(tf.keras.Model):\n",
        "    def __init__(self, conv1_filters, conv1_size, conv2_filters, conv2_size, dense1, encoder):\n",
        "        super(CNN1d, self).__init__()\n",
        "\n",
        "        self.encoder = encoder\n",
        "\n",
        "        vocab = encoder.get_vocabulary()\n",
        "        \n",
        "        self.embedding = tf.keras.layers.Embedding(input_dim=len(vocab),output_dim=64,mask_zero=True)\n",
        "        \n",
        "\n",
        "        self.conv1 = tf.keras.layers.Conv1D(filters=conv1_filters,\n",
        "                            kernel_size=conv1_size,\n",
        "                            padding=\"same\",\n",
        "                            activation=\"relu\",\n",
        "                            data_format=\"channels_last\",\n",
        "                            )\n",
        "        self.conv2 = tf.keras.layers.Conv1D(filters=conv2_filters,\n",
        "                            kernel_size=conv2_size,\n",
        "                            padding=\"same\",\n",
        "                            activation=\"relu\",\n",
        "                            data_format=\"channels_last\",\n",
        "                            )\n",
        "        self.global_pool = tf.keras.layers.GlobalMaxPool1D(keepdims=False)\n",
        "        self.dense1 = tf.keras.layers.Dense(dense1, activation='relu')\n",
        "        self.dense2 = tf.keras.layers.Dense(3, activation=\"softmax\")\n",
        "\n",
        "    def call(self, x, training=False):\n",
        "        emb = self.encoder(x)\n",
        "        emb = self.embedding(emb)\n",
        "        conv1 = self.conv1(emb)\n",
        "        conv2 = self.conv2(emb)\n",
        "        z = tf.concat([conv1, conv2], axis=2)\n",
        "        z = self.global_pool(z)\n",
        "        z = self.dense1(z)\n",
        "        z = self.dense2(z)\n",
        "        return z"
      ],
      "execution_count": 7,
      "outputs": []
    },
    {
      "cell_type": "code",
      "metadata": {
        "id": "Bob8Sjtbz5Mv"
      },
      "source": [
        "def create_model(conv1_filters, conv1_size, conv2_filters, conv2_size, dense1):\n",
        "    model = CNN1d(conv1_filters, conv1_size, conv2_filters, conv2_size, dense1, encoder)\n",
        "    model.compile(loss=tf.keras.losses.CategoricalCrossentropy(),\n",
        "              optimizer=tf.keras.optimizers.Adam(1e-3),\n",
        "              metrics=['accuracy']\n",
        "    )\n",
        "    return model\n",
        "\n",
        "def create_ngram():\n",
        "    model_ngram = tf.keras.Sequential()\n",
        "    model_ngram.add(Vectorizer)\n",
        "      \n",
        "    model_ngram.add(tf.keras.layers.Dense(25, activation='relu'))\n",
        "    model_ngram.add(tf.keras.layers.Dropout(0.2))\n",
        "      \n",
        "    model_ngram.add(tf.keras.layers.Dense(3, activation='softmax'))\n",
        "      \n",
        "    model_ngram.compile(loss=tf.keras.losses.CategoricalCrossentropy(),\n",
        "                optimizer=tf.keras.optimizers.Adam(1e-3),\n",
        "                metrics=['accuracy'])\n",
        "    return model_ngram\n",
        "\n",
        "def create_lstm():\n",
        "    LSTM = tf.keras.Sequential()\n",
        "    LSTM.add(encoder)\n",
        "    LSTM.add(tf.keras.layers.Embedding(input_dim=len(vocab),output_dim=64,mask_zero=True))\n",
        "      \n",
        "    LSTM.add(tf.keras.layers.Bidirectional(tf.keras.layers.LSTM(64,dropout=0.2,return_sequences=True)))\n",
        "    LSTM.add(tf.keras.layers.GlobalMaxPool1D())\n",
        "\n",
        "    LSTM.add(tf.keras.layers.Dropout(0.2))\n",
        "      \n",
        "    LSTM.add(tf.keras.layers.Dense(3, activation='softmax'))\n",
        "      \n",
        "    LSTM.compile(loss=tf.keras.losses.CategoricalCrossentropy(),\n",
        "                optimizer=tf.keras.optimizers.Adam(1e-3),\n",
        "                metrics=['accuracy'])\n",
        "    \n",
        "    return LSTM\n",
        "\n",
        "def create_ensemble():\n",
        "    ensemble = tf.keras.Sequential()\n",
        "    # for 3 model\n",
        "    ensemble.add(tf.keras.layers.Dense(36, activation='relu'))\n",
        "    ensemble.add(tf.keras.layers.Dropout(0.2))\n",
        "\n",
        "    ensemble.add(tf.keras.layers.Dense(3, activation='softmax'))\n",
        "    #ensemble.add(tf.keras.layers.InputLayer())\n",
        "\n",
        "    ensemble.compile(loss=tf.keras.losses.CategoricalCrossentropy(),\n",
        "                optimizer=tf.keras.optimizers.Adam(1e-3),\n",
        "                metrics=['accuracy'])\n",
        "\n",
        "    return ensemble\n"
      ],
      "execution_count": 8,
      "outputs": []
    },
    {
      "cell_type": "code",
      "metadata": {
        "id": "V_sWe-F90tK8"
      },
      "source": [
        "max_features = 1000000\n",
        "tfidf_vec = tf.keras.layers.TextVectorization(max_tokens=max_features, output_mode='tf_idf', sparse=True, ngrams=2)\n",
        "\n",
        "with tf.device('/device:CPU:0'):\n",
        "  tfidf_vec.adapt(X)\n",
        "\n",
        "tdidf = tf.keras.Sequential([\n",
        "    tfidf_vec])"
      ],
      "execution_count": 9,
      "outputs": []
    },
    {
      "cell_type": "code",
      "metadata": {
        "colab": {
          "base_uri": "https://localhost:8080/",
          "height": 49
        },
        "id": "kcnlddBUz7F_",
        "outputId": "9079769f-6772-4685-95aa-479bcf91d6b9"
      },
      "source": [
        "df = pd.DataFrame(columns = ['model', 'average', 'logloss'])\n",
        "df"
      ],
      "execution_count": 10,
      "outputs": [
        {
          "output_type": "execute_result",
          "data": {
            "text/html": [
              "<div>\n",
              "<style scoped>\n",
              "    .dataframe tbody tr th:only-of-type {\n",
              "        vertical-align: middle;\n",
              "    }\n",
              "\n",
              "    .dataframe tbody tr th {\n",
              "        vertical-align: top;\n",
              "    }\n",
              "\n",
              "    .dataframe thead th {\n",
              "        text-align: right;\n",
              "    }\n",
              "</style>\n",
              "<table border=\"1\" class=\"dataframe\">\n",
              "  <thead>\n",
              "    <tr style=\"text-align: right;\">\n",
              "      <th></th>\n",
              "      <th>model</th>\n",
              "      <th>average</th>\n",
              "      <th>logloss</th>\n",
              "    </tr>\n",
              "  </thead>\n",
              "  <tbody>\n",
              "  </tbody>\n",
              "</table>\n",
              "</div>"
            ],
            "text/plain": [
              "Empty DataFrame\n",
              "Columns: [model, average, logloss]\n",
              "Index: []"
            ]
          },
          "metadata": {},
          "execution_count": 10
        }
      ]
    },
    {
      "cell_type": "code",
      "metadata": {
        "colab": {
          "base_uri": "https://localhost:8080/"
        },
        "id": "-XcAYPZIz-R_",
        "outputId": "f3caa729-2a33-4bd5-c095-7abb328a766e"
      },
      "source": [
        "kf = KFold(n_splits=10)\n",
        "\n",
        "for train_index, test_index in kf.split(X):\n",
        "\n",
        "  X_train = X.iloc[train_index]\n",
        "  X_test = X.iloc[test_index]\n",
        "  y_train = y[train_index]\n",
        "  y_test = y[test_index]\n",
        "\n",
        "\n",
        "    \n",
        "  x_train_sparce = tdidf.predict(X_train)\n",
        "  x_test_sparce = tdidf.predict(X_test)\n",
        "\n",
        "\n",
        "\n",
        "\n",
        "  cnn = create_model(128, 6, 128, 5, 128)\n",
        "  ngram = create_ngram()\n",
        "  LSTM = create_lstm()\n",
        "  ensemble = create_ensemble()\n",
        "  ensemble_with_tdidf = create_ensemble()\n",
        "\n",
        "  cnn.fit(X_train, y_train, epochs=1 )\n",
        "\n",
        "  ngram.fit(X_train, y_train, epochs=1, batch_size=64)\n",
        "  \n",
        "  LSTM.fit(X_train, y_train, epochs=2, batch_size=64)\n",
        "  \n",
        "\n",
        "  cnn_pred = cnn.predict(X_train)\n",
        "  ngram_pred = ngram.predict(X_train)\n",
        "  LSTM_pred = LSTM.predict(X_train)\n",
        "\n",
        "  cnn_pred_test = cnn.predict(X_test)\n",
        "  ngram_pred_test = ngram.predict(X_test)\n",
        "  LSTM_pred_test = LSTM.predict(X_test)\n",
        "\n",
        "\n",
        "  X_train_ens = np.hstack([ngram_pred,cnn_pred,LSTM_pred])\n",
        "  X_test_ens = np.hstack([ngram_pred_test,cnn_pred_test,LSTM_pred_test])\n",
        "\n",
        "  X_train_final_tensor = tf.sparse.from_dense(X_train_ens)\n",
        "  X_test_final_tensor = tf.sparse.from_dense(X_test_ens)\n",
        "  X_train_concat_tensor = tf.sparse.concat(1,[x_train_sparce, X_train_final_tensor])\n",
        "  X_test_concat_tensor = tf.sparse.concat(1,[x_test_sparce, X_test_final_tensor])\n",
        "\n",
        "\n",
        "  ensemble.fit(X_train_ens, y_train, epochs=2, batch_size=128)\n",
        "  ensemble_with_tdidf.fit(X_train_concat_tensor, y_train, epochs=1, batch_size=256)\n",
        "\n",
        "  ngram_results = ngram.evaluate(X_test,y_test)\n",
        "  LSTM_results =LSTM.evaluate(X_test,y_test)\n",
        "  cnn_results =cnn.evaluate(X_test,y_test)\n",
        "  ensemble_results =ensemble.evaluate(X_test_ens,y_test)\n",
        "  ensemble_with_tdidf_results =ensemble_with_tdidf.evaluate(X_test_concat_tensor,y_test)\n",
        "\n",
        "\n",
        "\n",
        "  lin_reg = LinearRegression(fit_intercept=False, positive= True)\n",
        "  lin_reg.fit(X_train_ens, y_train)\n",
        "  linreg_logloss = log_loss(y_test,lin_reg.predict(X_test_ens))\n",
        "  linreg_acc = np.sum(np.argmax(y_test, axis = 1) == np.argmax(lin_reg.predict(X_test_ens), axis = 1))/len(np.argmax(y_test, axis = 1))\n",
        "\n",
        "\n",
        "  lin_reg2 = LinearRegression(fit_intercept=False, positive= True)\n",
        "  lin_reg2.fit(np.hstack((X_train_ens,ensemble_with_tdidf.predict(X_train_concat_tensor))), y_train)\n",
        "  linreg2_logloss = log_loss(y_test,lin_reg2.predict(np.hstack((X_test_ens,ensemble_with_tdidf.predict(X_test_concat_tensor)\n",
        "  ))))\n",
        "  linreg2_acc = np.sum(np.argmax(y_test, axis = 1) == np.argmax(lin_reg2.predict(np.hstack((X_test_ens,ensemble_with_tdidf.predict(X_test_concat_tensor)\n",
        "  ))), axis = 1))/len(np.argmax(y_test, axis = 1))\n",
        "\n",
        "\n",
        "  df_results = pd.DataFrame({\"model\":['ngram', 'cnn', 'LSTM','ensemble','ensemble_tdidf','lin_reg_1','lin_reg_2'],\\\n",
        "                  \"average\":[ngram_results[1],cnn_results[1],LSTM_results[1],ensemble_results[1],ensemble_with_tdidf_results[1],\\\n",
        "                             linreg_acc, linreg2_acc],\\\n",
        "                  \"logloss\":[ngram_results[0],cnn_results[0],LSTM_results[0],ensemble_results[0],ensemble_with_tdidf_results[0],\\\n",
        "                             linreg_logloss, linreg2_logloss]})\n",
        "\n",
        "  df = df.append(df_results)\n"
      ],
      "execution_count": 11,
      "outputs": [
        {
          "output_type": "stream",
          "name": "stdout",
          "text": [
            "551/551 [==============================] - 32s 56ms/step - loss: 0.6802 - accuracy: 0.6915\n",
            "276/276 [==============================] - 31s 109ms/step - loss: 0.5440 - accuracy: 0.7808\n",
            "Epoch 1/2\n",
            "276/276 [==============================] - 66s 209ms/step - loss: 0.7617 - accuracy: 0.6550\n",
            "Epoch 2/2\n",
            "276/276 [==============================] - 59s 213ms/step - loss: 0.3012 - accuracy: 0.8884\n",
            "Epoch 1/2\n",
            "138/138 [==============================] - 1s 2ms/step - loss: 0.4811 - accuracy: 0.9103\n",
            "Epoch 2/2\n",
            "138/138 [==============================] - 0s 2ms/step - loss: 0.1028 - accuracy: 0.9838\n"
          ]
        },
        {
          "output_type": "stream",
          "name": "stderr",
          "text": [
            "/usr/local/lib/python3.7/dist-packages/tensorflow/python/framework/indexed_slices.py:450: UserWarning: Converting sparse IndexedSlices(IndexedSlices(indices=Tensor(\"gradient_tape/sequential_4/dense_7/embedding_lookup_sparse/Reshape_1:0\", shape=(None,), dtype=int32), values=Tensor(\"gradient_tape/sequential_4/dense_7/embedding_lookup_sparse/Reshape:0\", shape=(None, 36), dtype=float32), dense_shape=Tensor(\"gradient_tape/sequential_4/dense_7/embedding_lookup_sparse/Cast:0\", shape=(2,), dtype=int32))) to a dense Tensor of unknown shape. This may consume a large amount of memory.\n",
            "  \"shape. This may consume a large amount of memory.\" % value)\n"
          ]
        },
        {
          "output_type": "stream",
          "name": "stdout",
          "text": [
            "69/69 [==============================] - 8s 100ms/step - loss: 0.4478 - accuracy: 0.8435\n",
            "62/62 [==============================] - 2s 23ms/step - loss: 0.3647 - accuracy: 0.8616\n",
            "62/62 [==============================] - 4s 25ms/step - loss: 0.4390 - accuracy: 0.8315\n",
            "62/62 [==============================] - 1s 11ms/step - loss: 0.4375 - accuracy: 0.8264\n",
            "62/62 [==============================] - 0s 1ms/step - loss: 0.3702 - accuracy: 0.8667\n",
            "62/62 [==============================] - 0s 2ms/step - loss: 0.3437 - accuracy: 0.8687\n",
            "551/551 [==============================] - 31s 55ms/step - loss: 0.6729 - accuracy: 0.6955\n",
            "276/276 [==============================] - 30s 108ms/step - loss: 0.5421 - accuracy: 0.7794\n",
            "Epoch 1/2\n",
            "276/276 [==============================] - 66s 210ms/step - loss: 0.7436 - accuracy: 0.6676\n",
            "Epoch 2/2\n",
            "276/276 [==============================] - 57s 207ms/step - loss: 0.2901 - accuracy: 0.8934\n",
            "Epoch 1/2\n",
            "138/138 [==============================] - 1s 2ms/step - loss: 0.5354 - accuracy: 0.8632\n",
            "Epoch 2/2\n",
            "138/138 [==============================] - 0s 2ms/step - loss: 0.1204 - accuracy: 0.9806\n"
          ]
        },
        {
          "output_type": "stream",
          "name": "stderr",
          "text": [
            "/usr/local/lib/python3.7/dist-packages/tensorflow/python/framework/indexed_slices.py:450: UserWarning: Converting sparse IndexedSlices(IndexedSlices(indices=Tensor(\"gradient_tape/sequential_8/dense_16/embedding_lookup_sparse/Reshape_1:0\", shape=(None,), dtype=int32), values=Tensor(\"gradient_tape/sequential_8/dense_16/embedding_lookup_sparse/Reshape:0\", shape=(None, 36), dtype=float32), dense_shape=Tensor(\"gradient_tape/sequential_8/dense_16/embedding_lookup_sparse/Cast:0\", shape=(2,), dtype=int32))) to a dense Tensor of unknown shape. This may consume a large amount of memory.\n",
            "  \"shape. This may consume a large amount of memory.\" % value)\n"
          ]
        },
        {
          "output_type": "stream",
          "name": "stdout",
          "text": [
            "69/69 [==============================] - 7s 98ms/step - loss: 0.4610 - accuracy: 0.8388\n",
            "62/62 [==============================] - 2s 24ms/step - loss: 0.3542 - accuracy: 0.8596\n",
            "62/62 [==============================] - 4s 28ms/step - loss: 0.4367 - accuracy: 0.8304\n",
            "62/62 [==============================] - 1s 12ms/step - loss: 0.4591 - accuracy: 0.8228\n",
            "62/62 [==============================] - 0s 1ms/step - loss: 0.3532 - accuracy: 0.8687\n",
            "62/62 [==============================] - 0s 2ms/step - loss: 0.3363 - accuracy: 0.8708\n",
            "551/551 [==============================] - 31s 53ms/step - loss: 0.6637 - accuracy: 0.7073\n",
            "276/276 [==============================] - 31s 110ms/step - loss: 0.5428 - accuracy: 0.7833\n",
            "Epoch 1/2\n",
            "276/276 [==============================] - 65s 201ms/step - loss: 0.7590 - accuracy: 0.6624\n",
            "Epoch 2/2\n",
            "276/276 [==============================] - 56s 204ms/step - loss: 0.3044 - accuracy: 0.8897\n",
            "Epoch 1/2\n",
            "138/138 [==============================] - 1s 2ms/step - loss: 0.6324 - accuracy: 0.8142\n",
            "Epoch 2/2\n",
            "138/138 [==============================] - 0s 2ms/step - loss: 0.1366 - accuracy: 0.9822\n"
          ]
        },
        {
          "output_type": "stream",
          "name": "stderr",
          "text": [
            "/usr/local/lib/python3.7/dist-packages/tensorflow/python/framework/indexed_slices.py:450: UserWarning: Converting sparse IndexedSlices(IndexedSlices(indices=Tensor(\"gradient_tape/sequential_12/dense_25/embedding_lookup_sparse/Reshape_1:0\", shape=(None,), dtype=int32), values=Tensor(\"gradient_tape/sequential_12/dense_25/embedding_lookup_sparse/Reshape:0\", shape=(None, 36), dtype=float32), dense_shape=Tensor(\"gradient_tape/sequential_12/dense_25/embedding_lookup_sparse/Cast:0\", shape=(2,), dtype=int32))) to a dense Tensor of unknown shape. This may consume a large amount of memory.\n",
            "  \"shape. This may consume a large amount of memory.\" % value)\n"
          ]
        },
        {
          "output_type": "stream",
          "name": "stdout",
          "text": [
            "69/69 [==============================] - 8s 102ms/step - loss: 0.4709 - accuracy: 0.8425\n",
            "62/62 [==============================] - 2s 25ms/step - loss: 0.3690 - accuracy: 0.8514\n",
            "62/62 [==============================] - 5s 32ms/step - loss: 0.4412 - accuracy: 0.8304\n",
            "62/62 [==============================] - 1s 14ms/step - loss: 0.4458 - accuracy: 0.8192\n",
            "62/62 [==============================] - 0s 1ms/step - loss: 0.3853 - accuracy: 0.8570\n",
            "62/62 [==============================] - 0s 2ms/step - loss: 0.3473 - accuracy: 0.8682\n",
            "551/551 [==============================] - 31s 55ms/step - loss: 0.6705 - accuracy: 0.7024\n",
            "276/276 [==============================] - 30s 108ms/step - loss: 0.5511 - accuracy: 0.7805\n",
            "Epoch 1/2\n",
            "276/276 [==============================] - 67s 211ms/step - loss: 0.7783 - accuracy: 0.6475\n",
            "Epoch 2/2\n",
            "276/276 [==============================] - 58s 210ms/step - loss: 0.3064 - accuracy: 0.8875\n",
            "Epoch 1/2\n",
            "138/138 [==============================] - 1s 2ms/step - loss: 0.4741 - accuracy: 0.9450\n",
            "Epoch 2/2\n",
            "138/138 [==============================] - 0s 2ms/step - loss: 0.1075 - accuracy: 0.9843\n"
          ]
        },
        {
          "output_type": "stream",
          "name": "stderr",
          "text": [
            "/usr/local/lib/python3.7/dist-packages/tensorflow/python/framework/indexed_slices.py:450: UserWarning: Converting sparse IndexedSlices(IndexedSlices(indices=Tensor(\"gradient_tape/sequential_16/dense_34/embedding_lookup_sparse/Reshape_1:0\", shape=(None,), dtype=int32), values=Tensor(\"gradient_tape/sequential_16/dense_34/embedding_lookup_sparse/Reshape:0\", shape=(None, 36), dtype=float32), dense_shape=Tensor(\"gradient_tape/sequential_16/dense_34/embedding_lookup_sparse/Cast:0\", shape=(2,), dtype=int32))) to a dense Tensor of unknown shape. This may consume a large amount of memory.\n",
            "  \"shape. This may consume a large amount of memory.\" % value)\n"
          ]
        },
        {
          "output_type": "stream",
          "name": "stdout",
          "text": [
            "69/69 [==============================] - 7s 98ms/step - loss: 0.4840 - accuracy: 0.8404\n",
            "62/62 [==============================] - 2s 24ms/step - loss: 0.3754 - accuracy: 0.8498\n",
            "62/62 [==============================] - 4s 25ms/step - loss: 0.4342 - accuracy: 0.8361\n",
            "62/62 [==============================] - 1s 11ms/step - loss: 0.4282 - accuracy: 0.8269\n",
            "62/62 [==============================] - 0s 1ms/step - loss: 0.3649 - accuracy: 0.8652\n",
            "62/62 [==============================] - 0s 2ms/step - loss: 0.3491 - accuracy: 0.8672\n",
            "551/551 [==============================] - 30s 53ms/step - loss: 0.6586 - accuracy: 0.7096\n",
            "276/276 [==============================] - 30s 108ms/step - loss: 0.5509 - accuracy: 0.7805\n",
            "Epoch 1/2\n",
            "276/276 [==============================] - 66s 207ms/step - loss: 0.7383 - accuracy: 0.6700\n",
            "Epoch 2/2\n",
            "276/276 [==============================] - 57s 206ms/step - loss: 0.2905 - accuracy: 0.8943\n",
            "Epoch 1/2\n",
            "138/138 [==============================] - 1s 2ms/step - loss: 0.5621 - accuracy: 0.8885\n",
            "Epoch 2/2\n",
            "138/138 [==============================] - 0s 2ms/step - loss: 0.1169 - accuracy: 0.9860\n"
          ]
        },
        {
          "output_type": "stream",
          "name": "stderr",
          "text": [
            "/usr/local/lib/python3.7/dist-packages/tensorflow/python/framework/indexed_slices.py:450: UserWarning: Converting sparse IndexedSlices(IndexedSlices(indices=Tensor(\"gradient_tape/sequential_20/dense_43/embedding_lookup_sparse/Reshape_1:0\", shape=(None,), dtype=int32), values=Tensor(\"gradient_tape/sequential_20/dense_43/embedding_lookup_sparse/Reshape:0\", shape=(None, 36), dtype=float32), dense_shape=Tensor(\"gradient_tape/sequential_20/dense_43/embedding_lookup_sparse/Cast:0\", shape=(2,), dtype=int32))) to a dense Tensor of unknown shape. This may consume a large amount of memory.\n",
            "  \"shape. This may consume a large amount of memory.\" % value)\n"
          ]
        },
        {
          "output_type": "stream",
          "name": "stdout",
          "text": [
            "69/69 [==============================] - 7s 99ms/step - loss: 0.4543 - accuracy: 0.8460\n",
            "62/62 [==============================] - 2s 24ms/step - loss: 0.3558 - accuracy: 0.8682\n",
            "62/62 [==============================] - 4s 28ms/step - loss: 0.3839 - accuracy: 0.8422\n",
            "62/62 [==============================] - 1s 12ms/step - loss: 0.4072 - accuracy: 0.8427\n",
            "62/62 [==============================] - 0s 1ms/step - loss: 0.3471 - accuracy: 0.8784\n",
            "62/62 [==============================] - 0s 2ms/step - loss: 0.3171 - accuracy: 0.8805\n",
            "551/551 [==============================] - 30s 53ms/step - loss: 0.6737 - accuracy: 0.6978\n",
            "276/276 [==============================] - 30s 107ms/step - loss: 0.5378 - accuracy: 0.7873\n",
            "Epoch 1/2\n",
            "276/276 [==============================] - 67s 211ms/step - loss: 0.7685 - accuracy: 0.6497\n",
            "Epoch 2/2\n",
            "276/276 [==============================] - 58s 211ms/step - loss: 0.3044 - accuracy: 0.8909\n",
            "Epoch 1/2\n",
            "138/138 [==============================] - 1s 2ms/step - loss: 0.5928 - accuracy: 0.8694\n",
            "Epoch 2/2\n",
            "138/138 [==============================] - 0s 2ms/step - loss: 0.1230 - accuracy: 0.9865\n"
          ]
        },
        {
          "output_type": "stream",
          "name": "stderr",
          "text": [
            "/usr/local/lib/python3.7/dist-packages/tensorflow/python/framework/indexed_slices.py:450: UserWarning: Converting sparse IndexedSlices(IndexedSlices(indices=Tensor(\"gradient_tape/sequential_24/dense_52/embedding_lookup_sparse/Reshape_1:0\", shape=(None,), dtype=int32), values=Tensor(\"gradient_tape/sequential_24/dense_52/embedding_lookup_sparse/Reshape:0\", shape=(None, 36), dtype=float32), dense_shape=Tensor(\"gradient_tape/sequential_24/dense_52/embedding_lookup_sparse/Cast:0\", shape=(2,), dtype=int32))) to a dense Tensor of unknown shape. This may consume a large amount of memory.\n",
            "  \"shape. This may consume a large amount of memory.\" % value)\n"
          ]
        },
        {
          "output_type": "stream",
          "name": "stdout",
          "text": [
            "69/69 [==============================] - 7s 99ms/step - loss: 0.4404 - accuracy: 0.8493\n",
            "62/62 [==============================] - 2s 23ms/step - loss: 0.3774 - accuracy: 0.8509\n",
            "62/62 [==============================] - 4s 29ms/step - loss: 0.4429 - accuracy: 0.8309\n",
            "62/62 [==============================] - 1s 12ms/step - loss: 0.4492 - accuracy: 0.8172\n",
            "62/62 [==============================] - 0s 1ms/step - loss: 0.3822 - accuracy: 0.8590\n",
            "62/62 [==============================] - 0s 2ms/step - loss: 0.3547 - accuracy: 0.8652\n",
            "551/551 [==============================] - 31s 54ms/step - loss: 0.6653 - accuracy: 0.7065\n",
            "276/276 [==============================] - 30s 107ms/step - loss: 0.5399 - accuracy: 0.7847\n",
            "Epoch 1/2\n",
            "276/276 [==============================] - 66s 209ms/step - loss: 0.7442 - accuracy: 0.6699\n",
            "Epoch 2/2\n",
            "276/276 [==============================] - 57s 208ms/step - loss: 0.2873 - accuracy: 0.8955\n",
            "Epoch 1/2\n",
            "138/138 [==============================] - 1s 2ms/step - loss: 0.6013 - accuracy: 0.8237\n",
            "Epoch 2/2\n",
            "138/138 [==============================] - 0s 2ms/step - loss: 0.1279 - accuracy: 0.9850\n"
          ]
        },
        {
          "output_type": "stream",
          "name": "stderr",
          "text": [
            "/usr/local/lib/python3.7/dist-packages/tensorflow/python/framework/indexed_slices.py:450: UserWarning: Converting sparse IndexedSlices(IndexedSlices(indices=Tensor(\"gradient_tape/sequential_28/dense_61/embedding_lookup_sparse/Reshape_1:0\", shape=(None,), dtype=int32), values=Tensor(\"gradient_tape/sequential_28/dense_61/embedding_lookup_sparse/Reshape:0\", shape=(None, 36), dtype=float32), dense_shape=Tensor(\"gradient_tape/sequential_28/dense_61/embedding_lookup_sparse/Cast:0\", shape=(2,), dtype=int32))) to a dense Tensor of unknown shape. This may consume a large amount of memory.\n",
            "  \"shape. This may consume a large amount of memory.\" % value)\n"
          ]
        },
        {
          "output_type": "stream",
          "name": "stdout",
          "text": [
            "69/69 [==============================] - 7s 98ms/step - loss: 0.4480 - accuracy: 0.8475\n",
            "62/62 [==============================] - 2s 23ms/step - loss: 0.3776 - accuracy: 0.8483\n",
            "62/62 [==============================] - 4s 29ms/step - loss: 0.4000 - accuracy: 0.8483\n",
            "62/62 [==============================] - 1s 12ms/step - loss: 0.4547 - accuracy: 0.8248\n",
            "62/62 [==============================] - 0s 1ms/step - loss: 0.3649 - accuracy: 0.8682\n",
            "62/62 [==============================] - 0s 2ms/step - loss: 0.3379 - accuracy: 0.8718\n",
            "551/551 [==============================] - 30s 53ms/step - loss: 0.6652 - accuracy: 0.6956\n",
            "276/276 [==============================] - 30s 108ms/step - loss: 0.5545 - accuracy: 0.7796\n",
            "Epoch 1/2\n",
            "276/276 [==============================] - 67s 213ms/step - loss: 0.7491 - accuracy: 0.6666\n",
            "Epoch 2/2\n",
            "276/276 [==============================] - 58s 212ms/step - loss: 0.2940 - accuracy: 0.8939\n",
            "Epoch 1/2\n",
            "138/138 [==============================] - 1s 2ms/step - loss: 0.5468 - accuracy: 0.8721\n",
            "Epoch 2/2\n",
            "138/138 [==============================] - 0s 2ms/step - loss: 0.1209 - accuracy: 0.9838\n"
          ]
        },
        {
          "output_type": "stream",
          "name": "stderr",
          "text": [
            "/usr/local/lib/python3.7/dist-packages/tensorflow/python/framework/indexed_slices.py:450: UserWarning: Converting sparse IndexedSlices(IndexedSlices(indices=Tensor(\"gradient_tape/sequential_32/dense_70/embedding_lookup_sparse/Reshape_1:0\", shape=(None,), dtype=int32), values=Tensor(\"gradient_tape/sequential_32/dense_70/embedding_lookup_sparse/Reshape:0\", shape=(None, 36), dtype=float32), dense_shape=Tensor(\"gradient_tape/sequential_32/dense_70/embedding_lookup_sparse/Cast:0\", shape=(2,), dtype=int32))) to a dense Tensor of unknown shape. This may consume a large amount of memory.\n",
            "  \"shape. This may consume a large amount of memory.\" % value)\n"
          ]
        },
        {
          "output_type": "stream",
          "name": "stdout",
          "text": [
            "69/69 [==============================] - 8s 99ms/step - loss: 0.4583 - accuracy: 0.8503\n",
            "62/62 [==============================] - 2s 25ms/step - loss: 0.3710 - accuracy: 0.8585\n",
            "62/62 [==============================] - 5s 29ms/step - loss: 0.4684 - accuracy: 0.8284\n",
            "62/62 [==============================] - 1s 12ms/step - loss: 0.4441 - accuracy: 0.8223\n",
            "62/62 [==============================] - 0s 1ms/step - loss: 0.3815 - accuracy: 0.8590\n",
            "62/62 [==============================] - 0s 2ms/step - loss: 0.3462 - accuracy: 0.8703\n",
            "551/551 [==============================] - 31s 54ms/step - loss: 0.6738 - accuracy: 0.7014\n",
            "276/276 [==============================] - 31s 109ms/step - loss: 0.5277 - accuracy: 0.7912\n",
            "Epoch 1/2\n",
            "276/276 [==============================] - 66s 213ms/step - loss: 0.7463 - accuracy: 0.6611\n",
            "Epoch 2/2\n",
            "276/276 [==============================] - 59s 212ms/step - loss: 0.2818 - accuracy: 0.8957\n",
            "Epoch 1/2\n",
            "138/138 [==============================] - 1s 2ms/step - loss: 0.5505 - accuracy: 0.8701\n",
            "Epoch 2/2\n",
            "138/138 [==============================] - 0s 2ms/step - loss: 0.1170 - accuracy: 0.9850\n"
          ]
        },
        {
          "output_type": "stream",
          "name": "stderr",
          "text": [
            "/usr/local/lib/python3.7/dist-packages/tensorflow/python/framework/indexed_slices.py:450: UserWarning: Converting sparse IndexedSlices(IndexedSlices(indices=Tensor(\"gradient_tape/sequential_36/dense_79/embedding_lookup_sparse/Reshape_1:0\", shape=(None,), dtype=int32), values=Tensor(\"gradient_tape/sequential_36/dense_79/embedding_lookup_sparse/Reshape:0\", shape=(None, 36), dtype=float32), dense_shape=Tensor(\"gradient_tape/sequential_36/dense_79/embedding_lookup_sparse/Cast:0\", shape=(2,), dtype=int32))) to a dense Tensor of unknown shape. This may consume a large amount of memory.\n",
            "  \"shape. This may consume a large amount of memory.\" % value)\n"
          ]
        },
        {
          "output_type": "stream",
          "name": "stdout",
          "text": [
            "69/69 [==============================] - 8s 99ms/step - loss: 0.4468 - accuracy: 0.8482\n",
            "62/62 [==============================] - 2s 24ms/step - loss: 0.3618 - accuracy: 0.8641\n",
            "62/62 [==============================] - 4s 26ms/step - loss: 0.4230 - accuracy: 0.8376\n",
            "62/62 [==============================] - 1s 11ms/step - loss: 0.4360 - accuracy: 0.8248\n",
            "62/62 [==============================] - 0s 1ms/step - loss: 0.3554 - accuracy: 0.8677\n",
            "62/62 [==============================] - 0s 2ms/step - loss: 0.3351 - accuracy: 0.8713\n",
            "551/551 [==============================] - 30s 54ms/step - loss: 0.6651 - accuracy: 0.6999\n",
            "276/276 [==============================] - 31s 109ms/step - loss: 0.5343 - accuracy: 0.7822\n",
            "Epoch 1/2\n",
            "276/276 [==============================] - 68s 213ms/step - loss: 0.7518 - accuracy: 0.6646\n",
            "Epoch 2/2\n",
            "276/276 [==============================] - 59s 213ms/step - loss: 0.3041 - accuracy: 0.8880\n",
            "Epoch 1/2\n",
            "138/138 [==============================] - 1s 2ms/step - loss: 0.6230 - accuracy: 0.8353\n",
            "Epoch 2/2\n",
            "138/138 [==============================] - 0s 2ms/step - loss: 0.1308 - accuracy: 0.9839\n"
          ]
        },
        {
          "output_type": "stream",
          "name": "stderr",
          "text": [
            "/usr/local/lib/python3.7/dist-packages/tensorflow/python/framework/indexed_slices.py:450: UserWarning: Converting sparse IndexedSlices(IndexedSlices(indices=Tensor(\"gradient_tape/sequential_40/dense_88/embedding_lookup_sparse/Reshape_1:0\", shape=(None,), dtype=int32), values=Tensor(\"gradient_tape/sequential_40/dense_88/embedding_lookup_sparse/Reshape:0\", shape=(None, 36), dtype=float32), dense_shape=Tensor(\"gradient_tape/sequential_40/dense_88/embedding_lookup_sparse/Cast:0\", shape=(2,), dtype=int32))) to a dense Tensor of unknown shape. This may consume a large amount of memory.\n",
            "  \"shape. This may consume a large amount of memory.\" % value)\n"
          ]
        },
        {
          "output_type": "stream",
          "name": "stdout",
          "text": [
            "69/69 [==============================] - 8s 101ms/step - loss: 0.4528 - accuracy: 0.8455\n",
            "62/62 [==============================] - 2s 24ms/step - loss: 0.3855 - accuracy: 0.8523\n",
            "62/62 [==============================] - 5s 28ms/step - loss: 0.4153 - accuracy: 0.8426\n",
            "62/62 [==============================] - 1s 12ms/step - loss: 0.4312 - accuracy: 0.8304\n",
            "62/62 [==============================] - 0s 1ms/step - loss: 0.3662 - accuracy: 0.8682\n",
            "62/62 [==============================] - 0s 2ms/step - loss: 0.3597 - accuracy: 0.8646\n"
          ]
        }
      ]
    },
    {
      "cell_type": "code",
      "metadata": {
        "colab": {
          "base_uri": "https://localhost:8080/",
          "height": 332
        },
        "id": "G7R3Undi0nDH",
        "outputId": "f4a811b8-115a-482d-ce6b-6cb751bb8de5"
      },
      "source": [
        "df.groupby('model').describe()"
      ],
      "execution_count": 12,
      "outputs": [
        {
          "output_type": "execute_result",
          "data": {
            "text/html": [
              "<div>\n",
              "<style scoped>\n",
              "    .dataframe tbody tr th:only-of-type {\n",
              "        vertical-align: middle;\n",
              "    }\n",
              "\n",
              "    .dataframe tbody tr th {\n",
              "        vertical-align: top;\n",
              "    }\n",
              "\n",
              "    .dataframe thead tr th {\n",
              "        text-align: left;\n",
              "    }\n",
              "\n",
              "    .dataframe thead tr:last-of-type th {\n",
              "        text-align: right;\n",
              "    }\n",
              "</style>\n",
              "<table border=\"1\" class=\"dataframe\">\n",
              "  <thead>\n",
              "    <tr>\n",
              "      <th></th>\n",
              "      <th colspan=\"8\" halign=\"left\">average</th>\n",
              "      <th colspan=\"8\" halign=\"left\">logloss</th>\n",
              "    </tr>\n",
              "    <tr>\n",
              "      <th></th>\n",
              "      <th>count</th>\n",
              "      <th>mean</th>\n",
              "      <th>std</th>\n",
              "      <th>min</th>\n",
              "      <th>25%</th>\n",
              "      <th>50%</th>\n",
              "      <th>75%</th>\n",
              "      <th>max</th>\n",
              "      <th>count</th>\n",
              "      <th>mean</th>\n",
              "      <th>std</th>\n",
              "      <th>min</th>\n",
              "      <th>25%</th>\n",
              "      <th>50%</th>\n",
              "      <th>75%</th>\n",
              "      <th>max</th>\n",
              "    </tr>\n",
              "    <tr>\n",
              "      <th>model</th>\n",
              "      <th></th>\n",
              "      <th></th>\n",
              "      <th></th>\n",
              "      <th></th>\n",
              "      <th></th>\n",
              "      <th></th>\n",
              "      <th></th>\n",
              "      <th></th>\n",
              "      <th></th>\n",
              "      <th></th>\n",
              "      <th></th>\n",
              "      <th></th>\n",
              "      <th></th>\n",
              "      <th></th>\n",
              "      <th></th>\n",
              "      <th></th>\n",
              "    </tr>\n",
              "  </thead>\n",
              "  <tbody>\n",
              "    <tr>\n",
              "      <th>LSTM</th>\n",
              "      <td>10.0</td>\n",
              "      <td>0.835845</td>\n",
              "      <td>0.006681</td>\n",
              "      <td>0.828396</td>\n",
              "      <td>0.830567</td>\n",
              "      <td>0.833759</td>\n",
              "      <td>0.841037</td>\n",
              "      <td>0.848315</td>\n",
              "      <td>10.0</td>\n",
              "      <td>0.428474</td>\n",
              "      <td>0.023969</td>\n",
              "      <td>0.383926</td>\n",
              "      <td>0.417268</td>\n",
              "      <td>0.435471</td>\n",
              "      <td>0.440643</td>\n",
              "      <td>0.468366</td>\n",
              "    </tr>\n",
              "    <tr>\n",
              "      <th>cnn</th>\n",
              "      <td>10.0</td>\n",
              "      <td>0.825732</td>\n",
              "      <td>0.007066</td>\n",
              "      <td>0.817160</td>\n",
              "      <td>0.822395</td>\n",
              "      <td>0.824821</td>\n",
              "      <td>0.826736</td>\n",
              "      <td>0.842697</td>\n",
              "      <td>10.0</td>\n",
              "      <td>0.439301</td>\n",
              "      <td>0.014993</td>\n",
              "      <td>0.407225</td>\n",
              "      <td>0.432396</td>\n",
              "      <td>0.440789</td>\n",
              "      <td>0.448356</td>\n",
              "      <td>0.459085</td>\n",
              "    </tr>\n",
              "    <tr>\n",
              "      <th>ensemble</th>\n",
              "      <td>10.0</td>\n",
              "      <td>0.865826</td>\n",
              "      <td>0.006271</td>\n",
              "      <td>0.856997</td>\n",
              "      <td>0.860572</td>\n",
              "      <td>0.867211</td>\n",
              "      <td>0.868216</td>\n",
              "      <td>0.878447</td>\n",
              "      <td>10.0</td>\n",
              "      <td>0.367114</td>\n",
              "      <td>0.012986</td>\n",
              "      <td>0.347134</td>\n",
              "      <td>0.357811</td>\n",
              "      <td>0.365570</td>\n",
              "      <td>0.378712</td>\n",
              "      <td>0.385331</td>\n",
              "    </tr>\n",
              "    <tr>\n",
              "      <th>ensemble_tdidf</th>\n",
              "      <td>10.0</td>\n",
              "      <td>0.869860</td>\n",
              "      <td>0.004480</td>\n",
              "      <td>0.864589</td>\n",
              "      <td>0.867467</td>\n",
              "      <td>0.869510</td>\n",
              "      <td>0.871170</td>\n",
              "      <td>0.880490</td>\n",
              "      <td>10.0</td>\n",
              "      <td>0.342707</td>\n",
              "      <td>0.011954</td>\n",
              "      <td>0.317080</td>\n",
              "      <td>0.336713</td>\n",
              "      <td>0.344938</td>\n",
              "      <td>0.348617</td>\n",
              "      <td>0.359730</td>\n",
              "    </tr>\n",
              "    <tr>\n",
              "      <th>lin_reg_1</th>\n",
              "      <td>10.0</td>\n",
              "      <td>0.856938</td>\n",
              "      <td>0.006826</td>\n",
              "      <td>0.848825</td>\n",
              "      <td>0.851232</td>\n",
              "      <td>0.855465</td>\n",
              "      <td>0.861593</td>\n",
              "      <td>0.868744</td>\n",
              "      <td>10.0</td>\n",
              "      <td>0.368506</td>\n",
              "      <td>0.010078</td>\n",
              "      <td>0.353872</td>\n",
              "      <td>0.362458</td>\n",
              "      <td>0.368880</td>\n",
              "      <td>0.376489</td>\n",
              "      <td>0.384315</td>\n",
              "    </tr>\n",
              "    <tr>\n",
              "      <th>lin_reg_2</th>\n",
              "      <td>10.0</td>\n",
              "      <td>0.870167</td>\n",
              "      <td>0.004518</td>\n",
              "      <td>0.863636</td>\n",
              "      <td>0.868999</td>\n",
              "      <td>0.869765</td>\n",
              "      <td>0.871170</td>\n",
              "      <td>0.880490</td>\n",
              "      <td>10.0</td>\n",
              "      <td>0.338839</td>\n",
              "      <td>0.010939</td>\n",
              "      <td>0.316604</td>\n",
              "      <td>0.332199</td>\n",
              "      <td>0.341282</td>\n",
              "      <td>0.343294</td>\n",
              "      <td>0.355336</td>\n",
              "    </tr>\n",
              "    <tr>\n",
              "      <th>ngram</th>\n",
              "      <td>10.0</td>\n",
              "      <td>0.856479</td>\n",
              "      <td>0.006849</td>\n",
              "      <td>0.848315</td>\n",
              "      <td>0.850996</td>\n",
              "      <td>0.855427</td>\n",
              "      <td>0.861083</td>\n",
              "      <td>0.868233</td>\n",
              "      <td>10.0</td>\n",
              "      <td>0.369239</td>\n",
              "      <td>0.010141</td>\n",
              "      <td>0.354201</td>\n",
              "      <td>0.362509</td>\n",
              "      <td>0.370010</td>\n",
              "      <td>0.376938</td>\n",
              "      <td>0.385483</td>\n",
              "    </tr>\n",
              "  </tbody>\n",
              "</table>\n",
              "</div>"
            ],
            "text/plain": [
              "               average                      ...   logloss                    \n",
              "                 count      mean       std  ...       50%       75%       max\n",
              "model                                       ...                              \n",
              "LSTM              10.0  0.835845  0.006681  ...  0.435471  0.440643  0.468366\n",
              "cnn               10.0  0.825732  0.007066  ...  0.440789  0.448356  0.459085\n",
              "ensemble          10.0  0.865826  0.006271  ...  0.365570  0.378712  0.385331\n",
              "ensemble_tdidf    10.0  0.869860  0.004480  ...  0.344938  0.348617  0.359730\n",
              "lin_reg_1         10.0  0.856938  0.006826  ...  0.368880  0.376489  0.384315\n",
              "lin_reg_2         10.0  0.870167  0.004518  ...  0.341282  0.343294  0.355336\n",
              "ngram             10.0  0.856479  0.006849  ...  0.370010  0.376938  0.385483\n",
              "\n",
              "[7 rows x 16 columns]"
            ]
          },
          "metadata": {},
          "execution_count": 12
        }
      ]
    },
    {
      "cell_type": "code",
      "metadata": {
        "colab": {
          "base_uri": "https://localhost:8080/",
          "height": 362
        },
        "id": "EtGHRot31vIf",
        "outputId": "4ffbdbbe-cbfc-4258-dfc5-58df71fae6a7"
      },
      "source": [
        "fig, ax = plt.subplots(1, 2, figsize=(20, 5))\n",
        "\n",
        "df.boxplot('average',by = 'model', ax=ax[0])\n",
        "df.boxplot('logloss',by = 'model', ax=ax[1])\n",
        "\n",
        "\n",
        "plt.show()"
      ],
      "execution_count": 15,
      "outputs": [
        {
          "output_type": "display_data",
          "data": {
            "image/png": "[encoded data removed]",
            "text/plain": [
              "<Figure size 1440x360 with 2 Axes>"
            ]
          },
          "metadata": {
            "needs_background": "light"
          }
        }
      ]
    },
    {
      "cell_type": "code",
      "metadata": {
        "id": "rAvc56m81yUH"
      },
      "source": [
        ""
      ],
      "execution_count": null,
      "outputs": []
    }
  ]
}