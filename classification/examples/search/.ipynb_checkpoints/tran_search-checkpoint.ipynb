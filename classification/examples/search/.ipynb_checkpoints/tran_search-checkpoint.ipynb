{
 "cells": [
  {
   "cell_type": "code",
   "execution_count": 1,
   "metadata": {
    "executionInfo": {
     "elapsed": 220,
     "status": "ok",
     "timestamp": 1638292375217,
     "user": {
      "displayName": "Michael Dominguez",
      "photoUrl": "https://lh3.googleusercontent.com/a/default-user=s64",
      "userId": "14258183258878183412"
     },
     "user_tz": 300
    },
    "id": "UVEBXpzXyXFy"
   },
   "outputs": [
    {
     "ename": "ModuleNotFoundError",
     "evalue": "No module named 'nltk'",
     "output_type": "error",
     "traceback": [
      "\u001b[1;31m---------------------------------------------------------------------------\u001b[0m",
      "\u001b[1;31mModuleNotFoundError\u001b[0m                       Traceback (most recent call last)",
      "\u001b[1;32m~\\AppData\\Local\\Temp/ipykernel_15372/3741656478.py\u001b[0m in \u001b[0;36m<module>\u001b[1;34m\u001b[0m\n\u001b[0;32m      7\u001b[0m \u001b[1;32mfrom\u001b[0m \u001b[0mkeras\u001b[0m\u001b[1;33m.\u001b[0m\u001b[0mwrappers\u001b[0m\u001b[1;33m.\u001b[0m\u001b[0mscikit_learn\u001b[0m \u001b[1;32mimport\u001b[0m \u001b[0mKerasClassifier\u001b[0m\u001b[1;33m\u001b[0m\u001b[1;33m\u001b[0m\u001b[0m\n\u001b[0;32m      8\u001b[0m \u001b[1;33m\u001b[0m\u001b[0m\n\u001b[1;32m----> 9\u001b[1;33m \u001b[1;32mimport\u001b[0m \u001b[0mnltk\u001b[0m\u001b[1;33m\u001b[0m\u001b[1;33m\u001b[0m\u001b[0m\n\u001b[0m\u001b[0;32m     10\u001b[0m \u001b[1;32mfrom\u001b[0m \u001b[0mnltk\u001b[0m\u001b[1;33m.\u001b[0m\u001b[0mcorpus\u001b[0m \u001b[1;32mimport\u001b[0m \u001b[0mstopwords\u001b[0m\u001b[1;33m\u001b[0m\u001b[1;33m\u001b[0m\u001b[0m\n",
      "\u001b[1;31mModuleNotFoundError\u001b[0m: No module named 'nltk'"
     ]
    }
   ],
   "source": [
    "import numpy as np\n",
    "import tensorflow as tf\n",
    "import pandas as pd\n",
    "from sklearn.model_selection import train_test_split\n",
    "from sklearn.model_selection import GridSearchCV, RandomizedSearchCV\n",
    "\n",
    "from keras.wrappers.scikit_learn import KerasClassifier\n",
    "\n",
    "import nltk\n",
    "from nltk.corpus import stopwords"
   ]
  },
  {
   "cell_type": "code",
   "execution_count": 13,
   "metadata": {
    "colab": {
     "base_uri": "https://localhost:8080/"
    },
    "executionInfo": {
     "elapsed": 154,
     "status": "ok",
     "timestamp": 1638292382354,
     "user": {
      "displayName": "Michael Dominguez",
      "photoUrl": "https://lh3.googleusercontent.com/a/default-user=s64",
      "userId": "14258183258878183412"
     },
     "user_tz": 300
    },
    "id": "EcAkXOn2yquG",
    "outputId": "4c1ae479-ce4b-4e3c-8915-bba3d5b2e401"
   },
   "outputs": [
    {
     "name": "stdout",
     "output_type": "stream",
     "text": [
      "Drive already mounted at /content/drive; to attempt to forcibly remount, call drive.mount(\"/content/drive\", force_remount=True).\n"
     ]
    }
   ],
   "source": [
    "from google.colab import drive\n",
    "drive.mount('/content/drive')"
   ]
  },
  {
   "cell_type": "code",
   "execution_count": 14,
   "metadata": {
    "colab": {
     "base_uri": "https://localhost:8080/",
     "height": 53
    },
    "executionInfo": {
     "elapsed": 5,
     "status": "ok",
     "timestamp": 1638292382898,
     "user": {
      "displayName": "Michael Dominguez",
      "photoUrl": "https://lh3.googleusercontent.com/a/default-user=s64",
      "userId": "14258183258878183412"
     },
     "user_tz": 300
    },
    "id": "8zIZeD45ysb3",
    "outputId": "2acb8768-bc95-4142-e78c-fde3d1e9282e"
   },
   "outputs": [
    {
     "name": "stdout",
     "output_type": "stream",
     "text": [
      "['train.csv']\n"
     ]
    },
    {
     "data": {
      "application/vnd.google.colaboratory.intrinsic+json": {
       "type": "string"
      },
      "text/plain": [
       "'drive/My Drive/NLP_Textcat/spooky_data/train'"
      ]
     },
     "execution_count": 14,
     "metadata": {},
     "output_type": "execute_result"
    }
   ],
   "source": [
    "import os            ##  This module is for \"operating system\" interfaces\n",
    "import sys           ##  This module is for functionality relevant to the python run time\n",
    "\n",
    "GOOGLE_PATH_AFTER_MYDRIVE = 'NLP_Textcat/spooky_data/train'\n",
    "GOOGLE_DRIVE_PATH = os.path.join('drive','My Drive', GOOGLE_PATH_AFTER_MYDRIVE)\n",
    "print(os.listdir(GOOGLE_DRIVE_PATH))\n",
    "\n",
    "# Append the directory path of this notebook to what python easily \"sees\"\n",
    "sys.path.append(GOOGLE_DRIVE_PATH)\n",
    "\n",
    "# Make your current working direct\n",
    "GOOGLE_DRIVE_PATH"
   ]
  },
  {
   "cell_type": "code",
   "execution_count": 2,
   "metadata": {},
   "outputs": [
    {
     "name": "stdout",
     "output_type": "stream",
     "text": [
      "['test.csv', 'train.csv']\n"
     ]
    }
   ],
   "source": [
    "import os            ##  This module is for \"operating system\" interfaces\n",
    "import sys           ##  This module is for functionality relevant to the python run time\n",
    "path_to_datafolder = 'C:/Users/mjdom/source/repos/mdst_nlp_2021/data'\n",
    "print(os.listdir(path_to_datafolder))"
   ]
  },
  {
   "cell_type": "code",
   "execution_count": 3,
   "metadata": {
    "colab": {
     "base_uri": "https://localhost:8080/",
     "height": 206
    },
    "executionInfo": {
     "elapsed": 3,
     "status": "ok",
     "timestamp": 1638292383069,
     "user": {
      "displayName": "Michael Dominguez",
      "photoUrl": "https://lh3.googleusercontent.com/a/default-user=s64",
      "userId": "14258183258878183412"
     },
     "user_tz": 300
    },
    "id": "a3skTZFLyyo4",
    "outputId": "5b76bf55-097f-4264-aeda-9b115852fa8e"
   },
   "outputs": [
    {
     "data": {
      "text/html": [
       "<div>\n",
       "<style scoped>\n",
       "    .dataframe tbody tr th:only-of-type {\n",
       "        vertical-align: middle;\n",
       "    }\n",
       "\n",
       "    .dataframe tbody tr th {\n",
       "        vertical-align: top;\n",
       "    }\n",
       "\n",
       "    .dataframe thead th {\n",
       "        text-align: right;\n",
       "    }\n",
       "</style>\n",
       "<table border=\"1\" class=\"dataframe\">\n",
       "  <thead>\n",
       "    <tr style=\"text-align: right;\">\n",
       "      <th></th>\n",
       "      <th>id</th>\n",
       "      <th>text</th>\n",
       "    </tr>\n",
       "  </thead>\n",
       "  <tbody>\n",
       "    <tr>\n",
       "      <th>0</th>\n",
       "      <td>id02310</td>\n",
       "      <td>Still, as I urged our leaving Ireland with suc...</td>\n",
       "    </tr>\n",
       "    <tr>\n",
       "      <th>1</th>\n",
       "      <td>id24541</td>\n",
       "      <td>If a fire wanted fanning, it could readily be ...</td>\n",
       "    </tr>\n",
       "    <tr>\n",
       "      <th>2</th>\n",
       "      <td>id00134</td>\n",
       "      <td>And when they had broken down the frail door t...</td>\n",
       "    </tr>\n",
       "    <tr>\n",
       "      <th>3</th>\n",
       "      <td>id27757</td>\n",
       "      <td>While I was thinking how I should possibly man...</td>\n",
       "    </tr>\n",
       "    <tr>\n",
       "      <th>4</th>\n",
       "      <td>id04081</td>\n",
       "      <td>I am not sure to what limit his knowledge may ...</td>\n",
       "    </tr>\n",
       "  </tbody>\n",
       "</table>\n",
       "</div>"
      ],
      "text/plain": [
       "        id                                               text\n",
       "0  id02310  Still, as I urged our leaving Ireland with suc...\n",
       "1  id24541  If a fire wanted fanning, it could readily be ...\n",
       "2  id00134  And when they had broken down the frail door t...\n",
       "3  id27757  While I was thinking how I should possibly man...\n",
       "4  id04081  I am not sure to what limit his knowledge may ..."
      ]
     },
     "execution_count": 3,
     "metadata": {},
     "output_type": "execute_result"
    }
   ],
   "source": [
    "\n",
    "\n",
    "df = pd.read_csv(path_to_datafolder+ '/train.csv')\n",
    "df_kaggle = pd.read_csv(path_to_datafolder + '/test.csv')\n",
    "df_kaggle.head()\n",
    "\n",
    "#np.hstack((X,df_kaggle['text']))[0]"
   ]
  },
  {
   "cell_type": "code",
   "execution_count": 4,
   "metadata": {
    "executionInfo": {
     "elapsed": 2,
     "status": "ok",
     "timestamp": 1638292383436,
     "user": {
      "displayName": "Michael Dominguez",
      "photoUrl": "https://lh3.googleusercontent.com/a/default-user=s64",
      "userId": "14258183258878183412"
     },
     "user_tz": 300
    },
    "id": "suOy8JIcy0g_"
   },
   "outputs": [],
   "source": [
    "X = df[\"text\"].copy()\n",
    "#X = df[\"text\"]\n",
    "\n",
    "authors = df[\"author\"].copy()\n",
    "\n",
    "# Label data\n",
    "y = []\n",
    "for author in authors:\n",
    "    if author == \"EAP\":\n",
    "        y.append([1, 0, 0])\n",
    "    if author == \"HPL\":\n",
    "        y.append([0, 1, 0])\n",
    "    if author == \"MWS\":\n",
    "        y.append([0, 0, 1])\n",
    "\n",
    "y = np.array(y)\n"
   ]
  },
  {
   "cell_type": "code",
   "execution_count": 17,
   "metadata": {
    "executionInfo": {
     "elapsed": 1,
     "status": "ok",
     "timestamp": 1638292384200,
     "user": {
      "displayName": "Michael Dominguez",
      "photoUrl": "https://lh3.googleusercontent.com/a/default-user=s64",
      "userId": "14258183258878183412"
     },
     "user_tz": 300
    },
    "id": "_EdrXElay4Kf"
   },
   "outputs": [],
   "source": [
    "from tensorflow import keras\n",
    "from tensorflow.keras import layers\n",
    "\n",
    "class TransformerBlock(layers.Layer):\n",
    "    def __init__(self, embed_dim, num_heads, ff_dim, rate):\n",
    "        super(TransformerBlock, self).__init__()\n",
    "        self.att = layers.MultiHeadAttention(num_heads=num_heads, key_dim=embed_dim)\n",
    "        self.ffn = keras.Sequential(\n",
    "            [layers.Dense(ff_dim, activation=\"relu\"), layers.Dense(embed_dim),]\n",
    "        )\n",
    "        self.layernorm1 = layers.LayerNormalization(epsilon=1e-6)\n",
    "        self.layernorm2 = layers.LayerNormalization(epsilon=1e-6)\n",
    "        self.dropout1 = layers.Dropout(rate)\n",
    "        self.dropout2 = layers.Dropout(rate)\n",
    "\n",
    "\n",
    "\n",
    "    def call(self, inputs, training):\n",
    "        attn_output = self.att(inputs, inputs)\n",
    "        attn_output = self.dropout1(attn_output, training=training)\n",
    "        out1 = self.layernorm1(inputs + attn_output)\n",
    "        ffn_output = self.ffn(out1)\n",
    "        ffn_output = self.dropout2(ffn_output, training=training)\n",
    "        return self.layernorm2(out1 + ffn_output)\n",
    "\n",
    "\n",
    "\n",
    "class TokenAndPositionEmbedding(layers.Layer):\n",
    "    def __init__(self, maxlen, vocab_size, embed_dim):\n",
    "        super(TokenAndPositionEmbedding, self).__init__()\n",
    "        self.token_emb = layers.Embedding(input_dim=vocab_size, output_dim=embed_dim, mask_zero=True)\n",
    "        self.pos_emb = layers.Embedding(input_dim=maxlen, output_dim=embed_dim, mask_zero=True)\n",
    "\n",
    "    def call(self, x):\n",
    "        maxlen = tf.shape(x)[-1]\n",
    "        positions = tf.range(start=0, limit=maxlen, delta=1)\n",
    "        positions = self.pos_emb(positions)\n",
    "        x = self.token_emb(x)\n",
    "        return x + positions"
   ]
  },
  {
   "cell_type": "code",
   "execution_count": 18,
   "metadata": {
    "executionInfo": {
     "elapsed": 1901,
     "status": "ok",
     "timestamp": 1638292386313,
     "user": {
      "displayName": "Michael Dominguez",
      "photoUrl": "https://lh3.googleusercontent.com/a/default-user=s64",
      "userId": "14258183258878183412"
     },
     "user_tz": 300
    },
    "id": "-vlAj1Nyy_Z_"
   },
   "outputs": [],
   "source": [
    "from sklearn.model_selection import GridSearchCV, RandomizedSearchCV\n",
    "\n",
    "from keras.wrappers.scikit_learn import KerasClassifier\n",
    "sequence_length = 100\n",
    "max_features = 1000000\n",
    "# Token locations\n",
    "Vectorizer_transformer = tf.keras.layers.TextVectorization(max_tokens=max_features,output_sequence_length=sequence_length) \n",
    "Vectorizer_transformer.adapt(np.hstack((X,df_kaggle['text'])))\n",
    "vocab = Vectorizer_transformer.get_vocabulary()\n",
    "vocab_size = len(vocab)\n",
    "\n",
    "\n",
    "def create_model(embed_dim=32,num_heads = 2,ff_dim = 32,dropout_rate = 0.2):\n",
    "    \n",
    "    # create model\n",
    "\n",
    "\n",
    "    maxlen = sequence_length\n",
    "\n",
    "    ## Build embedding and transformer\n",
    "    embedding_layer = TokenAndPositionEmbedding(maxlen, vocab_size, embed_dim)\n",
    "    transformer_block = TransformerBlock(embed_dim, num_heads, ff_dim,dropout_rate)\n",
    "\n",
    "    ## Connect Keras Layers\n",
    "    inputs = tf.keras.Input(shape=(1,), dtype=tf.string) \n",
    "    vec = Vectorizer_transformer(inputs)\n",
    "    x = embedding_layer(vec)\n",
    "    x = transformer_block(x)\n",
    "    x = layers.GlobalAveragePooling1D()(x)\n",
    "    outputs = layers.Dense(3, activation=\"softmax\")(x)\n",
    "\n",
    "    transformer = keras.Model(inputs=inputs, outputs=outputs)\n",
    "    transformer.compile(loss=tf.keras.losses.CategoricalCrossentropy(),\n",
    "              optimizer=tf.keras.optimizers.Adam(1e-3),\n",
    "              metrics=['accuracy'])\n",
    "    return transformer"
   ]
  },
  {
   "cell_type": "code",
   "execution_count": 20,
   "metadata": {
    "colab": {
     "base_uri": "https://localhost:8080/"
    },
    "executionInfo": {
     "elapsed": 134,
     "status": "ok",
     "timestamp": 1638292397051,
     "user": {
      "displayName": "Michael Dominguez",
      "photoUrl": "https://lh3.googleusercontent.com/a/default-user=s64",
      "userId": "14258183258878183412"
     },
     "user_tz": 300
    },
    "id": "9U7qjqy4zKjw",
    "outputId": "636a0032-65fd-4f14-8b6f-c19921ec6dfe"
   },
   "outputs": [
    {
     "name": "stderr",
     "output_type": "stream",
     "text": [
      "/usr/local/lib/python3.7/dist-packages/ipykernel_launcher.py:9: DeprecationWarning: KerasClassifier is deprecated, use Sci-Keras (https://github.com/adriangb/scikeras) instead.\n",
      "  if __name__ == '__main__':\n"
     ]
    }
   ],
   "source": [
    "import time\n",
    "\n",
    "# fix random seed for reproducibility\n",
    "seed = 7\n",
    "np.random.seed(seed)\n",
    "# load dataset\n",
    "\n",
    "# create model\n",
    "model = KerasClassifier(build_fn=create_model, batch_size=64, verbose=0)\n",
    "# define the grid search parameters\n",
    "embed_dim = [32,64,128,256]\n",
    "num_heads = [1,2]\n",
    "ff_dim =  [32,64,128,256]\n",
    "dropout_rate = [0.0,0.1,0.2,0.3]\n",
    "epochs = [1,2]\n",
    "\n",
    "param_grid = dict(embed_dim=embed_dim,num_heads = num_heads,ff_dim = ff_dim,\n",
    "                  dropout_rate = dropout_rate, epochs=epochs)\n",
    "#grid = GridSearchCV(estimator=model, scoring = 'neg_log_loss', param_grid=param_grid, n_jobs=1, cv=3, verbose=3)\n",
    "grid = RandomizedSearchCV(model, param_grid, n_iter=2,scoring = 'neg_log_loss', n_jobs=1, cv=3, verbose=3)"
   ]
  },
  {
   "cell_type": "code",
   "execution_count": 21,
   "metadata": {
    "colab": {
     "base_uri": "https://localhost:8080/"
    },
    "executionInfo": {
     "elapsed": 745863,
     "status": "ok",
     "timestamp": 1638293143326,
     "user": {
      "displayName": "Michael Dominguez",
      "photoUrl": "https://lh3.googleusercontent.com/a/default-user=s64",
      "userId": "14258183258878183412"
     },
     "user_tz": 300
    },
    "id": "IsLCl8ca0Nzs",
    "outputId": "ee56a225-f046-4496-ed71-277a6c128de3"
   },
   "outputs": [
    {
     "name": "stdout",
     "output_type": "stream",
     "text": [
      "Fitting 3 folds for each of 2 candidates, totalling 6 fits\n",
      "[CV 1/3] END dropout_rate=0.2, embed_dim=128, epochs=2, ff_dim=256, num_heads=2;, score=-0.455 total time= 2.6min\n",
      "[CV 2/3] END dropout_rate=0.2, embed_dim=128, epochs=2, ff_dim=256, num_heads=2;, score=-0.441 total time= 2.7min\n",
      "[CV 3/3] END dropout_rate=0.2, embed_dim=128, epochs=2, ff_dim=256, num_heads=2;, score=-0.466 total time= 2.6min\n",
      "[CV 1/3] END dropout_rate=0.3, embed_dim=32, epochs=1, ff_dim=128, num_heads=1;, score=-0.747 total time=  17.6s\n",
      "[CV 2/3] END dropout_rate=0.3, embed_dim=32, epochs=1, ff_dim=128, num_heads=1;, score=-0.657 total time=  17.3s\n",
      "[CV 3/3] END dropout_rate=0.3, embed_dim=32, epochs=1, ff_dim=128, num_heads=1;, score=-0.736 total time=  18.1s\n",
      "time search took: 745.7453939914703\n"
     ]
    }
   ],
   "source": [
    "start_time = time.time()\n",
    "grid_result = grid.fit(X, y)\n",
    "stop_time = time.time()\n",
    "\n",
    "# summarize results\n",
    "print('time search took:', stop_time - start_time)"
   ]
  },
  {
   "cell_type": "code",
   "execution_count": 22,
   "metadata": {
    "colab": {
     "base_uri": "https://localhost:8080/"
    },
    "executionInfo": {
     "elapsed": 11,
     "status": "ok",
     "timestamp": 1638293143326,
     "user": {
      "displayName": "Michael Dominguez",
      "photoUrl": "https://lh3.googleusercontent.com/a/default-user=s64",
      "userId": "14258183258878183412"
     },
     "user_tz": 300
    },
    "id": "mHHBYBcV0Tcv",
    "outputId": "659fd5b8-63ac-4e50-b771-43fc199b74a5"
   },
   "outputs": [
    {
     "name": "stdout",
     "output_type": "stream",
     "text": [
      "Best: -0.454200 using {'num_heads': 2, 'ff_dim': 256, 'epochs': 2, 'embed_dim': 128, 'dropout_rate': 0.2}\n"
     ]
    }
   ],
   "source": [
    "print(\"Best: %f using %s\" % (grid_result.best_score_, grid_result.best_params_))\n"
   ]
  },
  {
   "cell_type": "code",
   "execution_count": 23,
   "metadata": {
    "executionInfo": {
     "elapsed": 3,
     "status": "ok",
     "timestamp": 1638293143327,
     "user": {
      "displayName": "Michael Dominguez",
      "photoUrl": "https://lh3.googleusercontent.com/a/default-user=s64",
      "userId": "14258183258878183412"
     },
     "user_tz": 300
    },
    "id": "y-EYwhOg0bs4"
   },
   "outputs": [],
   "source": [
    "means = grid_result.cv_results_['mean_test_score']\n",
    "stds = grid_result.cv_results_['std_test_score']\n",
    "params = grid_result.cv_results_['params']"
   ]
  },
  {
   "cell_type": "code",
   "execution_count": 24,
   "metadata": {
    "executionInfo": {
     "elapsed": 3,
     "status": "ok",
     "timestamp": 1638293143327,
     "user": {
      "displayName": "Michael Dominguez",
      "photoUrl": "https://lh3.googleusercontent.com/a/default-user=s64",
      "userId": "14258183258878183412"
     },
     "user_tz": 300
    },
    "id": "SV2lVU3n0d_3"
   },
   "outputs": [],
   "source": [
    "import pandas as pd\n",
    "import seaborn as sns"
   ]
  },
  {
   "cell_type": "code",
   "execution_count": 25,
   "metadata": {
    "executionInfo": {
     "elapsed": 3,
     "status": "ok",
     "timestamp": 1638293143327,
     "user": {
      "displayName": "Michael Dominguez",
      "photoUrl": "https://lh3.googleusercontent.com/a/default-user=s64",
      "userId": "14258183258878183412"
     },
     "user_tz": 300
    },
    "id": "7RhVj6Y20f5v"
   },
   "outputs": [],
   "source": [
    "d=pd.DataFrame(params)\n",
    "d['Mean']=means\n",
    "d['Std. Dev']=stds"
   ]
  },
  {
   "cell_type": "code",
   "execution_count": 26,
   "metadata": {
    "colab": {
     "base_uri": "https://localhost:8080/",
     "height": 577
    },
    "executionInfo": {
     "elapsed": 1111,
     "status": "ok",
     "timestamp": 1638293144435,
     "user": {
      "displayName": "Michael Dominguez",
      "photoUrl": "https://lh3.googleusercontent.com/a/default-user=s64",
      "userId": "14258183258878183412"
     },
     "user_tz": 300
    },
    "id": "p-c1xuRg0gSf",
    "outputId": "c16e0339-54d9-49bc-c7ec-96ccbb10c308"
   },
   "outputs": [
    {
     "data": {
      "image/png": "[encoded data removed]",
      "text/plain": [
       "<Figure size 1008x576 with 6 Axes>"
      ]
     },
     "metadata": {
      "needs_background": "light"
     },
     "output_type": "display_data"
    }
   ],
   "source": [
    "param_ = [\"num_heads\",\"ff_dim\",\"epochs\",\"embed_dim\",\"dropout_rate\"]\n",
    "import matplotlib.pyplot as plt\n",
    "fig, ax = plt.subplots(2,3,figsize=(14,8), squeeze=False)\n",
    "ax = ax.ravel()\n",
    "for i in range(5):\n",
    "    ax[i].set_title('Distribution of mean accuracy with {}'.format(param_[i]))\n",
    "    sns.violinplot(x=param_[i],y='Mean',data=d,ax=ax[i])\n",
    "fig.tight_layout(pad=1.5)"
   ]
  },
  {
   "cell_type": "code",
   "execution_count": 27,
   "metadata": {
    "colab": {
     "base_uri": "https://localhost:8080/",
     "height": 112
    },
    "executionInfo": {
     "elapsed": 3,
     "status": "ok",
     "timestamp": 1638293144435,
     "user": {
      "displayName": "Michael Dominguez",
      "photoUrl": "https://lh3.googleusercontent.com/a/default-user=s64",
      "userId": "14258183258878183412"
     },
     "user_tz": 300
    },
    "id": "ZiScCgY20kbP",
    "outputId": "86607ada-4429-46c0-87be-101f5386678e"
   },
   "outputs": [
    {
     "data": {
      "text/html": [
       "<div>\n",
       "<style scoped>\n",
       "    .dataframe tbody tr th:only-of-type {\n",
       "        vertical-align: middle;\n",
       "    }\n",
       "\n",
       "    .dataframe tbody tr th {\n",
       "        vertical-align: top;\n",
       "    }\n",
       "\n",
       "    .dataframe thead th {\n",
       "        text-align: right;\n",
       "    }\n",
       "</style>\n",
       "<table border=\"1\" class=\"dataframe\">\n",
       "  <thead>\n",
       "    <tr style=\"text-align: right;\">\n",
       "      <th></th>\n",
       "      <th>num_heads</th>\n",
       "      <th>ff_dim</th>\n",
       "      <th>epochs</th>\n",
       "      <th>embed_dim</th>\n",
       "      <th>dropout_rate</th>\n",
       "      <th>Mean</th>\n",
       "      <th>Std. Dev</th>\n",
       "    </tr>\n",
       "  </thead>\n",
       "  <tbody>\n",
       "    <tr>\n",
       "      <th>0</th>\n",
       "      <td>2</td>\n",
       "      <td>256</td>\n",
       "      <td>2</td>\n",
       "      <td>128</td>\n",
       "      <td>0.2</td>\n",
       "      <td>-0.454200</td>\n",
       "      <td>0.009943</td>\n",
       "    </tr>\n",
       "    <tr>\n",
       "      <th>1</th>\n",
       "      <td>1</td>\n",
       "      <td>128</td>\n",
       "      <td>1</td>\n",
       "      <td>32</td>\n",
       "      <td>0.3</td>\n",
       "      <td>-0.713457</td>\n",
       "      <td>0.040036</td>\n",
       "    </tr>\n",
       "  </tbody>\n",
       "</table>\n",
       "</div>"
      ],
      "text/plain": [
       "   num_heads  ff_dim  epochs  embed_dim  dropout_rate      Mean  Std. Dev\n",
       "0          2     256       2        128           0.2 -0.454200  0.009943\n",
       "1          1     128       1         32           0.3 -0.713457  0.040036"
      ]
     },
     "execution_count": 27,
     "metadata": {},
     "output_type": "execute_result"
    }
   ],
   "source": [
    "d.sort_values(by='Mean',ascending = False)\n"
   ]
  },
  {
   "cell_type": "code",
   "execution_count": null,
   "metadata": {
    "id": "WQv_EgX40mpY"
   },
   "outputs": [],
   "source": []
  },
  {
   "cell_type": "code",
   "execution_count": 28,
   "metadata": {
    "colab": {
     "base_uri": "https://localhost:8080/"
    },
    "executionInfo": {
     "elapsed": 166,
     "status": "ok",
     "timestamp": 1638293144599,
     "user": {
      "displayName": "Michael Dominguez",
      "photoUrl": "https://lh3.googleusercontent.com/a/default-user=s64",
      "userId": "14258183258878183412"
     },
     "user_tz": 300
    },
    "id": "l3tqZUpJ1ED5",
    "outputId": "51148e35-1107-4862-fb04-b22801bad3aa"
   },
   "outputs": [
    {
     "name": "stdout",
     "output_type": "stream",
     "text": [
      "[nltk_data] Downloading package stopwords to /root/nltk_data...\n",
      "[nltk_data]   Unzipping corpora/stopwords.zip.\n"
     ]
    },
    {
     "data": {
      "text/plain": [
       "358"
      ]
     },
     "execution_count": 28,
     "metadata": {},
     "output_type": "execute_result"
    }
   ],
   "source": [
    "nltk.download('stopwords')\n",
    "stop = stopwords.words('english')\n",
    "len(stop)\n",
    "s_upper = []\n",
    "for s in stop:\n",
    "  s_upper.append(s[0].upper()+s[1:])\n",
    "\n",
    "all_stop = stop + s_upper\n",
    "\n",
    "len(all_stop)"
   ]
  },
  {
   "cell_type": "code",
   "execution_count": 29,
   "metadata": {
    "executionInfo": {
     "elapsed": 2119,
     "status": "ok",
     "timestamp": 1638293146717,
     "user": {
      "displayName": "Michael Dominguez",
      "photoUrl": "https://lh3.googleusercontent.com/a/default-user=s64",
      "userId": "14258183258878183412"
     },
     "user_tz": 300
    },
    "id": "D0vEVRDI1EIQ"
   },
   "outputs": [],
   "source": [
    "X_stop = X.apply(lambda x: ' '.join([word for word in x.split() if word not in (all_stop)]))\n"
   ]
  },
  {
   "cell_type": "code",
   "execution_count": 30,
   "metadata": {
    "colab": {
     "base_uri": "https://localhost:8080/"
    },
    "executionInfo": {
     "elapsed": 5,
     "status": "ok",
     "timestamp": 1638293147234,
     "user": {
      "displayName": "Michael Dominguez",
      "photoUrl": "https://lh3.googleusercontent.com/a/default-user=s64",
      "userId": "14258183258878183412"
     },
     "user_tz": 300
    },
    "id": "eAtb3Ou31KG5",
    "outputId": "cd834452-77fb-432f-d58c-a72cf598e807"
   },
   "outputs": [
    {
     "name": "stderr",
     "output_type": "stream",
     "text": [
      "/usr/local/lib/python3.7/dist-packages/ipykernel_launcher.py:9: DeprecationWarning: KerasClassifier is deprecated, use Sci-Keras (https://github.com/adriangb/scikeras) instead.\n",
      "  if __name__ == '__main__':\n"
     ]
    }
   ],
   "source": [
    "import time\n",
    "\n",
    "# fix random seed for reproducibility\n",
    "seed = 7\n",
    "np.random.seed(seed)\n",
    "# load dataset\n",
    "\n",
    "# create model\n",
    "model = KerasClassifier(build_fn=create_model, batch_size=64, verbose=0)\n",
    "# define the grid search parameters\n",
    "embed_dim = [32,64,128,256]\n",
    "num_heads = [1,2]\n",
    "ff_dim =  [32,64,128,256]\n",
    "dropout_rate = [0.0,0.1,0.2,0.3]\n",
    "epochs = [1,2]\n",
    "\n",
    "param_grid = dict(embed_dim=embed_dim,num_heads = num_heads,ff_dim = ff_dim,\n",
    "                  dropout_rate = dropout_rate, epochs=epochs)\n",
    "#grid = GridSearchCV(estimator=model, scoring = 'neg_log_loss', param_grid=param_grid, n_jobs=1, cv=3, verbose=3)\n",
    "grid = RandomizedSearchCV(model, param_grid, n_iter=2,scoring = 'neg_log_loss', n_jobs=1, cv=3, verbose=3)"
   ]
  },
  {
   "cell_type": "code",
   "execution_count": 31,
   "metadata": {
    "colab": {
     "base_uri": "https://localhost:8080/"
    },
    "executionInfo": {
     "elapsed": 769140,
     "status": "ok",
     "timestamp": 1638293916371,
     "user": {
      "displayName": "Michael Dominguez",
      "photoUrl": "https://lh3.googleusercontent.com/a/default-user=s64",
      "userId": "14258183258878183412"
     },
     "user_tz": 300
    },
    "id": "5naB29gK1q6o",
    "outputId": "67c07d18-0f5e-4c6d-e97a-f82e36334e50"
   },
   "outputs": [
    {
     "name": "stdout",
     "output_type": "stream",
     "text": [
      "Fitting 3 folds for each of 2 candidates, totalling 6 fits\n",
      "[CV 1/3] END dropout_rate=0.2, embed_dim=128, epochs=2, ff_dim=256, num_heads=2;, score=-0.441 total time= 2.7min\n",
      "[CV 2/3] END dropout_rate=0.2, embed_dim=128, epochs=2, ff_dim=256, num_heads=2;, score=-0.463 total time= 2.7min\n",
      "[CV 3/3] END dropout_rate=0.2, embed_dim=128, epochs=2, ff_dim=256, num_heads=2;, score=-0.496 total time= 2.7min\n",
      "[CV 1/3] END dropout_rate=0.3, embed_dim=32, epochs=1, ff_dim=128, num_heads=1;, score=-0.613 total time=  17.6s\n",
      "[CV 2/3] END dropout_rate=0.3, embed_dim=32, epochs=1, ff_dim=128, num_heads=1;, score=-0.660 total time=  17.7s\n",
      "[CV 3/3] END dropout_rate=0.3, embed_dim=32, epochs=1, ff_dim=128, num_heads=1;, score=-0.651 total time=  18.8s\n",
      "time search took: 769.187750339508\n"
     ]
    }
   ],
   "source": [
    "start_time = time.time()\n",
    "grid_result = grid.fit(X_stop, y)\n",
    "stop_time = time.time()\n",
    "\n",
    "# summarize results\n",
    "print('time search took:', stop_time - start_time)"
   ]
  },
  {
   "cell_type": "code",
   "execution_count": 32,
   "metadata": {
    "colab": {
     "base_uri": "https://localhost:8080/"
    },
    "executionInfo": {
     "elapsed": 12,
     "status": "ok",
     "timestamp": 1638293916372,
     "user": {
      "displayName": "Michael Dominguez",
      "photoUrl": "https://lh3.googleusercontent.com/a/default-user=s64",
      "userId": "14258183258878183412"
     },
     "user_tz": 300
    },
    "id": "Leu5eZ-x1u_Q",
    "outputId": "e674ad43-6eeb-4fa5-da33-d7d3eb16d5ac"
   },
   "outputs": [
    {
     "name": "stdout",
     "output_type": "stream",
     "text": [
      "Best: -0.466691 using {'num_heads': 2, 'ff_dim': 256, 'epochs': 2, 'embed_dim': 128, 'dropout_rate': 0.2}\n"
     ]
    }
   ],
   "source": [
    "print(\"Best: %f using %s\" % (grid_result.best_score_, grid_result.best_params_))\n"
   ]
  },
  {
   "cell_type": "code",
   "execution_count": 33,
   "metadata": {
    "executionInfo": {
     "elapsed": 3,
     "status": "ok",
     "timestamp": 1638293916372,
     "user": {
      "displayName": "Michael Dominguez",
      "photoUrl": "https://lh3.googleusercontent.com/a/default-user=s64",
      "userId": "14258183258878183412"
     },
     "user_tz": 300
    },
    "id": "m7oJkLXf1zNv"
   },
   "outputs": [],
   "source": [
    "means = grid_result.cv_results_['mean_test_score']\n",
    "stds = grid_result.cv_results_['std_test_score']\n",
    "params = grid_result.cv_results_['params']"
   ]
  },
  {
   "cell_type": "code",
   "execution_count": 34,
   "metadata": {
    "executionInfo": {
     "elapsed": 3,
     "status": "ok",
     "timestamp": 1638293916372,
     "user": {
      "displayName": "Michael Dominguez",
      "photoUrl": "https://lh3.googleusercontent.com/a/default-user=s64",
      "userId": "14258183258878183412"
     },
     "user_tz": 300
    },
    "id": "y6khOEvl13OP"
   },
   "outputs": [],
   "source": [
    "d=pd.DataFrame(params)\n",
    "d['Mean']=means\n",
    "d['Std. Dev']=stds"
   ]
  },
  {
   "cell_type": "code",
   "execution_count": 35,
   "metadata": {
    "colab": {
     "base_uri": "https://localhost:8080/",
     "height": 577
    },
    "executionInfo": {
     "elapsed": 1134,
     "status": "ok",
     "timestamp": 1638293917503,
     "user": {
      "displayName": "Michael Dominguez",
      "photoUrl": "https://lh3.googleusercontent.com/a/default-user=s64",
      "userId": "14258183258878183412"
     },
     "user_tz": 300
    },
    "id": "wY320ROi13fH",
    "outputId": "9c56365e-17c3-43d3-95b1-920698baa6de"
   },
   "outputs": [
    {
     "data": {
      "image/png": "[encoded data removed]",
      "text/plain": [
       "<Figure size 1008x576 with 6 Axes>"
      ]
     },
     "metadata": {
      "needs_background": "light"
     },
     "output_type": "display_data"
    }
   ],
   "source": [
    "param_ = [\"num_heads\",\"ff_dim\",\"epochs\",\"embed_dim\",\"dropout_rate\"]\n",
    "import matplotlib.pyplot as plt\n",
    "fig, ax = plt.subplots(2,3,figsize=(14,8), squeeze=False)\n",
    "ax = ax.ravel()\n",
    "for i in range(5):\n",
    "    ax[i].set_title('Distribution of mean accuracy with {}'.format(param_[i]))\n",
    "    sns.violinplot(x=param_[i],y='Mean',data=d,ax=ax[i])\n",
    "fig.tight_layout(pad=1.5)"
   ]
  },
  {
   "cell_type": "code",
   "execution_count": 36,
   "metadata": {
    "colab": {
     "base_uri": "https://localhost:8080/",
     "height": 112
    },
    "executionInfo": {
     "elapsed": 4,
     "status": "ok",
     "timestamp": 1638293917504,
     "user": {
      "displayName": "Michael Dominguez",
      "photoUrl": "https://lh3.googleusercontent.com/a/default-user=s64",
      "userId": "14258183258878183412"
     },
     "user_tz": 300
    },
    "id": "Vj4LkRKC16e_",
    "outputId": "2b1b6a25-6785-498b-9693-adbca9221dee"
   },
   "outputs": [
    {
     "data": {
      "text/html": [
       "<div>\n",
       "<style scoped>\n",
       "    .dataframe tbody tr th:only-of-type {\n",
       "        vertical-align: middle;\n",
       "    }\n",
       "\n",
       "    .dataframe tbody tr th {\n",
       "        vertical-align: top;\n",
       "    }\n",
       "\n",
       "    .dataframe thead th {\n",
       "        text-align: right;\n",
       "    }\n",
       "</style>\n",
       "<table border=\"1\" class=\"dataframe\">\n",
       "  <thead>\n",
       "    <tr style=\"text-align: right;\">\n",
       "      <th></th>\n",
       "      <th>num_heads</th>\n",
       "      <th>ff_dim</th>\n",
       "      <th>epochs</th>\n",
       "      <th>embed_dim</th>\n",
       "      <th>dropout_rate</th>\n",
       "      <th>Mean</th>\n",
       "      <th>Std. Dev</th>\n",
       "    </tr>\n",
       "  </thead>\n",
       "  <tbody>\n",
       "    <tr>\n",
       "      <th>0</th>\n",
       "      <td>2</td>\n",
       "      <td>256</td>\n",
       "      <td>2</td>\n",
       "      <td>128</td>\n",
       "      <td>0.2</td>\n",
       "      <td>-0.466691</td>\n",
       "      <td>0.022448</td>\n",
       "    </tr>\n",
       "    <tr>\n",
       "      <th>1</th>\n",
       "      <td>1</td>\n",
       "      <td>128</td>\n",
       "      <td>1</td>\n",
       "      <td>32</td>\n",
       "      <td>0.3</td>\n",
       "      <td>-0.641376</td>\n",
       "      <td>0.020136</td>\n",
       "    </tr>\n",
       "  </tbody>\n",
       "</table>\n",
       "</div>"
      ],
      "text/plain": [
       "   num_heads  ff_dim  epochs  embed_dim  dropout_rate      Mean  Std. Dev\n",
       "0          2     256       2        128           0.2 -0.466691  0.022448\n",
       "1          1     128       1         32           0.3 -0.641376  0.020136"
      ]
     },
     "execution_count": 36,
     "metadata": {},
     "output_type": "execute_result"
    }
   ],
   "source": [
    "d.sort_values(by='Mean',ascending = False)\n"
   ]
  },
  {
   "cell_type": "code",
   "execution_count": null,
   "metadata": {
    "id": "6HreX-NJ17Cf"
   },
   "outputs": [],
   "source": []
  }
 ],
 "metadata": {
  "accelerator": "GPU",
  "colab": {
   "authorship_tag": "ABX9TyMx7YsNhYLpAJQP/aG8jBO2",
   "collapsed_sections": [],
   "name": "tran_search.ipynb",
   "provenance": []
  },
  "kernelspec": {
   "display_name": "Python 3 (ipykernel)",
   "language": "python",
   "name": "python3"
  },
  "language_info": {
   "codemirror_mode": {
    "name": "ipython",
    "version": 3
   },
   "file_extension": ".py",
   "mimetype": "text/x-python",
   "name": "python",
   "nbconvert_exporter": "python",
   "pygments_lexer": "ipython3",
   "version": "3.9.7"
  }
 },
 "nbformat": 4,
 "nbformat_minor": 1
}
