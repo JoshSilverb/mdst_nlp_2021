{
 "cells": [
  {
   "cell_type": "code",
   "execution_count": 1,
   "id": "20b17617",
   "metadata": {},
   "outputs": [],
   "source": [
    "import numpy as np\n",
    "import tensorflow as tf\n",
    "import pandas as pd\n",
    "from sklearn.model_selection import train_test_split\n",
    "#import matplotlib.pyplot as plt\n",
    "#import seaborn as sns\n",
    "from sklearn.metrics import f1_score\n",
    "from keras.wrappers.scikit_learn import KerasClassifier\n",
    "from sklearn.model_selection import RandomizedSearchCV, GridSearchCV"
   ]
  },
  {
   "cell_type": "code",
   "execution_count": 2,
   "id": "0372a154",
   "metadata": {},
   "outputs": [
    {
     "name": "stdout",
     "output_type": "stream",
     "text": [
      "['test.csv', 'train.csv']\n"
     ]
    }
   ],
   "source": [
    "import os            ##  This module is for \"operating system\" interfaces\n",
    "import sys           ##  This module is for functionality relevant to the python run time\n",
    "path_to_datafolder = 'C:/Users/mjdom/source/repos/mdst_nlp_2021/data'\n",
    "print(os.listdir(path_to_datafolder))"
   ]
  },
  {
   "cell_type": "code",
   "execution_count": 3,
   "id": "43f56cb1",
   "metadata": {},
   "outputs": [
    {
     "data": {
      "text/html": [
       "<div>\n",
       "<style scoped>\n",
       "    .dataframe tbody tr th:only-of-type {\n",
       "        vertical-align: middle;\n",
       "    }\n",
       "\n",
       "    .dataframe tbody tr th {\n",
       "        vertical-align: top;\n",
       "    }\n",
       "\n",
       "    .dataframe thead th {\n",
       "        text-align: right;\n",
       "    }\n",
       "</style>\n",
       "<table border=\"1\" class=\"dataframe\">\n",
       "  <thead>\n",
       "    <tr style=\"text-align: right;\">\n",
       "      <th></th>\n",
       "      <th>id</th>\n",
       "      <th>text</th>\n",
       "      <th>author</th>\n",
       "    </tr>\n",
       "  </thead>\n",
       "  <tbody>\n",
       "    <tr>\n",
       "      <th>0</th>\n",
       "      <td>id26305</td>\n",
       "      <td>This process, however, afforded me no means of...</td>\n",
       "      <td>EAP</td>\n",
       "    </tr>\n",
       "    <tr>\n",
       "      <th>1</th>\n",
       "      <td>id17569</td>\n",
       "      <td>It never once occurred to me that the fumbling...</td>\n",
       "      <td>HPL</td>\n",
       "    </tr>\n",
       "    <tr>\n",
       "      <th>2</th>\n",
       "      <td>id11008</td>\n",
       "      <td>In his left hand was a gold snuff box, from wh...</td>\n",
       "      <td>EAP</td>\n",
       "    </tr>\n",
       "    <tr>\n",
       "      <th>3</th>\n",
       "      <td>id27763</td>\n",
       "      <td>How lovely is spring As we looked from Windsor...</td>\n",
       "      <td>MWS</td>\n",
       "    </tr>\n",
       "    <tr>\n",
       "      <th>4</th>\n",
       "      <td>id12958</td>\n",
       "      <td>Finding nothing else, not even gold, the Super...</td>\n",
       "      <td>HPL</td>\n",
       "    </tr>\n",
       "  </tbody>\n",
       "</table>\n",
       "</div>"
      ],
      "text/plain": [
       "        id                                               text author\n",
       "0  id26305  This process, however, afforded me no means of...    EAP\n",
       "1  id17569  It never once occurred to me that the fumbling...    HPL\n",
       "2  id11008  In his left hand was a gold snuff box, from wh...    EAP\n",
       "3  id27763  How lovely is spring As we looked from Windsor...    MWS\n",
       "4  id12958  Finding nothing else, not even gold, the Super...    HPL"
      ]
     },
     "execution_count": 3,
     "metadata": {},
     "output_type": "execute_result"
    }
   ],
   "source": [
    "df = pd.read_csv(path_to_datafolder+'/train.csv')\n",
    "df.head()"
   ]
  },
  {
   "cell_type": "code",
   "execution_count": 4,
   "id": "4f6b453c",
   "metadata": {},
   "outputs": [],
   "source": [
    "X = df[\"text\"].copy()\n",
    "#X = df[\"text\"]\n",
    "\n",
    "authors = df[\"author\"].copy()\n",
    "\n",
    "# Label data\n",
    "y = []\n",
    "for author in authors:\n",
    "    if author == \"EAP\":\n",
    "        y.append([1, 0, 0])\n",
    "    if author == \"HPL\":\n",
    "        y.append([0, 1, 0])\n",
    "    if author == \"MWS\":\n",
    "        y.append([0, 0, 1])\n",
    "\n",
    "y = np.array(y)\n",
    "\n",
    "y_one_vector = []\n",
    "for author in authors:\n",
    "    if author == \"EAP\":\n",
    "        y_one_vector.append(0)\n",
    "    if author == \"HPL\":\n",
    "        y_one_vector.append(1)\n",
    "    if author == \"MWS\":\n",
    "        y_one_vector.append(2)\n",
    "\n",
    "y_one_vector = np.array(y_one_vector)"
   ]
  },
  {
   "cell_type": "code",
   "execution_count": 5,
   "id": "c113920b",
   "metadata": {},
   "outputs": [],
   "source": [
    "X_train, X_test, y_train, y_test = train_test_split(X, y, test_size=0.2, random_state=42)"
   ]
  },
  {
   "cell_type": "code",
   "execution_count": 6,
   "id": "5d563597",
   "metadata": {},
   "outputs": [],
   "source": [
    "encoder = tf.keras.layers.TextVectorization()\n",
    "encoder.adapt(X)\n"
   ]
  },
  {
   "cell_type": "code",
   "execution_count": 7,
   "id": "ea2a0dc2",
   "metadata": {},
   "outputs": [],
   "source": [
    "tf.__version__\n",
    "vocab = encoder.get_vocabulary()"
   ]
  },
  {
   "cell_type": "markdown",
   "id": "15938e12",
   "metadata": {},
   "source": [
    "### CNN Model"
   ]
  },
  {
   "cell_type": "code",
   "execution_count": 8,
   "id": "4b12003e",
   "metadata": {},
   "outputs": [],
   "source": [
    "class CNN1d(tf.keras.Model):\n",
    "    def __init__(self, conv1_filters, conv1_size, conv2_filters, conv2_size, dense1, encoder):\n",
    "        super(CNN1d, self).__init__()\n",
    "\n",
    "        self.encoder = encoder\n",
    "\n",
    "        vocab = encoder.get_vocabulary()\n",
    "        \n",
    "        self.embedding = tf.keras.layers.Embedding(input_dim=len(vocab),output_dim=64,mask_zero=True)\n",
    "        \n",
    "\n",
    "        self.conv1 = tf.keras.layers.Conv1D(filters=conv1_filters,\n",
    "                            kernel_size=conv1_size,\n",
    "                            padding=\"same\",\n",
    "                            activation=\"relu\",\n",
    "                            data_format=\"channels_last\",\n",
    "                            )\n",
    "        self.conv2 = tf.keras.layers.Conv1D(filters=conv2_filters,\n",
    "                            kernel_size=conv2_size,\n",
    "                            padding=\"same\",\n",
    "                            activation=\"relu\",\n",
    "                            data_format=\"channels_last\",\n",
    "                            )\n",
    "        self.global_pool = tf.keras.layers.GlobalMaxPool1D()\n",
    "        self.dense1 = tf.keras.layers.Dense(dense1, activation='relu')\n",
    "        self.dense2 = tf.keras.layers.Dense(3, activation=\"softmax\")\n",
    "\n",
    "    def call(self, x, training=False):\n",
    "        emb = self.encoder(x)\n",
    "        emb = self.embedding(emb)\n",
    "        conv1 = self.conv1(emb)\n",
    "        conv2 = self.conv2(emb)\n",
    "        z = tf.concat([conv1, conv2], axis=2)\n",
    "        z = self.global_pool(z)\n",
    "        z = self.dense1(z)\n",
    "        z = self.dense2(z)\n",
    "        return z"
   ]
  },
  {
   "cell_type": "code",
   "execution_count": 9,
   "id": "64529b94",
   "metadata": {},
   "outputs": [],
   "source": [
    "def create_model(conv1_filters, conv1_size, conv2_filters, conv2_size, dense1):\n",
    "    model = CNN1d(conv1_filters, conv1_size, conv2_filters, conv2_size, dense1, encoder)\n",
    "    model.compile(loss=tf.keras.losses.CategoricalCrossentropy(),\n",
    "              optimizer=tf.keras.optimizers.Adam(1e-3),\n",
    "              metrics=['accuracy']\n",
    "    )\n",
    "    return model"
   ]
  },
  {
   "cell_type": "code",
   "execution_count": 10,
   "id": "0f781423",
   "metadata": {},
   "outputs": [
    {
     "name": "stdout",
     "output_type": "stream",
     "text": [
      "490/490 [==============================] - 24s 44ms/step - loss: 0.6930 - accuracy: 0.6884 - val_loss: 0.4784 - val_accuracy: 0.8090\n"
     ]
    }
   ],
   "source": [
    "callbacks = [\n",
    "          tf.keras.callbacks.EarlyStopping(monitor='val_loss', patience=3),\n",
    "          tf.keras.callbacks.ModelCheckpoint(\n",
    "            filepath=\"CNN_weights\",\n",
    "            save_weights_only=True,\n",
    "            monitor='val_accuracy',\n",
    "            mode='max',\n",
    "            save_best_only=True)\n",
    "]\n",
    "with tf.device('/device:GPU:0'):\n",
    "    cnn = create_model(128, 6, 128, 5, 128)\n",
    "    history = cnn.fit(X_train, y_train, epochs=1,\n",
    "                      validation_data=(X_test, y_test),\n",
    "                      validation_steps=30,\n",
    "                      callbacks=callbacks)"
   ]
  },
  {
   "cell_type": "code",
   "execution_count": 11,
   "id": "3899f007",
   "metadata": {},
   "outputs": [
    {
     "name": "stdout",
     "output_type": "stream",
     "text": [
      "123/123 [==============================] - 1s 5ms/step - loss: 0.4786 - accuracy: 0.8090\n"
     ]
    }
   ],
   "source": [
    "with tf.device('/device:GPU:0'):\n",
    "    cnn.evaluate(X_test, y_test)"
   ]
  },
  {
   "cell_type": "markdown",
   "id": "8dc46a4b",
   "metadata": {},
   "source": [
    "### N-gram model"
   ]
  },
  {
   "cell_type": "code",
   "execution_count": 12,
   "id": "ba5455b3",
   "metadata": {},
   "outputs": [],
   "source": [
    "max_features = 1000000\n",
    "Vectorizer = tf.keras.layers.experimental.preprocessing.TextVectorization(max_tokens=max_features, output_mode='tf-idf', ngrams=2)\n",
    "with tf.device('/device:CPU:0'):\n",
    "    Vectorizer.adapt(X)\n",
    "vocab = Vectorizer.get_vocabulary()"
   ]
  },
  {
   "cell_type": "code",
   "execution_count": 13,
   "id": "ebd0ee24",
   "metadata": {},
   "outputs": [],
   "source": [
    "model_ngram = tf.keras.Sequential()\n",
    "model_ngram.add(Vectorizer)\n",
    "   \n",
    "model_ngram.add(tf.keras.layers.Dense(25, activation='relu'))\n",
    "model_ngram.add(tf.keras.layers.Dropout(0.2))\n",
    "   \n",
    "model_ngram.add(tf.keras.layers.Dense(3, activation='softmax'))\n",
    "   \n",
    "model_ngram.compile(loss=tf.keras.losses.CategoricalCrossentropy(),\n",
    "             optimizer=tf.keras.optimizers.Adam(1e-3),\n",
    "             metrics=['accuracy'])"
   ]
  },
  {
   "cell_type": "code",
   "execution_count": 14,
   "id": "f7bfb966",
   "metadata": {},
   "outputs": [
    {
     "name": "stdout",
     "output_type": "stream",
     "text": [
      "245/245 [==============================] - 5s 20ms/step - loss: 0.5608 - accuracy: 0.7746 - val_loss: 0.3679 - val_accuracy: 0.8687\n"
     ]
    }
   ],
   "source": [
    "with tf.device('/device:GPU:0'):\n",
    "\n",
    "    model_ngram.fit(X_train, y_train, epochs=1, batch_size=64,\n",
    "             validation_data=(X_test,y_test),\n",
    "             validation_steps=10)\n",
    "\n",
    "pred = model_ngram.predict(df['text'])"
   ]
  },
  {
   "cell_type": "markdown",
   "id": "445b5503",
   "metadata": {},
   "source": [
    "### LSTM model"
   ]
  },
  {
   "cell_type": "code",
   "execution_count": 15,
   "id": "f04dec0b",
   "metadata": {},
   "outputs": [],
   "source": [
    "LSTM = tf.keras.Sequential()\n",
    "LSTM.add(encoder)\n",
    "LSTM.add(tf.keras.layers.Embedding(input_dim=len(vocab),output_dim=64,mask_zero=True))\n",
    "\n",
    "LSTM.add(tf.keras.layers.Bidirectional(tf.keras.layers.LSTM(64,dropout=0.2,return_sequences=True)))\n",
    "\n",
    "LSTM.add(tf.keras.layers.GlobalMaxPool1D())\n",
    "\n",
    "LSTM.add(tf.keras.layers.Dropout(0.2))\n",
    "   \n",
    "LSTM.add(tf.keras.layers.Dense(3, activation='softmax'))\n",
    "   \n",
    "LSTM.compile(loss=tf.keras.losses.CategoricalCrossentropy(),\n",
    "             optimizer=tf.keras.optimizers.Adam(1e-3),\n",
    "             metrics=['accuracy'])\n"
   ]
  },
  {
   "cell_type": "code",
   "execution_count": 16,
   "id": "a38499c3",
   "metadata": {},
   "outputs": [
    {
     "name": "stdout",
     "output_type": "stream",
     "text": [
      "Epoch 1/2\n",
      "245/245 [==============================] - 13s 31ms/step - loss: 0.7833 - accuracy: 0.6495 - val_loss: 0.4872 - val_accuracy: 0.8234\n",
      "Epoch 2/2\n",
      "245/245 [==============================] - 6s 23ms/step - loss: 0.3084 - accuracy: 0.8918 - val_loss: 0.4499 - val_accuracy: 0.8453\n"
     ]
    }
   ],
   "source": [
    "with tf.device('/device:GPU:0'):\n",
    "\n",
    "    LSTM.fit(X_train, y_train, epochs=2, batch_size=64,\n",
    "             validation_data=(X_test,y_test),\n",
    "             validation_steps=10)"
   ]
  },
  {
   "cell_type": "code",
   "execution_count": 17,
   "id": "e31ce124",
   "metadata": {},
   "outputs": [
    {
     "name": "stdout",
     "output_type": "stream",
     "text": [
      "123/123 [==============================] - 1s 7ms/step - loss: 0.4384 - accuracy: 0.8297\n"
     ]
    },
    {
     "data": {
      "text/plain": [
       "[0.43835070729255676, 0.8296731114387512]"
      ]
     },
     "execution_count": 17,
     "metadata": {},
     "output_type": "execute_result"
    }
   ],
   "source": [
    "LSTM.evaluate(X_test, y_test)"
   ]
  },
  {
   "cell_type": "markdown",
   "id": "86b02f65",
   "metadata": {},
   "source": [
    "### Collect predictions"
   ]
  },
  {
   "cell_type": "code",
   "execution_count": 18,
   "id": "bc243835",
   "metadata": {},
   "outputs": [],
   "source": [
    "cnn_pred = cnn.predict(df['text'])\n",
    "ngram_pred = model_ngram.predict(df['text'])\n",
    "LSTM_pred = LSTM.predict(df['text'])"
   ]
  },
  {
   "cell_type": "code",
   "execution_count": 19,
   "id": "d93b22c9",
   "metadata": {},
   "outputs": [
    {
     "data": {
      "text/html": [
       "<div>\n",
       "<style scoped>\n",
       "    .dataframe tbody tr th:only-of-type {\n",
       "        vertical-align: middle;\n",
       "    }\n",
       "\n",
       "    .dataframe tbody tr th {\n",
       "        vertical-align: top;\n",
       "    }\n",
       "\n",
       "    .dataframe thead th {\n",
       "        text-align: right;\n",
       "    }\n",
       "</style>\n",
       "<table border=\"1\" class=\"dataframe\">\n",
       "  <thead>\n",
       "    <tr style=\"text-align: right;\">\n",
       "      <th></th>\n",
       "      <th>id</th>\n",
       "      <th>EAP_ngram</th>\n",
       "      <th>HPL_ngram</th>\n",
       "      <th>MWS_ngram</th>\n",
       "      <th>EAP_cnn</th>\n",
       "      <th>HPL_cnn</th>\n",
       "      <th>MWS_cnn</th>\n",
       "      <th>EAP_lstm</th>\n",
       "      <th>HPL_lstm</th>\n",
       "      <th>MWS_lstm</th>\n",
       "      <th>actual_author</th>\n",
       "    </tr>\n",
       "  </thead>\n",
       "  <tbody>\n",
       "    <tr>\n",
       "      <th>0</th>\n",
       "      <td>id26305</td>\n",
       "      <td>0.995004</td>\n",
       "      <td>0.001591</td>\n",
       "      <td>0.003404</td>\n",
       "      <td>0.992398</td>\n",
       "      <td>0.000624</td>\n",
       "      <td>0.006978</td>\n",
       "      <td>0.973642</td>\n",
       "      <td>0.022725</td>\n",
       "      <td>0.003634</td>\n",
       "      <td>EAP</td>\n",
       "    </tr>\n",
       "    <tr>\n",
       "      <th>1</th>\n",
       "      <td>id17569</td>\n",
       "      <td>0.025892</td>\n",
       "      <td>0.951124</td>\n",
       "      <td>0.022984</td>\n",
       "      <td>0.658131</td>\n",
       "      <td>0.248983</td>\n",
       "      <td>0.092886</td>\n",
       "      <td>0.041964</td>\n",
       "      <td>0.946103</td>\n",
       "      <td>0.011933</td>\n",
       "      <td>HPL</td>\n",
       "    </tr>\n",
       "    <tr>\n",
       "      <th>2</th>\n",
       "      <td>id11008</td>\n",
       "      <td>0.999130</td>\n",
       "      <td>0.000017</td>\n",
       "      <td>0.000852</td>\n",
       "      <td>0.983048</td>\n",
       "      <td>0.013373</td>\n",
       "      <td>0.003579</td>\n",
       "      <td>0.947245</td>\n",
       "      <td>0.050048</td>\n",
       "      <td>0.002706</td>\n",
       "      <td>EAP</td>\n",
       "    </tr>\n",
       "    <tr>\n",
       "      <th>3</th>\n",
       "      <td>id27763</td>\n",
       "      <td>0.000770</td>\n",
       "      <td>0.000140</td>\n",
       "      <td>0.999090</td>\n",
       "      <td>0.002356</td>\n",
       "      <td>0.000979</td>\n",
       "      <td>0.996664</td>\n",
       "      <td>0.001704</td>\n",
       "      <td>0.000341</td>\n",
       "      <td>0.997956</td>\n",
       "      <td>MWS</td>\n",
       "    </tr>\n",
       "    <tr>\n",
       "      <th>4</th>\n",
       "      <td>id12958</td>\n",
       "      <td>0.000006</td>\n",
       "      <td>0.999993</td>\n",
       "      <td>0.000001</td>\n",
       "      <td>0.619594</td>\n",
       "      <td>0.100870</td>\n",
       "      <td>0.279536</td>\n",
       "      <td>0.047649</td>\n",
       "      <td>0.936279</td>\n",
       "      <td>0.016072</td>\n",
       "      <td>HPL</td>\n",
       "    </tr>\n",
       "    <tr>\n",
       "      <th>...</th>\n",
       "      <td>...</td>\n",
       "      <td>...</td>\n",
       "      <td>...</td>\n",
       "      <td>...</td>\n",
       "      <td>...</td>\n",
       "      <td>...</td>\n",
       "      <td>...</td>\n",
       "      <td>...</td>\n",
       "      <td>...</td>\n",
       "      <td>...</td>\n",
       "      <td>...</td>\n",
       "    </tr>\n",
       "    <tr>\n",
       "      <th>19574</th>\n",
       "      <td>id17718</td>\n",
       "      <td>0.948939</td>\n",
       "      <td>0.024967</td>\n",
       "      <td>0.026094</td>\n",
       "      <td>0.827273</td>\n",
       "      <td>0.074793</td>\n",
       "      <td>0.097934</td>\n",
       "      <td>0.902995</td>\n",
       "      <td>0.071810</td>\n",
       "      <td>0.025195</td>\n",
       "      <td>EAP</td>\n",
       "    </tr>\n",
       "    <tr>\n",
       "      <th>19575</th>\n",
       "      <td>id08973</td>\n",
       "      <td>0.945483</td>\n",
       "      <td>0.013374</td>\n",
       "      <td>0.041143</td>\n",
       "      <td>0.914230</td>\n",
       "      <td>0.007256</td>\n",
       "      <td>0.078513</td>\n",
       "      <td>0.888047</td>\n",
       "      <td>0.013352</td>\n",
       "      <td>0.098602</td>\n",
       "      <td>EAP</td>\n",
       "    </tr>\n",
       "    <tr>\n",
       "      <th>19576</th>\n",
       "      <td>id05267</td>\n",
       "      <td>0.993636</td>\n",
       "      <td>0.001886</td>\n",
       "      <td>0.004478</td>\n",
       "      <td>0.987036</td>\n",
       "      <td>0.006523</td>\n",
       "      <td>0.006441</td>\n",
       "      <td>0.991580</td>\n",
       "      <td>0.003177</td>\n",
       "      <td>0.005243</td>\n",
       "      <td>EAP</td>\n",
       "    </tr>\n",
       "    <tr>\n",
       "      <th>19577</th>\n",
       "      <td>id17513</td>\n",
       "      <td>0.265845</td>\n",
       "      <td>0.666056</td>\n",
       "      <td>0.068099</td>\n",
       "      <td>0.469771</td>\n",
       "      <td>0.188130</td>\n",
       "      <td>0.342100</td>\n",
       "      <td>0.500659</td>\n",
       "      <td>0.319762</td>\n",
       "      <td>0.179580</td>\n",
       "      <td>EAP</td>\n",
       "    </tr>\n",
       "    <tr>\n",
       "      <th>19578</th>\n",
       "      <td>id00393</td>\n",
       "      <td>0.000119</td>\n",
       "      <td>0.999788</td>\n",
       "      <td>0.000094</td>\n",
       "      <td>0.118459</td>\n",
       "      <td>0.856911</td>\n",
       "      <td>0.024630</td>\n",
       "      <td>0.005168</td>\n",
       "      <td>0.992500</td>\n",
       "      <td>0.002331</td>\n",
       "      <td>HPL</td>\n",
       "    </tr>\n",
       "  </tbody>\n",
       "</table>\n",
       "<p>19579 rows × 11 columns</p>\n",
       "</div>"
      ],
      "text/plain": [
       "            id  EAP_ngram  HPL_ngram  MWS_ngram   EAP_cnn   HPL_cnn   MWS_cnn  \\\n",
       "0      id26305   0.995004   0.001591   0.003404  0.992398  0.000624  0.006978   \n",
       "1      id17569   0.025892   0.951124   0.022984  0.658131  0.248983  0.092886   \n",
       "2      id11008   0.999130   0.000017   0.000852  0.983048  0.013373  0.003579   \n",
       "3      id27763   0.000770   0.000140   0.999090  0.002356  0.000979  0.996664   \n",
       "4      id12958   0.000006   0.999993   0.000001  0.619594  0.100870  0.279536   \n",
       "...        ...        ...        ...        ...       ...       ...       ...   \n",
       "19574  id17718   0.948939   0.024967   0.026094  0.827273  0.074793  0.097934   \n",
       "19575  id08973   0.945483   0.013374   0.041143  0.914230  0.007256  0.078513   \n",
       "19576  id05267   0.993636   0.001886   0.004478  0.987036  0.006523  0.006441   \n",
       "19577  id17513   0.265845   0.666056   0.068099  0.469771  0.188130  0.342100   \n",
       "19578  id00393   0.000119   0.999788   0.000094  0.118459  0.856911  0.024630   \n",
       "\n",
       "       EAP_lstm  HPL_lstm  MWS_lstm actual_author  \n",
       "0      0.973642  0.022725  0.003634           EAP  \n",
       "1      0.041964  0.946103  0.011933           HPL  \n",
       "2      0.947245  0.050048  0.002706           EAP  \n",
       "3      0.001704  0.000341  0.997956           MWS  \n",
       "4      0.047649  0.936279  0.016072           HPL  \n",
       "...         ...       ...       ...           ...  \n",
       "19574  0.902995  0.071810  0.025195           EAP  \n",
       "19575  0.888047  0.013352  0.098602           EAP  \n",
       "19576  0.991580  0.003177  0.005243           EAP  \n",
       "19577  0.500659  0.319762  0.179580           EAP  \n",
       "19578  0.005168  0.992500  0.002331           HPL  \n",
       "\n",
       "[19579 rows x 11 columns]"
      ]
     },
     "execution_count": 19,
     "metadata": {},
     "output_type": "execute_result"
    }
   ],
   "source": [
    "ensemble_df = pd.DataFrame({\n",
    "    \"id\": df[\"id\"],\n",
    "    \"EAP_ngram\": ngram_pred[:, 0],\n",
    "    \"HPL_ngram\": ngram_pred[:, 1],\n",
    "    \"MWS_ngram\": ngram_pred[:, 2],\n",
    "    \"EAP_cnn\": cnn_pred[:, 0],\n",
    "    \"HPL_cnn\": cnn_pred[:, 1],\n",
    "    \"MWS_cnn\": cnn_pred[:, 2],\n",
    "    \"EAP_lstm\": LSTM_pred[:, 0],\n",
    "    \"HPL_lstm\": LSTM_pred[:, 1],\n",
    "    \"MWS_lstm\": LSTM_pred[:, 2],\n",
    "\n",
    "    \"actual_author\": df['author']\n",
    "})\n",
    "ensemble_df"
   ]
  },
  {
   "cell_type": "code",
   "execution_count": 20,
   "id": "7021d0d0",
   "metadata": {},
   "outputs": [
    {
     "data": {
      "text/html": [
       "<div>\n",
       "<style scoped>\n",
       "    .dataframe tbody tr th:only-of-type {\n",
       "        vertical-align: middle;\n",
       "    }\n",
       "\n",
       "    .dataframe tbody tr th {\n",
       "        vertical-align: top;\n",
       "    }\n",
       "\n",
       "    .dataframe thead th {\n",
       "        text-align: right;\n",
       "    }\n",
       "</style>\n",
       "<table border=\"1\" class=\"dataframe\">\n",
       "  <thead>\n",
       "    <tr style=\"text-align: right;\">\n",
       "      <th></th>\n",
       "      <th>EAP_ngram</th>\n",
       "      <th>HPL_ngram</th>\n",
       "      <th>MWS_ngram</th>\n",
       "      <th>EAP_cnn</th>\n",
       "      <th>HPL_cnn</th>\n",
       "      <th>MWS_cnn</th>\n",
       "      <th>EAP_lstm</th>\n",
       "      <th>HPL_lstm</th>\n",
       "      <th>MWS_lstm</th>\n",
       "    </tr>\n",
       "  </thead>\n",
       "  <tbody>\n",
       "    <tr>\n",
       "      <th>0</th>\n",
       "      <td>0.995004</td>\n",
       "      <td>0.001591</td>\n",
       "      <td>0.003404</td>\n",
       "      <td>0.992398</td>\n",
       "      <td>0.000624</td>\n",
       "      <td>0.006978</td>\n",
       "      <td>0.973642</td>\n",
       "      <td>0.022725</td>\n",
       "      <td>0.003634</td>\n",
       "    </tr>\n",
       "    <tr>\n",
       "      <th>1</th>\n",
       "      <td>0.025892</td>\n",
       "      <td>0.951124</td>\n",
       "      <td>0.022984</td>\n",
       "      <td>0.658131</td>\n",
       "      <td>0.248983</td>\n",
       "      <td>0.092886</td>\n",
       "      <td>0.041964</td>\n",
       "      <td>0.946103</td>\n",
       "      <td>0.011933</td>\n",
       "    </tr>\n",
       "    <tr>\n",
       "      <th>2</th>\n",
       "      <td>0.999130</td>\n",
       "      <td>0.000017</td>\n",
       "      <td>0.000852</td>\n",
       "      <td>0.983048</td>\n",
       "      <td>0.013373</td>\n",
       "      <td>0.003579</td>\n",
       "      <td>0.947245</td>\n",
       "      <td>0.050048</td>\n",
       "      <td>0.002706</td>\n",
       "    </tr>\n",
       "    <tr>\n",
       "      <th>3</th>\n",
       "      <td>0.000770</td>\n",
       "      <td>0.000140</td>\n",
       "      <td>0.999090</td>\n",
       "      <td>0.002356</td>\n",
       "      <td>0.000979</td>\n",
       "      <td>0.996664</td>\n",
       "      <td>0.001704</td>\n",
       "      <td>0.000341</td>\n",
       "      <td>0.997956</td>\n",
       "    </tr>\n",
       "    <tr>\n",
       "      <th>4</th>\n",
       "      <td>0.000006</td>\n",
       "      <td>0.999993</td>\n",
       "      <td>0.000001</td>\n",
       "      <td>0.619594</td>\n",
       "      <td>0.100870</td>\n",
       "      <td>0.279536</td>\n",
       "      <td>0.047649</td>\n",
       "      <td>0.936279</td>\n",
       "      <td>0.016072</td>\n",
       "    </tr>\n",
       "    <tr>\n",
       "      <th>...</th>\n",
       "      <td>...</td>\n",
       "      <td>...</td>\n",
       "      <td>...</td>\n",
       "      <td>...</td>\n",
       "      <td>...</td>\n",
       "      <td>...</td>\n",
       "      <td>...</td>\n",
       "      <td>...</td>\n",
       "      <td>...</td>\n",
       "    </tr>\n",
       "    <tr>\n",
       "      <th>19574</th>\n",
       "      <td>0.948939</td>\n",
       "      <td>0.024967</td>\n",
       "      <td>0.026094</td>\n",
       "      <td>0.827273</td>\n",
       "      <td>0.074793</td>\n",
       "      <td>0.097934</td>\n",
       "      <td>0.902995</td>\n",
       "      <td>0.071810</td>\n",
       "      <td>0.025195</td>\n",
       "    </tr>\n",
       "    <tr>\n",
       "      <th>19575</th>\n",
       "      <td>0.945483</td>\n",
       "      <td>0.013374</td>\n",
       "      <td>0.041143</td>\n",
       "      <td>0.914230</td>\n",
       "      <td>0.007256</td>\n",
       "      <td>0.078513</td>\n",
       "      <td>0.888047</td>\n",
       "      <td>0.013352</td>\n",
       "      <td>0.098602</td>\n",
       "    </tr>\n",
       "    <tr>\n",
       "      <th>19576</th>\n",
       "      <td>0.993636</td>\n",
       "      <td>0.001886</td>\n",
       "      <td>0.004478</td>\n",
       "      <td>0.987036</td>\n",
       "      <td>0.006523</td>\n",
       "      <td>0.006441</td>\n",
       "      <td>0.991580</td>\n",
       "      <td>0.003177</td>\n",
       "      <td>0.005243</td>\n",
       "    </tr>\n",
       "    <tr>\n",
       "      <th>19577</th>\n",
       "      <td>0.265845</td>\n",
       "      <td>0.666056</td>\n",
       "      <td>0.068099</td>\n",
       "      <td>0.469771</td>\n",
       "      <td>0.188130</td>\n",
       "      <td>0.342100</td>\n",
       "      <td>0.500659</td>\n",
       "      <td>0.319762</td>\n",
       "      <td>0.179580</td>\n",
       "    </tr>\n",
       "    <tr>\n",
       "      <th>19578</th>\n",
       "      <td>0.000119</td>\n",
       "      <td>0.999788</td>\n",
       "      <td>0.000094</td>\n",
       "      <td>0.118459</td>\n",
       "      <td>0.856911</td>\n",
       "      <td>0.024630</td>\n",
       "      <td>0.005168</td>\n",
       "      <td>0.992500</td>\n",
       "      <td>0.002331</td>\n",
       "    </tr>\n",
       "  </tbody>\n",
       "</table>\n",
       "<p>19579 rows × 9 columns</p>\n",
       "</div>"
      ],
      "text/plain": [
       "       EAP_ngram  HPL_ngram  MWS_ngram   EAP_cnn   HPL_cnn   MWS_cnn  \\\n",
       "0       0.995004   0.001591   0.003404  0.992398  0.000624  0.006978   \n",
       "1       0.025892   0.951124   0.022984  0.658131  0.248983  0.092886   \n",
       "2       0.999130   0.000017   0.000852  0.983048  0.013373  0.003579   \n",
       "3       0.000770   0.000140   0.999090  0.002356  0.000979  0.996664   \n",
       "4       0.000006   0.999993   0.000001  0.619594  0.100870  0.279536   \n",
       "...          ...        ...        ...       ...       ...       ...   \n",
       "19574   0.948939   0.024967   0.026094  0.827273  0.074793  0.097934   \n",
       "19575   0.945483   0.013374   0.041143  0.914230  0.007256  0.078513   \n",
       "19576   0.993636   0.001886   0.004478  0.987036  0.006523  0.006441   \n",
       "19577   0.265845   0.666056   0.068099  0.469771  0.188130  0.342100   \n",
       "19578   0.000119   0.999788   0.000094  0.118459  0.856911  0.024630   \n",
       "\n",
       "       EAP_lstm  HPL_lstm  MWS_lstm  \n",
       "0      0.973642  0.022725  0.003634  \n",
       "1      0.041964  0.946103  0.011933  \n",
       "2      0.947245  0.050048  0.002706  \n",
       "3      0.001704  0.000341  0.997956  \n",
       "4      0.047649  0.936279  0.016072  \n",
       "...         ...       ...       ...  \n",
       "19574  0.902995  0.071810  0.025195  \n",
       "19575  0.888047  0.013352  0.098602  \n",
       "19576  0.991580  0.003177  0.005243  \n",
       "19577  0.500659  0.319762  0.179580  \n",
       "19578  0.005168  0.992500  0.002331  \n",
       "\n",
       "[19579 rows x 9 columns]"
      ]
     },
     "execution_count": 20,
     "metadata": {},
     "output_type": "execute_result"
    }
   ],
   "source": [
    "X_final = ensemble_df[['EAP_ngram', 'HPL_ngram', 'MWS_ngram', \\\n",
    "                       'EAP_cnn', 'HPL_cnn','MWS_cnn', \\\n",
    "                       'EAP_lstm', 'HPL_lstm', 'MWS_lstm']].copy()\n",
    "#, 'EAP_cnn', 'HPL_cnn', 'MWS_cnn'\n",
    "authors_final = ensemble_df[\"actual_author\"].copy()\n",
    "\n",
    "# Label data\n",
    "y_final = []\n",
    "for author in authors_final:\n",
    "    if author == \"EAP\":\n",
    "        y_final.append([1, 0, 0])\n",
    "    if author == \"HPL\":\n",
    "        y_final.append([0, 1, 0])\n",
    "    if author == \"MWS\":\n",
    "        y_final.append([0, 0, 1])\n",
    "\n",
    "y_final = np.array(y_final)\n",
    "X_final"
   ]
  },
  {
   "cell_type": "code",
   "execution_count": 21,
   "id": "3cc37cb8",
   "metadata": {},
   "outputs": [],
   "source": [
    "X_train_final, X_test_final, y_train_final, y_test_final = train_test_split(X_final, y_final, test_size=0.2, random_state=42)\n"
   ]
  },
  {
   "cell_type": "markdown",
   "id": "5f70ad16",
   "metadata": {},
   "source": [
    "### Ensemble (mlp)"
   ]
  },
  {
   "cell_type": "code",
   "execution_count": 22,
   "id": "0fe555e2",
   "metadata": {},
   "outputs": [],
   "source": [
    "ensemble = tf.keras.Sequential()\n",
    "# for 3 model\n",
    "ensemble.add(tf.keras.layers.Dense(36, activation='relu'))\n",
    "ensemble.add(tf.keras.layers.Dropout(0.2))\n",
    "\n",
    "ensemble.add(tf.keras.layers.Dense(3, activation='softmax'))\n",
    "\n",
    "ensemble.compile(loss=tf.keras.losses.CategoricalCrossentropy(),\n",
    "             optimizer=tf.keras.optimizers.Adam(1e-3),\n",
    "             metrics=['accuracy'])\n",
    "\n",
    "\n",
    "pass_same = tf.keras.Sequential()\n",
    "pass_same.add(tf.keras.layers.InputLayer())\n",
    "pass_same.compile(loss=tf.keras.losses.CategoricalCrossentropy(),\n",
    "             optimizer=tf.keras.optimizers.Adam(1e-3),\n",
    "             metrics=['accuracy'])"
   ]
  },
  {
   "cell_type": "code",
   "execution_count": 23,
   "id": "8267c928",
   "metadata": {},
   "outputs": [
    {
     "name": "stdout",
     "output_type": "stream",
     "text": [
      "Epoch 1/2\n",
      "123/123 [==============================] - 1s 4ms/step - loss: 0.5961 - accuracy: 0.9280 - val_loss: 0.4525 - val_accuracy: 0.8672\n",
      "Epoch 2/2\n",
      "123/123 [==============================] - 0s 3ms/step - loss: 0.1534 - accuracy: 0.9818 - val_loss: 0.3708 - val_accuracy: 0.8695\n"
     ]
    },
    {
     "data": {
      "text/plain": [
       "<keras.callbacks.History at 0x230760c51c0>"
      ]
     },
     "execution_count": 23,
     "metadata": {},
     "output_type": "execute_result"
    }
   ],
   "source": [
    "ensemble.fit(X_train_final, y_train_final, epochs=2, batch_size=128,\n",
    "         validation_data=(X_test_final,y_test_final),\n",
    "         validation_steps=10)"
   ]
  },
  {
   "cell_type": "code",
   "execution_count": 24,
   "id": "5f827148",
   "metadata": {},
   "outputs": [
    {
     "name": "stdout",
     "output_type": "stream",
     "text": [
      "123/123 [==============================] - 0s 2ms/step - loss: 0.3803 - accuracy: 0.8613\n",
      "123/123 [==============================] - 1s 10ms/step - loss: 0.3902 - accuracy: 0.8539\n"
     ]
    },
    {
     "data": {
      "text/plain": [
       "[0.39023157954216003, 0.8539325594902039]"
      ]
     },
     "execution_count": 24,
     "metadata": {},
     "output_type": "execute_result"
    }
   ],
   "source": [
    "ensemble.evaluate(X_test_final,y_test_final)\n",
    "model_ngram.evaluate(X_test,y_test)"
   ]
  },
  {
   "cell_type": "code",
   "execution_count": 25,
   "id": "8652efcc",
   "metadata": {},
   "outputs": [
    {
     "name": "stdout",
     "output_type": "stream",
     "text": [
      "123/123 [==============================] - 1s 10ms/step - loss: 0.3902 - accuracy: 0.8539\n",
      "123/123 [==============================] - 1s 7ms/step - loss: 0.4384 - accuracy: 0.8297\n",
      "123/123 [==============================] - 0s 3ms/step - loss: 0.4786 - accuracy: 0.8090\n",
      "123/123 [==============================] - 0s 2ms/step - loss: 0.3803 - accuracy: 0.8613\n"
     ]
    }
   ],
   "source": [
    "ngram_results = model_ngram.evaluate(X_test,y_test)\n",
    "LSTM_results =LSTM.evaluate(X_test,y_test)\n",
    "cnn_results =cnn.evaluate(X_test,y_test)\n",
    "\n",
    "ensemble_results =ensemble.evaluate(X_test_final,y_test_final)\n",
    "\n",
    "df_results = pd.DataFrame({\"ngram\":ngram_results,\"cnn\":cnn_results,\\\n",
    "                           \"LSTM\":LSTM_results,\"ensemble\":ensemble_results})"
   ]
  },
  {
   "cell_type": "code",
   "execution_count": 26,
   "id": "e2e6a80a",
   "metadata": {},
   "outputs": [
    {
     "data": {
      "text/html": [
       "<div>\n",
       "<style scoped>\n",
       "    .dataframe tbody tr th:only-of-type {\n",
       "        vertical-align: middle;\n",
       "    }\n",
       "\n",
       "    .dataframe tbody tr th {\n",
       "        vertical-align: top;\n",
       "    }\n",
       "\n",
       "    .dataframe thead th {\n",
       "        text-align: right;\n",
       "    }\n",
       "</style>\n",
       "<table border=\"1\" class=\"dataframe\">\n",
       "  <thead>\n",
       "    <tr style=\"text-align: right;\">\n",
       "      <th></th>\n",
       "      <th>ngram</th>\n",
       "      <th>cnn</th>\n",
       "      <th>LSTM</th>\n",
       "      <th>ensemble</th>\n",
       "    </tr>\n",
       "  </thead>\n",
       "  <tbody>\n",
       "    <tr>\n",
       "      <th>0</th>\n",
       "      <td>0.390232</td>\n",
       "      <td>0.478633</td>\n",
       "      <td>0.438351</td>\n",
       "      <td>0.380303</td>\n",
       "    </tr>\n",
       "    <tr>\n",
       "      <th>1</th>\n",
       "      <td>0.853933</td>\n",
       "      <td>0.808989</td>\n",
       "      <td>0.829673</td>\n",
       "      <td>0.861338</td>\n",
       "    </tr>\n",
       "  </tbody>\n",
       "</table>\n",
       "</div>"
      ],
      "text/plain": [
       "      ngram       cnn      LSTM  ensemble\n",
       "0  0.390232  0.478633  0.438351  0.380303\n",
       "1  0.853933  0.808989  0.829673  0.861338"
      ]
     },
     "execution_count": 26,
     "metadata": {},
     "output_type": "execute_result"
    }
   ],
   "source": [
    "df_results"
   ]
  },
  {
   "cell_type": "markdown",
   "id": "b9d5c042",
   "metadata": {},
   "source": [
    "### Average of level one classifiers"
   ]
  },
  {
   "cell_type": "code",
   "execution_count": 27,
   "id": "0c437a01",
   "metadata": {},
   "outputs": [
    {
     "name": "stdout",
     "output_type": "stream",
     "text": [
      "123/123 [==============================] - 0s 2ms/step - loss: 0.3814 - accuracy: 0.8539\n"
     ]
    },
    {
     "data": {
      "text/plain": [
       "[0.3813556134700775, 0.8539325594902039]"
      ]
     },
     "execution_count": 27,
     "metadata": {},
     "output_type": "execute_result"
    }
   ],
   "source": [
    "all_ave = (cnn_pred+ngram_pred +LSTM_pred )/3\n",
    "X_train_ave, X_test_ave, y_train_ave, y_test_ave = train_test_split(all_ave, y_final, test_size=0.2, random_state=42)\n",
    "\n",
    "\n",
    "\n",
    "pass_same.evaluate(X_test_ave,y_test_final)"
   ]
  },
  {
   "cell_type": "code",
   "execution_count": 28,
   "id": "b25df58b",
   "metadata": {},
   "outputs": [
    {
     "name": "stdout",
     "output_type": "stream",
     "text": [
      "123/123 [==============================] - 0s 2ms/step - loss: 0.3814 - accuracy: 0.8539\n"
     ]
    },
    {
     "data": {
      "text/html": [
       "<div>\n",
       "<style scoped>\n",
       "    .dataframe tbody tr th:only-of-type {\n",
       "        vertical-align: middle;\n",
       "    }\n",
       "\n",
       "    .dataframe tbody tr th {\n",
       "        vertical-align: top;\n",
       "    }\n",
       "\n",
       "    .dataframe thead th {\n",
       "        text-align: right;\n",
       "    }\n",
       "</style>\n",
       "<table border=\"1\" class=\"dataframe\">\n",
       "  <thead>\n",
       "    <tr style=\"text-align: right;\">\n",
       "      <th></th>\n",
       "      <th>ngram</th>\n",
       "      <th>cnn</th>\n",
       "      <th>LSTM</th>\n",
       "      <th>ensemble</th>\n",
       "      <th>raw_ave</th>\n",
       "    </tr>\n",
       "  </thead>\n",
       "  <tbody>\n",
       "    <tr>\n",
       "      <th>0</th>\n",
       "      <td>0.390232</td>\n",
       "      <td>0.478633</td>\n",
       "      <td>0.438351</td>\n",
       "      <td>0.380303</td>\n",
       "      <td>0.381356</td>\n",
       "    </tr>\n",
       "    <tr>\n",
       "      <th>1</th>\n",
       "      <td>0.853933</td>\n",
       "      <td>0.808989</td>\n",
       "      <td>0.829673</td>\n",
       "      <td>0.861338</td>\n",
       "      <td>0.853933</td>\n",
       "    </tr>\n",
       "  </tbody>\n",
       "</table>\n",
       "</div>"
      ],
      "text/plain": [
       "      ngram       cnn      LSTM  ensemble   raw_ave\n",
       "0  0.390232  0.478633  0.438351  0.380303  0.381356\n",
       "1  0.853933  0.808989  0.829673  0.861338  0.853933"
      ]
     },
     "execution_count": 28,
     "metadata": {},
     "output_type": "execute_result"
    }
   ],
   "source": [
    "df_results['raw_ave'] = pass_same.evaluate(X_test_ave,y_test_final)\n",
    "df_results"
   ]
  },
  {
   "cell_type": "markdown",
   "id": "18c226eb",
   "metadata": {},
   "source": [
    "### Linear Regression of predictions"
   ]
  },
  {
   "cell_type": "code",
   "execution_count": 29,
   "id": "9ab848c7",
   "metadata": {},
   "outputs": [],
   "source": [
    "from sklearn.linear_model import LinearRegression\n"
   ]
  },
  {
   "cell_type": "code",
   "execution_count": 30,
   "id": "fc449d86",
   "metadata": {},
   "outputs": [],
   "source": [
    "lin_reg = LinearRegression(fit_intercept=False, positive= True).fit(X_train_final, y_train_final)\n"
   ]
  },
  {
   "cell_type": "code",
   "execution_count": 31,
   "id": "5a678ad5",
   "metadata": {},
   "outputs": [
    {
     "name": "stdout",
     "output_type": "stream",
     "text": [
      "0.6717982644468995\n"
     ]
    }
   ],
   "source": [
    "print(lin_reg.score(X_test_final, y_test_final))\n"
   ]
  },
  {
   "cell_type": "code",
   "execution_count": 32,
   "id": "d23758b2",
   "metadata": {},
   "outputs": [
    {
     "data": {
      "text/plain": [
       "array([[1.03342784e+00, 2.72527873e-03, 3.35339277e-03],\n",
       "       [3.36418228e-01, 1.34634396e-01, 5.52629422e-01],\n",
       "       [1.94467509e-01, 3.57983076e-01, 4.67787955e-01],\n",
       "       ...,\n",
       "       [6.36424985e-04, 1.01052731e+00, 2.40648124e-04],\n",
       "       [2.14953871e-02, 9.82143349e-01, 9.24399727e-03],\n",
       "       [9.85691314e-01, 4.25081793e-02, 5.14714167e-03]])"
      ]
     },
     "execution_count": 32,
     "metadata": {},
     "output_type": "execute_result"
    }
   ],
   "source": [
    "lin_reg.predict(X_test_final)\n"
   ]
  },
  {
   "cell_type": "code",
   "execution_count": 33,
   "id": "ef26275b",
   "metadata": {},
   "outputs": [
    {
     "name": "stdout",
     "output_type": "stream",
     "text": [
      "123/123 [==============================] - 0s 2ms/step - loss: 0.3890 - accuracy: 0.8539\n"
     ]
    },
    {
     "data": {
      "text/plain": [
       "[0.38899120688438416, 0.8539325594902039]"
      ]
     },
     "execution_count": 33,
     "metadata": {},
     "output_type": "execute_result"
    }
   ],
   "source": [
    "pass_same.evaluate(lin_reg.predict(X_test_final), y_test_final)"
   ]
  },
  {
   "cell_type": "code",
   "execution_count": 34,
   "id": "47a2f473",
   "metadata": {},
   "outputs": [
    {
     "name": "stdout",
     "output_type": "stream",
     "text": [
      "123/123 [==============================] - 0s 2ms/step - loss: 0.3890 - accuracy: 0.8539\n"
     ]
    },
    {
     "data": {
      "text/html": [
       "<div>\n",
       "<style scoped>\n",
       "    .dataframe tbody tr th:only-of-type {\n",
       "        vertical-align: middle;\n",
       "    }\n",
       "\n",
       "    .dataframe tbody tr th {\n",
       "        vertical-align: top;\n",
       "    }\n",
       "\n",
       "    .dataframe thead th {\n",
       "        text-align: right;\n",
       "    }\n",
       "</style>\n",
       "<table border=\"1\" class=\"dataframe\">\n",
       "  <thead>\n",
       "    <tr style=\"text-align: right;\">\n",
       "      <th></th>\n",
       "      <th>ngram</th>\n",
       "      <th>cnn</th>\n",
       "      <th>LSTM</th>\n",
       "      <th>ensemble</th>\n",
       "      <th>raw_ave</th>\n",
       "      <th>Linear_reg</th>\n",
       "    </tr>\n",
       "  </thead>\n",
       "  <tbody>\n",
       "    <tr>\n",
       "      <th>0</th>\n",
       "      <td>0.390232</td>\n",
       "      <td>0.478633</td>\n",
       "      <td>0.438351</td>\n",
       "      <td>0.380303</td>\n",
       "      <td>0.381356</td>\n",
       "      <td>0.388991</td>\n",
       "    </tr>\n",
       "    <tr>\n",
       "      <th>1</th>\n",
       "      <td>0.853933</td>\n",
       "      <td>0.808989</td>\n",
       "      <td>0.829673</td>\n",
       "      <td>0.861338</td>\n",
       "      <td>0.853933</td>\n",
       "      <td>0.853933</td>\n",
       "    </tr>\n",
       "  </tbody>\n",
       "</table>\n",
       "</div>"
      ],
      "text/plain": [
       "      ngram       cnn      LSTM  ensemble   raw_ave  Linear_reg\n",
       "0  0.390232  0.478633  0.438351  0.380303  0.381356    0.388991\n",
       "1  0.853933  0.808989  0.829673  0.861338  0.853933    0.853933"
      ]
     },
     "execution_count": 34,
     "metadata": {},
     "output_type": "execute_result"
    }
   ],
   "source": [
    "df_results['Linear_reg'] =pass_same.evaluate(lin_reg.predict(X_test_final), y_test_final)\n",
    "df_results"
   ]
  },
  {
   "cell_type": "markdown",
   "id": "cf19e62f",
   "metadata": {},
   "source": [
    "### EDA on Level one predictions:"
   ]
  },
  {
   "cell_type": "code",
   "execution_count": 35,
   "id": "9d3d4b00",
   "metadata": {},
   "outputs": [
    {
     "name": "stdout",
     "output_type": "stream",
     "text": [
      "number all wrong 301\n",
      "number ngram wrong 572\n",
      "number cnn wrong 749\n",
      "number lstm wrong 667\n",
      "\n",
      "\n",
      "ngram right, cnn/lstm wrong 164\n",
      "cnn right, ngram/lstm wrong 57\n",
      "lstm right, cnn/ngram wrong 64\n",
      "\n",
      "\n",
      "ngram/cnn right, lstm wrong 145\n",
      "cnn/lstm right, ngram wrong 150\n",
      "ngram/lstm right, cnn wrong 220\n",
      "0.07686414708886619\n"
     ]
    }
   ],
   "source": [
    "ngram_wrong = np.argmax(X_test_final.values[:,:3], axis = 1) != np.argmax(y_test_final, axis = 1)\n",
    "ind_ngram = np.argwhere(ngram_wrong).reshape(len(np.argwhere(ngram_wrong)),)\n",
    "cnn_wrong = np.argmax(X_test_final.values[:,3:6], axis = 1) != np.argmax(y_test_final, axis = 1)\n",
    "ind_cnn = np.argwhere(cnn_wrong).reshape(len(np.argwhere(cnn_wrong)),)\n",
    "lstm_wrong = np.argmax(X_test_final.values[:,6:9], axis = 1) != np.argmax(y_test_final, axis = 1)\n",
    "ind_lstm = np.argwhere(lstm_wrong).reshape(len(np.argwhere(lstm_wrong)),)\n",
    "\n",
    "\n",
    "\n",
    "all_wrong = set(ind_cnn).intersection(set(ind_ngram),set(ind_lstm))\n",
    "cnn_lstm_wrong = set(ind_cnn).intersection(set(ind_lstm))\n",
    "ngram_lstm_wrong = set(ind_ngram).intersection(set(ind_lstm))\n",
    "cnn_ngram_wrong = set(ind_cnn).intersection(set(ind_ngram))\n",
    "\n",
    "\n",
    "print(\"number all wrong\", len(all_wrong))\n",
    "print(\"number ngram wrong\",len(ind_ngram))\n",
    "\n",
    "print(\"number cnn wrong\",len(ind_cnn))\n",
    "print(\"number lstm wrong\",len(ind_lstm))\n",
    "print('')\n",
    "print('')\n",
    "\n",
    "print('ngram right, cnn/lstm wrong',len(cnn_lstm_wrong.difference(set(ind_ngram))))\n",
    "print('cnn right, ngram/lstm wrong',len(ngram_lstm_wrong.difference(set(ind_cnn))))\n",
    "print('lstm right, cnn/ngram wrong',len(cnn_ngram_wrong.difference(set(ind_lstm))))\n",
    "print('')\n",
    "print('')\n",
    "\n",
    "print('ngram/cnn right, lstm wrong',len(set(ind_lstm).difference(set(ind_ngram).union(set(ind_cnn)))))\n",
    "print('cnn/lstm right, ngram wrong',len(set(ind_ngram).difference(set(ind_lstm).union(set(ind_cnn)))))\n",
    "print('ngram/lstm right, cnn wrong',len(set(ind_cnn).difference(set(ind_ngram).union(set(ind_lstm)))))\n",
    "\n",
    "print(len(all_wrong)/len(y_test_final))"
   ]
  },
  {
   "cell_type": "code",
   "execution_count": 36,
   "id": "9ac6f3e2",
   "metadata": {},
   "outputs": [
    {
     "data": {
      "text/plain": [
       "10639                               No delay was to ensue.\n",
       "9504     She had spoken also of the Black Man, of her o...\n",
       "14161    There are surely other worlds than this other ...\n",
       "11277    His chief amusements were gunning and fishing,...\n",
       "19231    I was not so sanguine as she as to the result ...\n",
       "                               ...                        \n",
       "1227     Suddenly these manifestations they ceased, and...\n",
       "10509    Close by is a tomb, once beautiful with the su...\n",
       "2325     I had gazed with wonder, mixed with fear and e...\n",
       "8658     He evidently feared the physical effect of vio...\n",
       "1664     Were not the mightiest men of the olden times ...\n",
       "Name: text, Length: 301, dtype: object"
      ]
     },
     "execution_count": 36,
     "metadata": {},
     "output_type": "execute_result"
    }
   ],
   "source": [
    "X_test.iloc[list(all_wrong)]"
   ]
  },
  {
   "cell_type": "code",
   "execution_count": null,
   "id": "6f9ee8ce",
   "metadata": {},
   "outputs": [],
   "source": []
  }
 ],
 "metadata": {
  "kernelspec": {
   "display_name": "Python 3 (ipykernel)",
   "language": "python",
   "name": "python3"
  },
  "language_info": {
   "codemirror_mode": {
    "name": "ipython",
    "version": 3
   },
   "file_extension": ".py",
   "mimetype": "text/x-python",
   "name": "python",
   "nbconvert_exporter": "python",
   "pygments_lexer": "ipython3",
   "version": "3.9.7"
  }
 },
 "nbformat": 4,
 "nbformat_minor": 5
}
