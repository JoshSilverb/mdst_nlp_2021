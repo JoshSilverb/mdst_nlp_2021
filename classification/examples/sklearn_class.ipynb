{
  "nbformat": 4,
  "nbformat_minor": 0,
  "metadata": {
    "colab": {
      "name": "sklearn_class.ipynb",
      "provenance": []
    },
    "kernelspec": {
      "name": "python3",
      "display_name": "Python 3"
    },
    "language_info": {
      "name": "python"
    }
  },
  "cells": [
    {
      "cell_type": "code",
      "metadata": {
        "id": "aQmg8rYW-zFe"
      },
      "source": [
        "import numpy as np\n",
        "import tensorflow as tf\n",
        "import pandas as pd\n",
        "from sklearn.model_selection import train_test_split\n",
        "import matplotlib.pyplot as plt\n",
        "import scipy\n",
        "\n",
        "from sklearn.neighbors import RadiusNeighborsClassifier\n",
        "from sklearn.ensemble import RandomForestClassifier\n",
        "from sklearn.ensemble import ExtraTreesClassifier\n",
        "from sklearn.naive_bayes import BernoulliNB\n",
        "from xgboost.sklearn import XGBClassifier\n",
        "from sklearn.linear_model import LinearRegression, LogisticRegression\n",
        "from sklearn.naive_bayes import MultinomialNB\n",
        "from sklearn.ensemble import AdaBoostClassifier\n",
        "\n",
        "\n",
        "from sklearn.model_selection import KFold\n",
        "from sklearn.metrics import log_loss\n",
        "from sklearn.svm import LinearSVC,SVC"
      ],
      "execution_count": 1,
      "outputs": []
    },
    {
      "cell_type": "code",
      "metadata": {
        "colab": {
          "base_uri": "https://localhost:8080/"
        },
        "id": "HOMUz7d3-3fY",
        "outputId": "169c9b44-d72f-46af-eb1d-4b16979d58f3"
      },
      "source": [
        "from google.colab import drive\n",
        "drive.mount('/content/drive')"
      ],
      "execution_count": 2,
      "outputs": [
        {
          "output_type": "stream",
          "name": "stdout",
          "text": [
            "Mounted at /content/drive\n"
          ]
        }
      ]
    },
    {
      "cell_type": "code",
      "metadata": {
        "colab": {
          "base_uri": "https://localhost:8080/",
          "height": 53
        },
        "id": "XGDzqbDP-5Mw",
        "outputId": "7270cfe3-7674-4051-b40c-c3baea15ee17"
      },
      "source": [
        "import os            ##  This module is for \"operating system\" interfaces\n",
        "import sys           ##  This module is for functionality relevant to the python run time\n",
        "\n",
        "GOOGLE_PATH_AFTER_MYDRIVE = 'NLP_Textcat/spooky_data/train'\n",
        "GOOGLE_DRIVE_PATH = os.path.join('drive','My Drive', GOOGLE_PATH_AFTER_MYDRIVE)\n",
        "print(os.listdir(GOOGLE_DRIVE_PATH))\n",
        "\n",
        "# Append the directory path of this notebook to what python easily \"sees\"\n",
        "sys.path.append(GOOGLE_DRIVE_PATH)\n",
        "\n",
        "# Make your current working direct\n",
        "GOOGLE_DRIVE_PATH"
      ],
      "execution_count": 3,
      "outputs": [
        {
          "output_type": "stream",
          "name": "stdout",
          "text": [
            "['train.csv']\n"
          ]
        },
        {
          "output_type": "execute_result",
          "data": {
            "application/vnd.google.colaboratory.intrinsic+json": {
              "type": "string"
            },
            "text/plain": [
              "'drive/My Drive/NLP_Textcat/spooky_data/train'"
            ]
          },
          "metadata": {},
          "execution_count": 3
        }
      ]
    },
    {
      "cell_type": "code",
      "metadata": {
        "colab": {
          "base_uri": "https://localhost:8080/",
          "height": 206
        },
        "id": "LsJFDaUn--Sn",
        "outputId": "848b2ee8-167f-4e3f-8533-49b5db863201"
      },
      "source": [
        "\n",
        "df = pd.read_csv('drive/My Drive/NLP_Textcat/spooky_data/train/train.csv')\n",
        "df.head()"
      ],
      "execution_count": 4,
      "outputs": [
        {
          "output_type": "execute_result",
          "data": {
            "text/html": [
              "<div>\n",
              "<style scoped>\n",
              "    .dataframe tbody tr th:only-of-type {\n",
              "        vertical-align: middle;\n",
              "    }\n",
              "\n",
              "    .dataframe tbody tr th {\n",
              "        vertical-align: top;\n",
              "    }\n",
              "\n",
              "    .dataframe thead th {\n",
              "        text-align: right;\n",
              "    }\n",
              "</style>\n",
              "<table border=\"1\" class=\"dataframe\">\n",
              "  <thead>\n",
              "    <tr style=\"text-align: right;\">\n",
              "      <th></th>\n",
              "      <th>id</th>\n",
              "      <th>text</th>\n",
              "      <th>author</th>\n",
              "    </tr>\n",
              "  </thead>\n",
              "  <tbody>\n",
              "    <tr>\n",
              "      <th>0</th>\n",
              "      <td>id26305</td>\n",
              "      <td>This process, however, afforded me no means of...</td>\n",
              "      <td>EAP</td>\n",
              "    </tr>\n",
              "    <tr>\n",
              "      <th>1</th>\n",
              "      <td>id17569</td>\n",
              "      <td>It never once occurred to me that the fumbling...</td>\n",
              "      <td>HPL</td>\n",
              "    </tr>\n",
              "    <tr>\n",
              "      <th>2</th>\n",
              "      <td>id11008</td>\n",
              "      <td>In his left hand was a gold snuff box, from wh...</td>\n",
              "      <td>EAP</td>\n",
              "    </tr>\n",
              "    <tr>\n",
              "      <th>3</th>\n",
              "      <td>id27763</td>\n",
              "      <td>How lovely is spring As we looked from Windsor...</td>\n",
              "      <td>MWS</td>\n",
              "    </tr>\n",
              "    <tr>\n",
              "      <th>4</th>\n",
              "      <td>id12958</td>\n",
              "      <td>Finding nothing else, not even gold, the Super...</td>\n",
              "      <td>HPL</td>\n",
              "    </tr>\n",
              "  </tbody>\n",
              "</table>\n",
              "</div>"
            ],
            "text/plain": [
              "        id                                               text author\n",
              "0  id26305  This process, however, afforded me no means of...    EAP\n",
              "1  id17569  It never once occurred to me that the fumbling...    HPL\n",
              "2  id11008  In his left hand was a gold snuff box, from wh...    EAP\n",
              "3  id27763  How lovely is spring As we looked from Windsor...    MWS\n",
              "4  id12958  Finding nothing else, not even gold, the Super...    HPL"
            ]
          },
          "metadata": {},
          "execution_count": 4
        }
      ]
    },
    {
      "cell_type": "code",
      "metadata": {
        "id": "RSf8hqCx-_9I"
      },
      "source": [
        "\n",
        "X = df[\"text\"].copy()\n",
        "#X = df[\"text\"]\n",
        "\n",
        "authors = df[\"author\"].copy()\n",
        "\n",
        "# Label data\n",
        "y = []\n",
        "for author in authors:\n",
        "    if author == \"EAP\":\n",
        "        y.append([1, 0, 0])\n",
        "    if author == \"HPL\":\n",
        "        y.append([0, 1, 0])\n",
        "    if author == \"MWS\":\n",
        "        y.append([0, 0, 1])\n",
        "\n",
        "y = np.array(y)\n",
        "\n",
        "y_one_vector = []\n",
        "for author in authors:\n",
        "    if author == \"EAP\":\n",
        "        y_one_vector.append(0)\n",
        "    if author == \"HPL\":\n",
        "        y_one_vector.append(1)\n",
        "    if author == \"MWS\":\n",
        "        y_one_vector.append(2)\n",
        "\n",
        "y_one_vector = np.array(y_one_vector)"
      ],
      "execution_count": 5,
      "outputs": []
    },
    {
      "cell_type": "code",
      "metadata": {
        "id": "vZdXYBM7_B1X"
      },
      "source": [
        "def convert_sparce(sparse_tensor):\n",
        "  \n",
        "  row  = np.array(sparse_tensor.indices[:,0])\n",
        "  col  = np.array(sparse_tensor.indices[:,1])\n",
        "  data = np.array(sparse_tensor.values)\n",
        "  out = scipy.sparse.coo_matrix((data, (row, col)), shape=(sparse_tensor.shape.as_list()))\n",
        "\n",
        "  return out\n",
        "\n",
        "def create_ensemble():\n",
        "    ensemble = tf.keras.Sequential()\n",
        "    # for 3 model\n",
        "    ensemble.add(tf.keras.layers.Dense(36, activation='relu'))\n",
        "    ensemble.add(tf.keras.layers.Dropout(0.2))\n",
        "\n",
        "    ensemble.add(tf.keras.layers.Dense(3, activation='softmax'))\n",
        "    #ensemble.add(tf.keras.layers.InputLayer())\n",
        "\n",
        "    ensemble.compile(loss=tf.keras.losses.CategoricalCrossentropy(),\n",
        "                optimizer=tf.keras.optimizers.Adam(1e-3),\n",
        "                metrics=['accuracy'])\n",
        "\n",
        "    return ensemble"
      ],
      "execution_count": 6,
      "outputs": []
    },
    {
      "cell_type": "code",
      "metadata": {
        "id": "BoRs_6nY_Diw"
      },
      "source": [
        "max_features = 1000000\n",
        "tfidf_vec = tf.keras.layers.TextVectorization(max_tokens=max_features, output_mode='tf_idf', sparse=True, ngrams=2)\n",
        "count_vec = tf.keras.layers.TextVectorization(max_tokens=max_features, output_mode='count', sparse=True, ngrams=1)\n",
        "\n",
        "with tf.device('/device:CPU:0'):\n",
        "  tfidf_vec.adapt(X)\n",
        "  count_vec.adapt(X)\n"
      ],
      "execution_count": 7,
      "outputs": []
    },
    {
      "cell_type": "code",
      "metadata": {
        "id": "u3-B6KAu_H1H"
      },
      "source": [
        "tdidf = tf.keras.Sequential([\n",
        "    tfidf_vec])\n",
        "count = tf.keras.Sequential([\n",
        "                             \n",
        "                             \n",
        "    count_vec])\n",
        "df = pd.DataFrame(columns = ['model', 'average', 'logloss'])"
      ],
      "execution_count": 15,
      "outputs": []
    },
    {
      "cell_type": "code",
      "metadata": {
        "colab": {
          "base_uri": "https://localhost:8080/"
        },
        "id": "wIX3ZtCF_Kp3",
        "outputId": "5a2854bf-7b82-4720-fb18-3706c0dec0f9"
      },
      "source": [
        "kf = KFold(n_splits=3)\n",
        "\n",
        "for train_index, test_index in kf.split(X[:5000]):\n",
        "\n",
        "  X_train = X.iloc[train_index]\n",
        "  X_test = X.iloc[test_index]\n",
        "  y_train = y[train_index]\n",
        "  y_test = y[test_index]\n",
        "\n",
        "\n",
        "  x_train_sparce_tdidf = tdidf.predict(X_train)\n",
        "  x_test_sparce_tdidf = tdidf.predict(X_test)\n",
        "  x_train_sparce_count = count.predict(X_train)\n",
        "  x_test_sparce_count = count.predict(X_test)\n",
        "\n",
        "  train_tdift_data = convert_sparce(x_train_sparce_tdidf)\n",
        "  test_tdift_data = convert_sparce(x_test_sparce_tdidf)\n",
        "  train_count_data = convert_sparce(x_train_sparce_count)\n",
        "  test_count_data = convert_sparce(x_test_sparce_count)\n",
        "\n",
        "\n",
        "\n",
        "\n",
        "  nb = BernoulliNB()\n",
        "  extra_trees = ExtraTreesClassifier()\n",
        "  rand_forrest = RandomForestClassifier()\n",
        "  multi_nb = MultinomialNB(alpha=1.5)\n",
        "  ada = AdaBoostClassifier()\n",
        "\n",
        "\n",
        "  nb.fit(train_count_data, np.argmax(y_train, axis =1))\n",
        "  #extra_trees.fit(train_tdift_data, np.argmax(y_train, axis =1))\n",
        "  rand_forrest.fit(train_tdift_data, np.argmax(y_train, axis =1))\n",
        "  multi_nb.fit(train_count_data, np.argmax(y_train, axis =1))\n",
        "  #ada.fit(train_tdift_data, np.argmax(y_train, axis =1))\n",
        "\n",
        "\n",
        "\n",
        "  nb_pred = nb.predict_proba(test_count_data)\n",
        "  #extra_trees_pred = extra_trees.predict_proba(test_tdift_data)\n",
        "  rand_forrest_pred = rand_forrest.predict_proba(test_tdift_data)\n",
        "  multi_nb_pred = multi_nb.predict_proba(test_count_data)\n",
        "  #ada_pred = ada.predict_proba(test_tdift_data)\n",
        "\n",
        "\n",
        "  nb_logloss = log_loss(y_test,nb_pred)\n",
        "  #extra_trees_logloss = log_loss(y_test,extra_trees_pred)\n",
        "  rand_forrest_logloss = log_loss(y_test,rand_forrest_pred)\n",
        "  multi_nb_logloss = log_loss(y_test,multi_nb_pred)\n",
        "  #ada_logloss = log_loss(y_test,ada_pred)\n",
        "\n",
        "\n",
        "  nb_acc = np.sum(np.argmax(y_test, axis = 1) == nb.predict(test_count_data))/len(np.argmax(y_test, axis = 1))\n",
        "  #extra_trees_acc = np.sum(np.argmax(y_test, axis = 1) == extra_trees.predict(test_tdift_data))/len(np.argmax(y_test, axis = 1))\n",
        "  rand_forrest_acc = np.sum(np.argmax(y_test, axis = 1) == rand_forrest.predict(test_tdift_data))/len(np.argmax(y_test, axis = 1))\n",
        "  multi_nb_acc = np.sum(np.argmax(y_test, axis = 1) == multi_nb.predict(test_count_data))/len(np.argmax(y_test, axis = 1))\n",
        "  #ada_acc = np.sum(np.argmax(y_test, axis = 1) == ada.predict(test_tdift_data))/len(np.argmax(y_test, axis = 1))\n",
        "\n",
        "\n",
        "\n",
        "  X_train_linear_reg = np.hstack([nb.predict_proba(train_count_data),rand_forrest.predict_proba(train_tdift_data)\\\n",
        "                                  ,multi_nb.predict_proba(train_count_data)])\n",
        "  X_test_linear_reg = np.hstack([nb_pred,rand_forrest_pred,multi_nb_pred])\n",
        "\n",
        "\n",
        "  ensemble = create_ensemble()\n",
        "  ensemble.fit(X_train_linear_reg, y_train, epochs=2, batch_size=128)\n",
        "  ensemble_results =ensemble.evaluate(X_test_linear_reg,y_test)\n",
        "\n",
        "\n",
        "  radius = RadiusNeighborsClassifier(radius = 1.8)\n",
        "  X_train_radius_neigh = np.hstack([nb.predict_proba(train_count_data),rand_forrest.predict_proba(train_tdift_data),multi_nb.predict_proba(train_count_data),  ensemble.predict(X_train_linear_reg)\n",
        "  ])\n",
        "  X_test_radius_neigh = np.hstack([nb_pred,rand_forrest_pred,multi_nb_pred,  ensemble.predict(X_test_linear_reg)])\n",
        "\n",
        "\n",
        "\n",
        "  radius.fit(X_train_radius_neigh, np.argmax(y_train, axis =1))\n",
        "  radius_pred = radius.predict_proba(X_test_radius_neigh)\n",
        "  radius_logloss = log_loss(y_test,radius_pred)\n",
        "  radius_acc = np.sum(np.argmax(y_test, axis = 1) == radius.predict(X_test_radius_neigh))/len(np.argmax(y_test, axis = 1))\n",
        "\n",
        "\n",
        "\n",
        "\n",
        "  df_results = pd.DataFrame({\"model\":['nb','random_forrest','multi_nb','ensemble','neigh'],\\\n",
        "                  \"average\":[nb_acc,rand_forrest_acc,multi_nb_acc,ensemble_results[1],radius_acc],\\\n",
        "                  \"logloss\":[nb_logloss,rand_forrest_logloss,multi_nb_logloss,ensemble_results[0],radius_logloss]})\n",
        "\n",
        "  df = df.append(df_results)\n"
      ],
      "execution_count": 16,
      "outputs": [
        {
          "output_type": "stream",
          "name": "stdout",
          "text": [
            "Epoch 1/2\n",
            "WARNING:tensorflow:6 out of the last 11 calls to <function Model.make_train_function.<locals>.train_function at 0x7f7ca91135f0> triggered tf.function retracing. Tracing is expensive and the excessive number of tracings could be due to (1) creating @tf.function repeatedly in a loop, (2) passing tensors with different shapes, (3) passing Python objects instead of tensors. For (1), please define your @tf.function outside of the loop. For (2), @tf.function has experimental_relax_shapes=True option that relaxes argument shapes that can avoid unnecessary retracing. For (3), please refer to https://www.tensorflow.org/guide/function#controlling_retracing and https://www.tensorflow.org/api_docs/python/tf/function for  more details.\n",
            "27/27 [==============================] - 0s 2ms/step - loss: 0.9676 - accuracy: 0.5734\n",
            "Epoch 2/2\n",
            "27/27 [==============================] - 0s 3ms/step - loss: 0.7425 - accuracy: 0.8155\n",
            "WARNING:tensorflow:6 out of the last 6 calls to <function Model.make_test_function.<locals>.test_function at 0x7f7ca78a5e60> triggered tf.function retracing. Tracing is expensive and the excessive number of tracings could be due to (1) creating @tf.function repeatedly in a loop, (2) passing tensors with different shapes, (3) passing Python objects instead of tensors. For (1), please define your @tf.function outside of the loop. For (2), @tf.function has experimental_relax_shapes=True option that relaxes argument shapes that can avoid unnecessary retracing. For (3), please refer to https://www.tensorflow.org/guide/function#controlling_retracing and https://www.tensorflow.org/api_docs/python/tf/function for  more details.\n",
            "53/53 [==============================] - 0s 2ms/step - loss: 0.8383 - accuracy: 0.6815\n",
            "Epoch 1/2\n",
            "27/27 [==============================] - 1s 2ms/step - loss: 1.1148 - accuracy: 0.3210\n",
            "Epoch 2/2\n",
            "27/27 [==============================] - 0s 2ms/step - loss: 0.8976 - accuracy: 0.7387\n",
            "53/53 [==============================] - 0s 1ms/step - loss: 0.9392 - accuracy: 0.7313\n",
            "Epoch 1/2\n",
            "27/27 [==============================] - 0s 2ms/step - loss: 0.8779 - accuracy: 0.7091\n",
            "Epoch 2/2\n",
            "27/27 [==============================] - 0s 3ms/step - loss: 0.6842 - accuracy: 0.8728\n",
            "53/53 [==============================] - 0s 1ms/step - loss: 0.8455 - accuracy: 0.6561\n"
          ]
        }
      ]
    },
    {
      "cell_type": "code",
      "metadata": {
        "colab": {
          "base_uri": "https://localhost:8080/",
          "height": 269
        },
        "id": "vR2r_VtuAXe2",
        "outputId": "43455189-4c6e-48f1-cbb5-b8919e2fdfd3"
      },
      "source": [
        "df.groupby('model').describe()\n"
      ],
      "execution_count": 17,
      "outputs": [
        {
          "output_type": "execute_result",
          "data": {
            "text/html": [
              "<div>\n",
              "<style scoped>\n",
              "    .dataframe tbody tr th:only-of-type {\n",
              "        vertical-align: middle;\n",
              "    }\n",
              "\n",
              "    .dataframe tbody tr th {\n",
              "        vertical-align: top;\n",
              "    }\n",
              "\n",
              "    .dataframe thead tr th {\n",
              "        text-align: left;\n",
              "    }\n",
              "\n",
              "    .dataframe thead tr:last-of-type th {\n",
              "        text-align: right;\n",
              "    }\n",
              "</style>\n",
              "<table border=\"1\" class=\"dataframe\">\n",
              "  <thead>\n",
              "    <tr>\n",
              "      <th></th>\n",
              "      <th colspan=\"8\" halign=\"left\">average</th>\n",
              "      <th colspan=\"8\" halign=\"left\">logloss</th>\n",
              "    </tr>\n",
              "    <tr>\n",
              "      <th></th>\n",
              "      <th>count</th>\n",
              "      <th>mean</th>\n",
              "      <th>std</th>\n",
              "      <th>min</th>\n",
              "      <th>25%</th>\n",
              "      <th>50%</th>\n",
              "      <th>75%</th>\n",
              "      <th>max</th>\n",
              "      <th>count</th>\n",
              "      <th>mean</th>\n",
              "      <th>std</th>\n",
              "      <th>min</th>\n",
              "      <th>25%</th>\n",
              "      <th>50%</th>\n",
              "      <th>75%</th>\n",
              "      <th>max</th>\n",
              "    </tr>\n",
              "    <tr>\n",
              "      <th>model</th>\n",
              "      <th></th>\n",
              "      <th></th>\n",
              "      <th></th>\n",
              "      <th></th>\n",
              "      <th></th>\n",
              "      <th></th>\n",
              "      <th></th>\n",
              "      <th></th>\n",
              "      <th></th>\n",
              "      <th></th>\n",
              "      <th></th>\n",
              "      <th></th>\n",
              "      <th></th>\n",
              "      <th></th>\n",
              "      <th></th>\n",
              "      <th></th>\n",
              "    </tr>\n",
              "  </thead>\n",
              "  <tbody>\n",
              "    <tr>\n",
              "      <th>ensemble</th>\n",
              "      <td>3.0</td>\n",
              "      <td>0.689593</td>\n",
              "      <td>0.038249</td>\n",
              "      <td>0.656062</td>\n",
              "      <td>0.668763</td>\n",
              "      <td>0.681464</td>\n",
              "      <td>0.706359</td>\n",
              "      <td>0.731254</td>\n",
              "      <td>3.0</td>\n",
              "      <td>0.874343</td>\n",
              "      <td>0.056265</td>\n",
              "      <td>0.838335</td>\n",
              "      <td>0.841924</td>\n",
              "      <td>0.845512</td>\n",
              "      <td>0.892346</td>\n",
              "      <td>0.939180</td>\n",
              "    </tr>\n",
              "    <tr>\n",
              "      <th>multi_nb</th>\n",
              "      <td>3.0</td>\n",
              "      <td>0.738195</td>\n",
              "      <td>0.025316</td>\n",
              "      <td>0.713685</td>\n",
              "      <td>0.725169</td>\n",
              "      <td>0.736653</td>\n",
              "      <td>0.750450</td>\n",
              "      <td>0.764247</td>\n",
              "      <td>3.0</td>\n",
              "      <td>0.801039</td>\n",
              "      <td>0.092910</td>\n",
              "      <td>0.706057</td>\n",
              "      <td>0.755695</td>\n",
              "      <td>0.805333</td>\n",
              "      <td>0.848531</td>\n",
              "      <td>0.891729</td>\n",
              "    </tr>\n",
              "    <tr>\n",
              "      <th>nb</th>\n",
              "      <td>3.0</td>\n",
              "      <td>0.613191</td>\n",
              "      <td>0.039160</td>\n",
              "      <td>0.569628</td>\n",
              "      <td>0.597051</td>\n",
              "      <td>0.624475</td>\n",
              "      <td>0.634973</td>\n",
              "      <td>0.645471</td>\n",
              "      <td>3.0</td>\n",
              "      <td>1.872671</td>\n",
              "      <td>0.437242</td>\n",
              "      <td>1.542769</td>\n",
              "      <td>1.624701</td>\n",
              "      <td>1.706633</td>\n",
              "      <td>2.037623</td>\n",
              "      <td>2.368612</td>\n",
              "    </tr>\n",
              "    <tr>\n",
              "      <th>neigh</th>\n",
              "      <td>3.0</td>\n",
              "      <td>0.585791</td>\n",
              "      <td>0.040529</td>\n",
              "      <td>0.539616</td>\n",
              "      <td>0.570948</td>\n",
              "      <td>0.602280</td>\n",
              "      <td>0.608878</td>\n",
              "      <td>0.615477</td>\n",
              "      <td>3.0</td>\n",
              "      <td>0.779930</td>\n",
              "      <td>0.043039</td>\n",
              "      <td>0.746765</td>\n",
              "      <td>0.755612</td>\n",
              "      <td>0.764459</td>\n",
              "      <td>0.796512</td>\n",
              "      <td>0.828566</td>\n",
              "    </tr>\n",
              "    <tr>\n",
              "      <th>random_forrest</th>\n",
              "      <td>3.0</td>\n",
              "      <td>0.584394</td>\n",
              "      <td>0.027476</td>\n",
              "      <td>0.552821</td>\n",
              "      <td>0.575151</td>\n",
              "      <td>0.597481</td>\n",
              "      <td>0.600180</td>\n",
              "      <td>0.602879</td>\n",
              "      <td>3.0</td>\n",
              "      <td>0.889307</td>\n",
              "      <td>0.040505</td>\n",
              "      <td>0.864453</td>\n",
              "      <td>0.865938</td>\n",
              "      <td>0.867422</td>\n",
              "      <td>0.901734</td>\n",
              "      <td>0.936046</td>\n",
              "    </tr>\n",
              "  </tbody>\n",
              "</table>\n",
              "</div>"
            ],
            "text/plain": [
              "               average                      ...   logloss                    \n",
              "                 count      mean       std  ...       50%       75%       max\n",
              "model                                       ...                              \n",
              "ensemble           3.0  0.689593  0.038249  ...  0.845512  0.892346  0.939180\n",
              "multi_nb           3.0  0.738195  0.025316  ...  0.805333  0.848531  0.891729\n",
              "nb                 3.0  0.613191  0.039160  ...  1.706633  2.037623  2.368612\n",
              "neigh              3.0  0.585791  0.040529  ...  0.764459  0.796512  0.828566\n",
              "random_forrest     3.0  0.584394  0.027476  ...  0.867422  0.901734  0.936046\n",
              "\n",
              "[5 rows x 16 columns]"
            ]
          },
          "metadata": {},
          "execution_count": 17
        }
      ]
    },
    {
      "cell_type": "code",
      "metadata": {
        "colab": {
          "base_uri": "https://localhost:8080/",
          "height": 362
        },
        "id": "KAB9Z6rQBoeI",
        "outputId": "20985643-2070-4e26-9e56-fe27248802e2"
      },
      "source": [
        "fig, ax = plt.subplots(1, 2, figsize=(20, 5))\n",
        "\n",
        "df.boxplot('average',by = 'model', ax=ax[0])\n",
        "df.boxplot('logloss',by = 'model', ax=ax[1])\n",
        "\n",
        "\n",
        "\n",
        "plt.show()"
      ],
      "execution_count": 18,
      "outputs": [
        {
          "output_type": "display_data",
          "data": {
            "image/png": "[encoded data removed]",
            "text/plain": [
              "<Figure size 1440x360 with 2 Axes>"
            ]
          },
          "metadata": {
            "needs_background": "light"
          }
        }
      ]
    },
    {
      "cell_type": "code",
      "metadata": {
        "id": "4AVoxB8EBqpQ"
      },
      "source": [
        ""
      ],
      "execution_count": null,
      "outputs": []
    }
  ]
}