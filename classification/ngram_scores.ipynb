{
 "cells": [
  {
   "cell_type": "code",
   "execution_count": 174,
   "metadata": {},
   "outputs": [],
   "source": [
    "import tensorflow as tf\n",
    "import pandas as pd\n",
    "import numpy as np\n",
    "from sklearn.model_selection import train_test_split"
   ]
  },
  {
   "cell_type": "code",
   "execution_count": 175,
   "metadata": {},
   "outputs": [
    {
     "data": {
      "text/html": [
       "<div>\n",
       "<style scoped>\n",
       "    .dataframe tbody tr th:only-of-type {\n",
       "        vertical-align: middle;\n",
       "    }\n",
       "\n",
       "    .dataframe tbody tr th {\n",
       "        vertical-align: top;\n",
       "    }\n",
       "\n",
       "    .dataframe thead th {\n",
       "        text-align: right;\n",
       "    }\n",
       "</style>\n",
       "<table border=\"1\" class=\"dataframe\">\n",
       "  <thead>\n",
       "    <tr style=\"text-align: right;\">\n",
       "      <th></th>\n",
       "      <th>id</th>\n",
       "      <th>text</th>\n",
       "      <th>author</th>\n",
       "    </tr>\n",
       "  </thead>\n",
       "  <tbody>\n",
       "    <tr>\n",
       "      <th>0</th>\n",
       "      <td>id26305</td>\n",
       "      <td>This process, however, afforded me no means of...</td>\n",
       "      <td>EAP</td>\n",
       "    </tr>\n",
       "    <tr>\n",
       "      <th>1</th>\n",
       "      <td>id17569</td>\n",
       "      <td>It never once occurred to me that the fumbling...</td>\n",
       "      <td>HPL</td>\n",
       "    </tr>\n",
       "    <tr>\n",
       "      <th>2</th>\n",
       "      <td>id11008</td>\n",
       "      <td>In his left hand was a gold snuff box, from wh...</td>\n",
       "      <td>EAP</td>\n",
       "    </tr>\n",
       "    <tr>\n",
       "      <th>3</th>\n",
       "      <td>id27763</td>\n",
       "      <td>How lovely is spring As we looked from Windsor...</td>\n",
       "      <td>MWS</td>\n",
       "    </tr>\n",
       "    <tr>\n",
       "      <th>4</th>\n",
       "      <td>id12958</td>\n",
       "      <td>Finding nothing else, not even gold, the Super...</td>\n",
       "      <td>HPL</td>\n",
       "    </tr>\n",
       "  </tbody>\n",
       "</table>\n",
       "</div>"
      ],
      "text/plain": [
       "        id                                               text author\n",
       "0  id26305  This process, however, afforded me no means of...    EAP\n",
       "1  id17569  It never once occurred to me that the fumbling...    HPL\n",
       "2  id11008  In his left hand was a gold snuff box, from wh...    EAP\n",
       "3  id27763  How lovely is spring As we looked from Windsor...    MWS\n",
       "4  id12958  Finding nothing else, not even gold, the Super...    HPL"
      ]
     },
     "execution_count": 175,
     "metadata": {},
     "output_type": "execute_result"
    }
   ],
   "source": [
    "train_df = pd.read_csv('train.csv')\n",
    "train_df.head()"
   ]
  },
  {
   "cell_type": "code",
   "execution_count": 176,
   "metadata": {},
   "outputs": [],
   "source": [
    "max_features = 1000000 # max vocab size\n",
    "\n",
    "Vectorizer = tf.keras.layers.TextVectorization(max_tokens=max_features,output_mode= 'tf_idf', ngrams=2)\n",
    "\n",
    "Vectorizer.adapt(np.array(train_df['text']))\n",
    "\n",
    "#vocab = Vectorizer.get_vocabulary()\n",
    "#num_tokens = len(vocab)\n",
    "#print(vocab)"
   ]
  },
  {
   "cell_type": "code",
   "execution_count": 177,
   "metadata": {},
   "outputs": [],
   "source": [
    "model = tf.keras.Sequential([\n",
    "    Vectorizer,\n",
    "    tf.keras.layers.Dense(32, activation=\"relu\"),\n",
    "    tf.keras.layers.Dense(3, activation=\"softmax\")\n",
    "])"
   ]
  },
  {
   "cell_type": "code",
   "execution_count": 178,
   "metadata": {},
   "outputs": [],
   "source": [
    "model.compile(loss=tf.keras.losses.CategoricalCrossentropy(),\n",
    "             optimizer=tf.keras.optimizers.Adam(1e-3),\n",
    "             metrics=['accuracy'])"
   ]
  },
  {
   "cell_type": "code",
   "execution_count": 179,
   "metadata": {},
   "outputs": [],
   "source": [
    "X = train_df['text']\n",
    "y = train_df['author']\n",
    "\n",
    "authors_bool = []\n",
    "\n",
    "for i in y:\n",
    "    if i == 'EAP':   authors_bool.append([1,0,0])\n",
    "    elif i == 'HPL': authors_bool.append([0,1,0])\n",
    "    elif i == 'MWS': authors_bool.append([0,0,1])        \n",
    "        \n",
    "X_train, X_test, y_train, y_test = train_test_split(\n",
    "    X, authors_bool, test_size=0.33, shuffle=True, random_state = 13)"
   ]
  },
  {
   "cell_type": "code",
   "execution_count": 180,
   "metadata": {},
   "outputs": [
    {
     "name": "stdout",
     "output_type": "stream",
     "text": [
      "Epoch 1/5\n",
      "410/410 [==============================] - 21s 49ms/step - loss: 0.5555 - accuracy: 0.7747 - val_loss: 0.3952 - val_accuracy: 0.8406\n",
      "Epoch 2/5\n",
      "410/410 [==============================] - 19s 46ms/step - loss: 0.0319 - accuracy: 0.9941 - val_loss: 0.4056 - val_accuracy: 0.8375\n",
      "Epoch 3/5\n",
      "410/410 [==============================] - 19s 46ms/step - loss: 0.0054 - accuracy: 0.9996 - val_loss: 0.4296 - val_accuracy: 0.8313\n",
      "Epoch 4/5\n",
      "410/410 [==============================] - 20s 49ms/step - loss: 0.0023 - accuracy: 0.9998 - val_loss: 0.4480 - val_accuracy: 0.8281\n",
      "Epoch 5/5\n",
      "410/410 [==============================] - 20s 48ms/step - loss: 0.0013 - accuracy: 0.9998 - val_loss: 0.4622 - val_accuracy: 0.8313\n"
     ]
    }
   ],
   "source": [
    "history = model.fit(list(X_train), list(y_train), epochs=5, batch_size=32,\n",
    "                         validation_data=(list(X_test), list(y_test)),\n",
    "                         validation_steps=10)"
   ]
  },
  {
   "cell_type": "code",
   "execution_count": 181,
   "metadata": {},
   "outputs": [
    {
     "data": {
      "text/plain": [
       "array([[7.3137634e-02, 2.2567621e-01, 7.0118612e-01],\n",
       "       [7.2190888e-02, 9.2698961e-01, 8.1948499e-04],\n",
       "       [3.9643169e-04, 6.1843294e-01, 3.8117066e-01],\n",
       "       ...,\n",
       "       [6.8391174e-01, 3.7414517e-02, 2.7867368e-01],\n",
       "       [8.4109271e-01, 5.9719525e-02, 9.9187724e-02],\n",
       "       [7.9937834e-01, 1.9416717e-01, 6.4544743e-03]], dtype=float32)"
      ]
     },
     "execution_count": 181,
     "metadata": {},
     "output_type": "execute_result"
    }
   ],
   "source": [
    "predictions = model.predict(X_test)\n",
    "predictions"
   ]
  },
  {
   "cell_type": "code",
   "execution_count": 182,
   "metadata": {},
   "outputs": [],
   "source": [
    "pred_bool = []\n",
    "\n",
    "for pred in predictions:\n",
    "    pred = list(pred)\n",
    "    max_index = pred.index(max(pred))\n",
    "    \n",
    "    for i in range(len(pred)):\n",
    "        if i == max_index: \n",
    "            pred[i] = 1\n",
    "        else: \n",
    "            pred[i] = 0\n",
    "    pred_bool.append(pred)"
   ]
  },
  {
   "cell_type": "code",
   "execution_count": 183,
   "metadata": {},
   "outputs": [
    {
     "data": {
      "text/plain": [
       "array([[2177,  194,  198],\n",
       "       [ 144, 1500,   57],\n",
       "       [ 283,  167, 1742]])"
      ]
     },
     "execution_count": 183,
     "metadata": {},
     "output_type": "execute_result"
    }
   ],
   "source": [
    "def confusion(predictions, test_labels):\n",
    "    matrix = np.zeros([3,3], dtype=int)\n",
    "    \n",
    "    for i, row in enumerate(predictions):\n",
    "        matrix[np.argmax(row), np.argmax(test_labels[i])] += 1\n",
    "    \n",
    "    return matrix\n",
    "\n",
    "\n",
    "confusion(predictions, y_test)     "
   ]
  },
  {
   "cell_type": "code",
   "execution_count": 184,
   "metadata": {
    "scrolled": true
   },
   "outputs": [
    {
     "data": {
      "text/plain": [
       "Text(33.0, 0.5, 'True')"
      ]
     },
     "execution_count": 184,
     "metadata": {},
     "output_type": "execute_result"
    },
    {
     "data": {
      "image/png": "[encoded data removed]",
      "text/plain": [
       "<Figure size 432x288 with 2 Axes>"
      ]
     },
     "metadata": {
      "needs_background": "light"
     },
     "output_type": "display_data"
    }
   ],
   "source": [
    "import seaborn as sns\n",
    "\n",
    "x_axis_labels = ['EAP', 'HPL', 'MWS']\n",
    "y_axis_labels = ['EAP', 'HPL', 'MWS']\n",
    "\n",
    "ax = sns.heatmap(confusion(predictions, y_test), xticklabels=x_axis_labels, yticklabels=y_axis_labels, annot=True, fmt='d')\n",
    "ax.set_xlabel('Predicted')\n",
    "ax.set_ylabel('True')"
   ]
  },
  {
   "cell_type": "code",
   "execution_count": 185,
   "metadata": {},
   "outputs": [],
   "source": [
    "mat = confusion(predictions, y_test)\n",
    "\n",
    "precisions, recalls, f1s = [],[],[]\n",
    "\n",
    "for i in range(len(mat)):\n",
    "    row = mat[i]\n",
    "    col = mat[:,i]\n",
    "    \n",
    "    p = row[i] / (sum(row))\n",
    "    r = col[i] / sum(col)\n",
    "    f = 2 * ((precision * recall) / (precision + recall))\n",
    "    \n",
    "    precisions.append(p)\n",
    "    recalls.append(r)\n",
    "    f1s.append(2 * ((p * r) / (p + r)))"
   ]
  },
  {
   "cell_type": "code",
   "execution_count": 186,
   "metadata": {},
   "outputs": [
    {
     "data": {
      "text/html": [
       "<div>\n",
       "<style scoped>\n",
       "    .dataframe tbody tr th:only-of-type {\n",
       "        vertical-align: middle;\n",
       "    }\n",
       "\n",
       "    .dataframe tbody tr th {\n",
       "        vertical-align: top;\n",
       "    }\n",
       "\n",
       "    .dataframe thead th {\n",
       "        text-align: right;\n",
       "    }\n",
       "</style>\n",
       "<table border=\"1\" class=\"dataframe\">\n",
       "  <thead>\n",
       "    <tr style=\"text-align: right;\">\n",
       "      <th></th>\n",
       "      <th>precision</th>\n",
       "      <th>recall</th>\n",
       "      <th>f1 score</th>\n",
       "    </tr>\n",
       "  </thead>\n",
       "  <tbody>\n",
       "    <tr>\n",
       "      <th>EAP</th>\n",
       "      <td>0.847411</td>\n",
       "      <td>0.836022</td>\n",
       "      <td>0.841678</td>\n",
       "    </tr>\n",
       "    <tr>\n",
       "      <th>HPL</th>\n",
       "      <td>0.881834</td>\n",
       "      <td>0.806018</td>\n",
       "      <td>0.842223</td>\n",
       "    </tr>\n",
       "    <tr>\n",
       "      <th>MWS</th>\n",
       "      <td>0.794708</td>\n",
       "      <td>0.872308</td>\n",
       "      <td>0.831702</td>\n",
       "    </tr>\n",
       "  </tbody>\n",
       "</table>\n",
       "</div>"
      ],
      "text/plain": [
       "     precision    recall  f1 score\n",
       "EAP   0.847411  0.836022  0.841678\n",
       "HPL   0.881834  0.806018  0.842223\n",
       "MWS   0.794708  0.872308  0.831702"
      ]
     },
     "execution_count": 186,
     "metadata": {},
     "output_type": "execute_result"
    }
   ],
   "source": [
    "data = {'precision':precisions,\n",
    "        'recall':recalls,\n",
    "        'f1 score':f1s}\n",
    " \n",
    "df = pd.DataFrame(data, index =['EAP','HPL','MWS'])\n",
    "df"
   ]
  },
  {
   "cell_type": "code",
   "execution_count": 187,
   "metadata": {},
   "outputs": [
    {
     "data": {
      "text/html": [
       "<div>\n",
       "<style scoped>\n",
       "    .dataframe tbody tr th:only-of-type {\n",
       "        vertical-align: middle;\n",
       "    }\n",
       "\n",
       "    .dataframe tbody tr th {\n",
       "        vertical-align: top;\n",
       "    }\n",
       "\n",
       "    .dataframe thead th {\n",
       "        text-align: right;\n",
       "    }\n",
       "</style>\n",
       "<table border=\"1\" class=\"dataframe\">\n",
       "  <thead>\n",
       "    <tr style=\"text-align: right;\">\n",
       "      <th></th>\n",
       "      <th>id</th>\n",
       "      <th>text</th>\n",
       "    </tr>\n",
       "  </thead>\n",
       "  <tbody>\n",
       "    <tr>\n",
       "      <th>0</th>\n",
       "      <td>id02310</td>\n",
       "      <td>Still, as I urged our leaving Ireland with suc...</td>\n",
       "    </tr>\n",
       "    <tr>\n",
       "      <th>1</th>\n",
       "      <td>id24541</td>\n",
       "      <td>If a fire wanted fanning, it could readily be ...</td>\n",
       "    </tr>\n",
       "    <tr>\n",
       "      <th>2</th>\n",
       "      <td>id00134</td>\n",
       "      <td>And when they had broken down the frail door t...</td>\n",
       "    </tr>\n",
       "    <tr>\n",
       "      <th>3</th>\n",
       "      <td>id27757</td>\n",
       "      <td>While I was thinking how I should possibly man...</td>\n",
       "    </tr>\n",
       "    <tr>\n",
       "      <th>4</th>\n",
       "      <td>id04081</td>\n",
       "      <td>I am not sure to what limit his knowledge may ...</td>\n",
       "    </tr>\n",
       "  </tbody>\n",
       "</table>\n",
       "</div>"
      ],
      "text/plain": [
       "        id                                               text\n",
       "0  id02310  Still, as I urged our leaving Ireland with suc...\n",
       "1  id24541  If a fire wanted fanning, it could readily be ...\n",
       "2  id00134  And when they had broken down the frail door t...\n",
       "3  id27757  While I was thinking how I should possibly man...\n",
       "4  id04081  I am not sure to what limit his knowledge may ..."
      ]
     },
     "execution_count": 187,
     "metadata": {},
     "output_type": "execute_result"
    }
   ],
   "source": [
    "test_df = pd.read_csv('test.csv')\n",
    "test_df.head()"
   ]
  },
  {
   "cell_type": "code",
   "execution_count": 188,
   "metadata": {},
   "outputs": [],
   "source": [
    "test_preds = model.predict(test_df['text'])"
   ]
  },
  {
   "cell_type": "code",
   "execution_count": 189,
   "metadata": {},
   "outputs": [
    {
     "data": {
      "text/html": [
       "<div>\n",
       "<style scoped>\n",
       "    .dataframe tbody tr th:only-of-type {\n",
       "        vertical-align: middle;\n",
       "    }\n",
       "\n",
       "    .dataframe tbody tr th {\n",
       "        vertical-align: top;\n",
       "    }\n",
       "\n",
       "    .dataframe thead th {\n",
       "        text-align: right;\n",
       "    }\n",
       "</style>\n",
       "<table border=\"1\" class=\"dataframe\">\n",
       "  <thead>\n",
       "    <tr style=\"text-align: right;\">\n",
       "      <th></th>\n",
       "      <th>id</th>\n",
       "      <th>EAP</th>\n",
       "      <th>HPL</th>\n",
       "      <th>MWS</th>\n",
       "    </tr>\n",
       "  </thead>\n",
       "  <tbody>\n",
       "    <tr>\n",
       "      <th>0</th>\n",
       "      <td>id02310</td>\n",
       "      <td>0.000635</td>\n",
       "      <td>4.590013e-03</td>\n",
       "      <td>9.947747e-01</td>\n",
       "    </tr>\n",
       "    <tr>\n",
       "      <th>1</th>\n",
       "      <td>id24541</td>\n",
       "      <td>1.000000</td>\n",
       "      <td>1.737929e-08</td>\n",
       "      <td>3.327960e-09</td>\n",
       "    </tr>\n",
       "    <tr>\n",
       "      <th>2</th>\n",
       "      <td>id00134</td>\n",
       "      <td>0.000085</td>\n",
       "      <td>9.998343e-01</td>\n",
       "      <td>8.120575e-05</td>\n",
       "    </tr>\n",
       "    <tr>\n",
       "      <th>3</th>\n",
       "      <td>id27757</td>\n",
       "      <td>0.230698</td>\n",
       "      <td>3.461823e-01</td>\n",
       "      <td>4.231200e-01</td>\n",
       "    </tr>\n",
       "    <tr>\n",
       "      <th>4</th>\n",
       "      <td>id04081</td>\n",
       "      <td>0.217576</td>\n",
       "      <td>2.772320e-01</td>\n",
       "      <td>5.051923e-01</td>\n",
       "    </tr>\n",
       "    <tr>\n",
       "      <th>...</th>\n",
       "      <td>...</td>\n",
       "      <td>...</td>\n",
       "      <td>...</td>\n",
       "      <td>...</td>\n",
       "    </tr>\n",
       "    <tr>\n",
       "      <th>8387</th>\n",
       "      <td>id11749</td>\n",
       "      <td>0.359301</td>\n",
       "      <td>2.883799e-02</td>\n",
       "      <td>6.118606e-01</td>\n",
       "    </tr>\n",
       "    <tr>\n",
       "      <th>8388</th>\n",
       "      <td>id10526</td>\n",
       "      <td>0.001298</td>\n",
       "      <td>1.193023e-02</td>\n",
       "      <td>9.867715e-01</td>\n",
       "    </tr>\n",
       "    <tr>\n",
       "      <th>8389</th>\n",
       "      <td>id13477</td>\n",
       "      <td>1.000000</td>\n",
       "      <td>1.667420e-07</td>\n",
       "      <td>6.204004e-08</td>\n",
       "    </tr>\n",
       "    <tr>\n",
       "      <th>8390</th>\n",
       "      <td>id13761</td>\n",
       "      <td>0.026362</td>\n",
       "      <td>4.888224e-05</td>\n",
       "      <td>9.735895e-01</td>\n",
       "    </tr>\n",
       "    <tr>\n",
       "      <th>8391</th>\n",
       "      <td>id04282</td>\n",
       "      <td>0.001040</td>\n",
       "      <td>9.989594e-01</td>\n",
       "      <td>2.401051e-07</td>\n",
       "    </tr>\n",
       "  </tbody>\n",
       "</table>\n",
       "<p>8392 rows × 4 columns</p>\n",
       "</div>"
      ],
      "text/plain": [
       "           id       EAP           HPL           MWS\n",
       "0     id02310  0.000635  4.590013e-03  9.947747e-01\n",
       "1     id24541  1.000000  1.737929e-08  3.327960e-09\n",
       "2     id00134  0.000085  9.998343e-01  8.120575e-05\n",
       "3     id27757  0.230698  3.461823e-01  4.231200e-01\n",
       "4     id04081  0.217576  2.772320e-01  5.051923e-01\n",
       "...       ...       ...           ...           ...\n",
       "8387  id11749  0.359301  2.883799e-02  6.118606e-01\n",
       "8388  id10526  0.001298  1.193023e-02  9.867715e-01\n",
       "8389  id13477  1.000000  1.667420e-07  6.204004e-08\n",
       "8390  id13761  0.026362  4.888224e-05  9.735895e-01\n",
       "8391  id04282  0.001040  9.989594e-01  2.401051e-07\n",
       "\n",
       "[8392 rows x 4 columns]"
      ]
     },
     "execution_count": 189,
     "metadata": {},
     "output_type": "execute_result"
    }
   ],
   "source": [
    "submission = pd.DataFrame({\n",
    "    'id': test_df['id'],\n",
    "    'EAP': test_preds[:,0],\n",
    "    'HPL': test_preds[:,1],\n",
    "    'MWS': test_preds[:,2]\n",
    "})\n",
    "submission"
   ]
  },
  {
   "cell_type": "code",
   "execution_count": 190,
   "metadata": {},
   "outputs": [],
   "source": [
    "submission.to_csv('submission.csv', index=False)"
   ]
  }
 ],
 "metadata": {
  "kernelspec": {
   "display_name": "Python 3",
   "language": "python",
   "name": "python3"
  },
  "language_info": {
   "codemirror_mode": {
    "name": "ipython",
    "version": 3
   },
   "file_extension": ".py",
   "mimetype": "text/x-python",
   "name": "python",
   "nbconvert_exporter": "python",
   "pygments_lexer": "ipython3",
   "version": "3.8.5"
  }
 },
 "nbformat": 4,
 "nbformat_minor": 4
}
