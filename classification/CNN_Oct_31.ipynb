{
  "nbformat": 4,
  "nbformat_minor": 0,
  "metadata": {
    "accelerator": "GPU",
    "colab": {
      "name": "CNN.ipynb",
      "provenance": [],
      "collapsed_sections": []
    },
    "kernelspec": {
      "display_name": "Python 3",
      "name": "python3"
    },
    "language_info": {
      "name": "python"
    }
  },
  "cells": [
    {
      "cell_type": "code",
      "metadata": {
        "id": "xOCPsb35Gwws"
      },
      "source": [
        "import numpy as np\n",
        "import tensorflow as tf\n",
        "import pandas as pd\n",
        "from sklearn.model_selection import train_test_split\n",
        "import matplotlib.pyplot as plt\n",
        "import seaborn as sns\n",
        "from sklearn.metrics import f1_score\n",
        "from keras.wrappers.scikit_learn import KerasClassifier\n",
        "from sklearn.model_selection import RandomizedSearchCV"
      ],
      "execution_count": 1,
      "outputs": []
    },
    {
      "cell_type": "code",
      "metadata": {
        "id": "p2LH0_53QsdW"
      },
      "source": [
        "class CNN1d(tf.keras.Model):\n",
        "    def __init__(self, conv1_filters, conv1_size, conv2_filters, conv2_size, dense1, encoder):\n",
        "        super(CNN1d, self).__init__()\n",
        "\n",
        "        self.encoder = encoder\n",
        "\n",
        "        vocab = encoder.get_vocabulary()\n",
        "        \n",
        "        self.embedding = tf.keras.layers.Embedding(input_dim=len(vocab),output_dim=64,mask_zero=True)\n",
        "        \n",
        "\n",
        "        self.conv1 = tf.keras.layers.Conv1D(filters=conv1_filters,\n",
        "                            kernel_size=conv1_size,\n",
        "                            padding=\"same\",\n",
        "                            activation=\"relu\",\n",
        "                            data_format=\"channels_last\",\n",
        "                            )\n",
        "        self.conv2 = tf.keras.layers.Conv1D(filters=conv2_filters,\n",
        "                            kernel_size=conv2_size,\n",
        "                            padding=\"same\",\n",
        "                            activation=\"relu\",\n",
        "                            data_format=\"channels_last\",\n",
        "                            )\n",
        "        self.global_pool = tf.keras.layers.GlobalMaxPool1D(keepdims=False)\n",
        "        self.dense1 = tf.keras.layers.Dense(dense1, activation='relu')\n",
        "        self.dense2 = tf.keras.layers.Dense(3, activation=\"softmax\")\n",
        "\n",
        "    def call(self, x, training=False):\n",
        "        emb = self.encoder(x)\n",
        "        emb = self.embedding(emb)\n",
        "        conv1 = self.conv1(emb)\n",
        "        conv2 = self.conv2(emb)\n",
        "        z = tf.concat([conv1, conv2], axis=2)\n",
        "        z = self.global_pool(z)\n",
        "        z = self.dense1(z)\n",
        "        z = self.dense2(z)\n",
        "        return z\n"
      ],
      "execution_count": 2,
      "outputs": []
    },
    {
      "cell_type": "code",
      "metadata": {
        "colab": {
          "base_uri": "https://localhost:8080/",
          "height": 203
        },
        "id": "uK7w9AV_HHU2",
        "outputId": "48e53d6f-351c-4d87-f491-4cb8057c0df7"
      },
      "source": [
        "df = pd.read_csv(\"train.csv\")\n",
        "df.head()"
      ],
      "execution_count": 3,
      "outputs": [
        {
          "output_type": "execute_result",
          "data": {
            "text/html": [
              "<div>\n",
              "<style scoped>\n",
              "    .dataframe tbody tr th:only-of-type {\n",
              "        vertical-align: middle;\n",
              "    }\n",
              "\n",
              "    .dataframe tbody tr th {\n",
              "        vertical-align: top;\n",
              "    }\n",
              "\n",
              "    .dataframe thead th {\n",
              "        text-align: right;\n",
              "    }\n",
              "</style>\n",
              "<table border=\"1\" class=\"dataframe\">\n",
              "  <thead>\n",
              "    <tr style=\"text-align: right;\">\n",
              "      <th></th>\n",
              "      <th>id</th>\n",
              "      <th>text</th>\n",
              "      <th>author</th>\n",
              "    </tr>\n",
              "  </thead>\n",
              "  <tbody>\n",
              "    <tr>\n",
              "      <th>0</th>\n",
              "      <td>id26305</td>\n",
              "      <td>This process, however, afforded me no means of...</td>\n",
              "      <td>EAP</td>\n",
              "    </tr>\n",
              "    <tr>\n",
              "      <th>1</th>\n",
              "      <td>id17569</td>\n",
              "      <td>It never once occurred to me that the fumbling...</td>\n",
              "      <td>HPL</td>\n",
              "    </tr>\n",
              "    <tr>\n",
              "      <th>2</th>\n",
              "      <td>id11008</td>\n",
              "      <td>In his left hand was a gold snuff box, from wh...</td>\n",
              "      <td>EAP</td>\n",
              "    </tr>\n",
              "    <tr>\n",
              "      <th>3</th>\n",
              "      <td>id27763</td>\n",
              "      <td>How lovely is spring As we looked from Windsor...</td>\n",
              "      <td>MWS</td>\n",
              "    </tr>\n",
              "    <tr>\n",
              "      <th>4</th>\n",
              "      <td>id12958</td>\n",
              "      <td>Finding nothing else, not even gold, the Super...</td>\n",
              "      <td>HPL</td>\n",
              "    </tr>\n",
              "  </tbody>\n",
              "</table>\n",
              "</div>"
            ],
            "text/plain": [
              "        id                                               text author\n",
              "0  id26305  This process, however, afforded me no means of...    EAP\n",
              "1  id17569  It never once occurred to me that the fumbling...    HPL\n",
              "2  id11008  In his left hand was a gold snuff box, from wh...    EAP\n",
              "3  id27763  How lovely is spring As we looked from Windsor...    MWS\n",
              "4  id12958  Finding nothing else, not even gold, the Super...    HPL"
            ]
          },
          "metadata": {},
          "execution_count": 3
        }
      ]
    },
    {
      "cell_type": "code",
      "metadata": {
        "id": "4iQ2xaRRHPU4"
      },
      "source": [
        "X = df[\"text\"].copy()\n",
        "authors = df[\"author\"].copy()\n",
        "\n",
        "# Label data\n",
        "y = []\n",
        "for author in authors:\n",
        "    if author == \"EAP\":\n",
        "        y.append([1, 0, 0])\n",
        "    if author == \"HPL\":\n",
        "        y.append([0, 1, 0])\n",
        "    if author == \"MWS\":\n",
        "        y.append([0, 0, 1])\n",
        "\n",
        "y = np.array(y)"
      ],
      "execution_count": 4,
      "outputs": []
    },
    {
      "cell_type": "code",
      "metadata": {
        "id": "orcYyh2aHWTU"
      },
      "source": [
        "X_train, X_test, y_train, y_test = train_test_split(X, y, test_size=0.2, random_state=42)"
      ],
      "execution_count": 5,
      "outputs": []
    },
    {
      "cell_type": "code",
      "metadata": {
        "id": "mUYncFdPHZDx"
      },
      "source": [
        "encoder = tf.keras.layers.TextVectorization()\n",
        "encoder.adapt(X_train)\n",
        "# vocab = encoder.get_vocabulary()"
      ],
      "execution_count": 6,
      "outputs": []
    },
    {
      "cell_type": "code",
      "metadata": {
        "id": "m0exOlkaHfue"
      },
      "source": [
        "def create_model(conv1_filters, conv1_size, conv2_filters, conv2_size, dense1):\n",
        "    model = CNN1d(conv1_filters, conv1_size, conv2_filters, conv2_size, dense1, encoder)\n",
        "    model.compile(loss=tf.keras.losses.CategoricalCrossentropy(),\n",
        "              optimizer=tf.keras.optimizers.Adam(1e-3),\n",
        "              metrics=['accuracy']\n",
        "    )\n",
        "    return model\n",
        "  "
      ],
      "execution_count": 7,
      "outputs": []
    },
    {
      "cell_type": "code",
      "metadata": {
        "colab": {
          "base_uri": "https://localhost:8080/"
        },
        "id": "CB3U2dfwTp7C",
        "outputId": "9965a278-d6da-4670-9838-1f2bf5b5fab3"
      },
      "source": [
        "model = KerasClassifier(build_fn=create_model, batch_size=32, verbose=1)\n",
        "\n",
        "conv1_filters = [8, 16, 32, 64, 128]\n",
        "conv2_filters = [8, 16, 32, 64, 128]\n",
        "conv1_size = [2, 3, 4, 5, 6]\n",
        "conv2_size = [2, 3, 4, 5, 6]\n",
        "dense1 = [8, 16, 32, 64, 128]\n",
        "\n",
        "params = dict(conv1_filters=conv1_filters, conv2_filters=conv2_filters, conv1_size=conv1_size, conv2_size=conv2_size, dense1=dense1)\n",
        "grid = RandomizedSearchCV(estimator=model, scoring = 'neg_log_loss', param_distributions=params, n_jobs=1, cv=3, verbose=3)\n",
        "\n",
        "grid_result = grid.fit(X_train, y_train)\n",
        "\n",
        "print(\"Best: %f using %s\" % (grid_result.best_score_, grid_result.best_params_))"
      ],
      "execution_count": 8,
      "outputs": [
        {
          "output_type": "stream",
          "name": "stdout",
          "text": [
            "Fitting 3 folds for each of 10 candidates, totalling 30 fits\n",
            "[CV] dense1=16, conv2_size=5, conv2_filters=64, conv1_size=3, conv1_filters=8 \n"
          ]
        },
        {
          "output_type": "stream",
          "name": "stderr",
          "text": [
            "[Parallel(n_jobs=1)]: Using backend SequentialBackend with 1 concurrent workers.\n"
          ]
        },
        {
          "output_type": "stream",
          "name": "stdout",
          "text": [
            "327/327 [==============================] - 51s 63ms/step - loss: 0.9338 - accuracy: 0.5369\n",
            "[CV]  dense1=16, conv2_size=5, conv2_filters=64, conv1_size=3, conv1_filters=8, score=-0.666, total=  53.2s\n",
            "[CV] dense1=16, conv2_size=5, conv2_filters=64, conv1_size=3, conv1_filters=8 \n"
          ]
        },
        {
          "output_type": "stream",
          "name": "stderr",
          "text": [
            "[Parallel(n_jobs=1)]: Done   1 out of   1 | elapsed:   53.2s remaining:    0.0s\n"
          ]
        },
        {
          "output_type": "stream",
          "name": "stdout",
          "text": [
            "327/327 [==============================] - 6s 15ms/step - loss: 0.8947 - accuracy: 0.5817\n",
            "[CV]  dense1=16, conv2_size=5, conv2_filters=64, conv1_size=3, conv1_filters=8, score=-0.604, total=   6.5s\n",
            "[CV] dense1=16, conv2_size=5, conv2_filters=64, conv1_size=3, conv1_filters=8 \n"
          ]
        },
        {
          "output_type": "stream",
          "name": "stderr",
          "text": [
            "[Parallel(n_jobs=1)]: Done   2 out of   2 | elapsed:   59.7s remaining:    0.0s\n"
          ]
        },
        {
          "output_type": "stream",
          "name": "stdout",
          "text": [
            "327/327 [==============================] - 4s 9ms/step - loss: 0.9274 - accuracy: 0.5459\n",
            "[CV]  dense1=16, conv2_size=5, conv2_filters=64, conv1_size=3, conv1_filters=8, score=-0.639, total=   6.6s\n",
            "[CV] dense1=16, conv2_size=3, conv2_filters=8, conv1_size=6, conv1_filters=16 \n",
            "327/327 [==============================] - 10s 28ms/step - loss: 0.9353 - accuracy: 0.5537\n",
            "[CV]  dense1=16, conv2_size=3, conv2_filters=8, conv1_size=6, conv1_filters=16, score=-0.668, total=  11.0s\n",
            "[CV] dense1=16, conv2_size=3, conv2_filters=8, conv1_size=6, conv1_filters=16 \n",
            "327/327 [==============================] - 4s 11ms/step - loss: 0.9893 - accuracy: 0.5028\n",
            "[CV]  dense1=16, conv2_size=3, conv2_filters=8, conv1_size=6, conv1_filters=16, score=-0.802, total=   6.5s\n",
            "[CV] dense1=16, conv2_size=3, conv2_filters=8, conv1_size=6, conv1_filters=16 \n",
            "327/327 [==============================] - 4s 8ms/step - loss: 0.9545 - accuracy: 0.5404\n",
            "[CV]  dense1=16, conv2_size=3, conv2_filters=8, conv1_size=6, conv1_filters=16, score=-0.739, total=   6.6s\n",
            "[CV] dense1=128, conv2_size=4, conv2_filters=16, conv1_size=2, conv1_filters=32 \n",
            "327/327 [==============================] - 18s 51ms/step - loss: 0.8695 - accuracy: 0.5852\n",
            "[CV]  dense1=128, conv2_size=4, conv2_filters=16, conv1_size=2, conv1_filters=32, score=-0.604, total=  22.9s\n",
            "[CV] dense1=128, conv2_size=4, conv2_filters=16, conv1_size=2, conv1_filters=32 \n",
            "327/327 [==============================] - 5s 13ms/step - loss: 0.8593 - accuracy: 0.5964\n",
            "[CV]  dense1=128, conv2_size=4, conv2_filters=16, conv1_size=2, conv1_filters=32, score=-0.609, total=   6.6s\n",
            "[CV] dense1=128, conv2_size=4, conv2_filters=16, conv1_size=2, conv1_filters=32 \n",
            "327/327 [==============================] - 4s 9ms/step - loss: 0.8863 - accuracy: 0.5804\n",
            "[CV]  dense1=128, conv2_size=4, conv2_filters=16, conv1_size=2, conv1_filters=32, score=-0.630, total=   4.4s\n",
            "[CV] dense1=128, conv2_size=4, conv2_filters=16, conv1_size=4, conv1_filters=128 \n",
            "327/327 [==============================] - 15s 44ms/step - loss: 0.8310 - accuracy: 0.6061\n",
            "[CV]  dense1=128, conv2_size=4, conv2_filters=16, conv1_size=4, conv1_filters=128, score=-0.539, total=  22.3s\n",
            "[CV] dense1=128, conv2_size=4, conv2_filters=16, conv1_size=4, conv1_filters=128 \n",
            "327/327 [==============================] - 4s 11ms/step - loss: 0.8239 - accuracy: 0.6130\n",
            "[CV]  dense1=128, conv2_size=4, conv2_filters=16, conv1_size=4, conv1_filters=128, score=-0.536, total=   6.6s\n",
            "[CV] dense1=128, conv2_size=4, conv2_filters=16, conv1_size=4, conv1_filters=128 \n",
            "327/327 [==============================] - 4s 9ms/step - loss: 0.8385 - accuracy: 0.6053\n",
            "[CV]  dense1=128, conv2_size=4, conv2_filters=16, conv1_size=4, conv1_filters=128, score=-0.540, total=   6.5s\n",
            "[CV] dense1=32, conv2_size=6, conv2_filters=64, conv1_size=5, conv1_filters=16 \n",
            "327/327 [==============================] - 22s 64ms/step - loss: 0.8735 - accuracy: 0.5814\n",
            "[CV]  dense1=32, conv2_size=6, conv2_filters=64, conv1_size=5, conv1_filters=16, score=-0.587, total=  43.4s\n",
            "[CV] dense1=32, conv2_size=6, conv2_filters=64, conv1_size=5, conv1_filters=16 \n",
            "327/327 [==============================] - 6s 15ms/step - loss: 0.8791 - accuracy: 0.5727\n",
            "[CV]  dense1=32, conv2_size=6, conv2_filters=64, conv1_size=5, conv1_filters=16, score=-0.579, total=   7.0s\n",
            "[CV] dense1=32, conv2_size=6, conv2_filters=64, conv1_size=5, conv1_filters=16 \n",
            "327/327 [==============================] - 4s 10ms/step - loss: 0.8962 - accuracy: 0.5738\n",
            "[CV]  dense1=32, conv2_size=6, conv2_filters=64, conv1_size=5, conv1_filters=16, score=-0.598, total=   6.6s\n",
            "[CV] dense1=8, conv2_size=3, conv2_filters=32, conv1_size=2, conv1_filters=8 \n",
            "327/327 [==============================] - 17s 49ms/step - loss: 0.9787 - accuracy: 0.5045\n",
            "[CV]  dense1=8, conv2_size=3, conv2_filters=32, conv1_size=2, conv1_filters=8, score=-0.779, total=  18.5s\n",
            "[CV] dense1=8, conv2_size=3, conv2_filters=32, conv1_size=2, conv1_filters=8 \n",
            "327/327 [==============================] - 5s 13ms/step - loss: 0.9252 - accuracy: 0.5552\n",
            "[CV]  dense1=8, conv2_size=3, conv2_filters=32, conv1_size=2, conv1_filters=8, score=-0.682, total=   5.9s\n",
            "[CV] dense1=8, conv2_size=3, conv2_filters=32, conv1_size=2, conv1_filters=8 \n",
            "327/327 [==============================] - 4s 10ms/step - loss: 0.9820 - accuracy: 0.5007\n",
            "[CV]  dense1=8, conv2_size=3, conv2_filters=32, conv1_size=2, conv1_filters=8, score=-0.838, total=   4.7s\n",
            "[CV] dense1=32, conv2_size=3, conv2_filters=64, conv1_size=3, conv1_filters=8 \n",
            "327/327 [==============================] - 16s 45ms/step - loss: 0.9052 - accuracy: 0.5718\n",
            "[CV]  dense1=32, conv2_size=3, conv2_filters=64, conv1_size=3, conv1_filters=8, score=-0.650, total=  22.6s\n",
            "[CV] dense1=32, conv2_size=3, conv2_filters=64, conv1_size=3, conv1_filters=8 \n",
            "327/327 [==============================] - 5s 12ms/step - loss: 0.8943 - accuracy: 0.5617\n",
            "[CV]  dense1=32, conv2_size=3, conv2_filters=64, conv1_size=3, conv1_filters=8, score=-0.634, total=   5.3s\n",
            "[CV] dense1=32, conv2_size=3, conv2_filters=64, conv1_size=3, conv1_filters=8 \n",
            "327/327 [==============================] - 4s 8ms/step - loss: 0.9069 - accuracy: 0.5728\n",
            "[CV]  dense1=32, conv2_size=3, conv2_filters=64, conv1_size=3, conv1_filters=8, score=-0.628, total=   6.9s\n",
            "[CV] dense1=8, conv2_size=2, conv2_filters=16, conv1_size=6, conv1_filters=64 \n",
            "327/327 [==============================] - 10s 27ms/step - loss: 0.9003 - accuracy: 0.5759\n",
            "[CV]  dense1=8, conv2_size=2, conv2_filters=16, conv1_size=6, conv1_filters=64, score=-0.593, total=  10.7s\n",
            "[CV] dense1=8, conv2_size=2, conv2_filters=16, conv1_size=6, conv1_filters=64 \n",
            "327/327 [==============================] - 4s 11ms/step - loss: 0.9588 - accuracy: 0.4919\n",
            "[CV]  dense1=8, conv2_size=2, conv2_filters=16, conv1_size=6, conv1_filters=64, score=-0.713, total=   6.6s\n",
            "[CV] dense1=8, conv2_size=2, conv2_filters=16, conv1_size=6, conv1_filters=64 \n",
            "327/327 [==============================] - 4s 9ms/step - loss: 0.9467 - accuracy: 0.5276\n",
            "[CV]  dense1=8, conv2_size=2, conv2_filters=16, conv1_size=6, conv1_filters=64, score=-0.710, total=   4.4s\n",
            "[CV] dense1=128, conv2_size=3, conv2_filters=64, conv1_size=3, conv1_filters=32 \n",
            "327/327 [==============================] - 4s 9ms/step - loss: 0.8477 - accuracy: 0.6013\n",
            "[CV]  dense1=128, conv2_size=3, conv2_filters=64, conv1_size=3, conv1_filters=32, score=-0.580, total=   4.3s\n",
            "[CV] dense1=128, conv2_size=3, conv2_filters=64, conv1_size=3, conv1_filters=32 \n",
            "327/327 [==============================] - 4s 9ms/step - loss: 0.8497 - accuracy: 0.5980\n",
            "[CV]  dense1=128, conv2_size=3, conv2_filters=64, conv1_size=3, conv1_filters=32, score=-0.580, total=   4.4s\n",
            "[CV] dense1=128, conv2_size=3, conv2_filters=64, conv1_size=3, conv1_filters=32 \n",
            "327/327 [==============================] - 4s 9ms/step - loss: 0.8640 - accuracy: 0.5871\n",
            "[CV]  dense1=128, conv2_size=3, conv2_filters=64, conv1_size=3, conv1_filters=32, score=-0.587, total=   4.3s\n",
            "[CV] dense1=128, conv2_size=4, conv2_filters=64, conv1_size=2, conv1_filters=32 \n",
            "327/327 [==============================] - 16s 46ms/step - loss: 0.8532 - accuracy: 0.5936\n",
            "[CV]  dense1=128, conv2_size=4, conv2_filters=64, conv1_size=2, conv1_filters=32, score=-0.562, total=  17.3s\n",
            "[CV] dense1=128, conv2_size=4, conv2_filters=64, conv1_size=2, conv1_filters=32 \n",
            "327/327 [==============================] - 5s 13ms/step - loss: 0.8417 - accuracy: 0.6018\n",
            "[CV]  dense1=128, conv2_size=4, conv2_filters=64, conv1_size=2, conv1_filters=32, score=-0.567, total=   6.9s\n",
            "[CV] dense1=128, conv2_size=4, conv2_filters=64, conv1_size=2, conv1_filters=32 \n",
            "327/327 [==============================] - 4s 9ms/step - loss: 0.8601 - accuracy: 0.5875\n",
            "[CV]  dense1=128, conv2_size=4, conv2_filters=64, conv1_size=2, conv1_filters=32, score=-0.563, total=   4.4s\n"
          ]
        },
        {
          "output_type": "stream",
          "name": "stderr",
          "text": [
            "[Parallel(n_jobs=1)]: Done  30 out of  30 | elapsed:  5.7min finished\n"
          ]
        },
        {
          "output_type": "stream",
          "name": "stdout",
          "text": [
            "490/490 [==============================] - 5s 10ms/step - loss: 0.7207 - accuracy: 0.6691\n",
            "Best: -0.538648 using {'dense1': 128, 'conv2_size': 4, 'conv2_filters': 16, 'conv1_size': 4, 'conv1_filters': 128}\n"
          ]
        }
      ]
    },
    {
      "cell_type": "code",
      "metadata": {
        "colab": {
          "base_uri": "https://localhost:8080/"
        },
        "id": "XIJHm110LsTU",
        "outputId": "d79b3225-c005-44ef-d4aa-f15a3349213e"
      },
      "source": [
        "callbacks = [\n",
        "          tf.keras.callbacks.EarlyStopping(monitor='val_loss', patience=3),\n",
        "          tf.keras.callbacks.ModelCheckpoint(\n",
        "            filepath=\"CNN_weights\",\n",
        "            save_weights_only=True,\n",
        "            monitor='val_accuracy',\n",
        "            mode='max',\n",
        "            save_best_only=True)\n",
        "]\n",
        "with tf.device('/device:GPU:0'):\n",
        "  model = create_model(16, 6, 128, 5, 128)\n",
        "  history = model.fit(X_train, y_train, epochs=15,\n",
        "                      validation_data=(X_test, y_test),\n",
        "                      validation_steps=30,\n",
        "                      callbacks=callbacks)"
      ],
      "execution_count": 9,
      "outputs": [
        {
          "output_type": "stream",
          "name": "stdout",
          "text": [
            "Epoch 1/15\n",
            "490/490 [==============================] - 23s 45ms/step - loss: 0.7169 - accuracy: 0.6750 - val_loss: 0.4952 - val_accuracy: 0.8016\n",
            "Epoch 2/15\n",
            "490/490 [==============================] - 5s 11ms/step - loss: 0.2259 - accuracy: 0.9187 - val_loss: 0.4826 - val_accuracy: 0.8202\n",
            "Epoch 3/15\n",
            "490/490 [==============================] - 5s 10ms/step - loss: 0.0568 - accuracy: 0.9829 - val_loss: 0.6060 - val_accuracy: 0.8202\n",
            "Epoch 4/15\n",
            "490/490 [==============================] - 5s 10ms/step - loss: 0.0140 - accuracy: 0.9966 - val_loss: 0.7266 - val_accuracy: 0.8062\n",
            "Epoch 5/15\n",
            "490/490 [==============================] - 5s 9ms/step - loss: 0.0032 - accuracy: 0.9994 - val_loss: 0.7739 - val_accuracy: 0.8169\n"
          ]
        }
      ]
    },
    {
      "cell_type": "code",
      "metadata": {
        "colab": {
          "base_uri": "https://localhost:8080/",
          "height": 283
        },
        "id": "u2bfqgePNTYi",
        "outputId": "16832873-1302-4313-8c22-d38861b7fbd0"
      },
      "source": [
        "# Plot validation loss as a function of the epoch number\n",
        "plt.plot(history.history[\"val_loss\"], label=\"Validation loss\")\n",
        "plt.plot(history.history[\"loss\"], label=\"Train loss\")\n",
        "plt.legend()"
      ],
      "execution_count": 10,
      "outputs": [
        {
          "output_type": "execute_result",
          "data": {
            "text/plain": [
              "<matplotlib.legend.Legend at 0x7f48e97534d0>"
            ]
          },
          "metadata": {},
          "execution_count": 10
        },
        {
          "output_type": "display_data",
          "data": {
            "image/png": "[encoded data removed]",
            "text/plain": [
              "<Figure size 432x288 with 1 Axes>"
            ]
          },
          "metadata": {
            "needs_background": "light"
          }
        }
      ]
    },
    {
      "cell_type": "code",
      "metadata": {
        "id": "W0T-lZ57NiSL"
      },
      "source": [
        "def confusion(predictions, test_labels):\n",
        "    matrix = np.zeros([3,3], dtype=int)\n",
        "    \n",
        "    i = 0\n",
        "    for row in predictions:\n",
        "        matrix[np.argmax(row), np.argmax(test_labels[i])] += 1\n",
        "        i += 1\n",
        "        \n",
        "    return matrix"
      ],
      "execution_count": 11,
      "outputs": []
    },
    {
      "cell_type": "code",
      "metadata": {
        "colab": {
          "base_uri": "https://localhost:8080/"
        },
        "id": "kU7oNFM0Nkak",
        "outputId": "37f33ba4-3ef1-4da3-99a6-66101384bbf1"
      },
      "source": [
        "model.load_weights(\"CNN_weights\")\n",
        "print(model.evaluate(X_test, y_test))\n",
        "predict = model.predict(X_test)"
      ],
      "execution_count": 12,
      "outputs": [
        {
          "output_type": "stream",
          "name": "stdout",
          "text": [
            "123/123 [==============================] - 1s 7ms/step - loss: 0.4827 - accuracy: 0.8202\n",
            "[0.48273736238479614, 0.8202247023582458]\n"
          ]
        }
      ]
    },
    {
      "cell_type": "code",
      "metadata": {
        "colab": {
          "base_uri": "https://localhost:8080/",
          "height": 296
        },
        "id": "O62JSvR7Nvd6",
        "outputId": "7d895fed-69dc-4b6a-a616-c9fdef98baca"
      },
      "source": [
        "x_axis_labels = ['EAP', 'HPL', 'MWS']\n",
        "y_axis_labels = ['EAP', 'HPL', 'MWS']\n",
        "\n",
        "ax = sns.heatmap(confusion(predict, y_test), xticklabels=x_axis_labels, yticklabels=y_axis_labels, annot=True, fmt='d')\n",
        "ax.set_xlabel('Predicted')\n",
        "ax.set_ylabel('True')"
      ],
      "execution_count": 13,
      "outputs": [
        {
          "output_type": "execute_result",
          "data": {
            "text/plain": [
              "Text(33.0, 0.5, 'True')"
            ]
          },
          "metadata": {},
          "execution_count": 13
        },
        {
          "output_type": "display_data",
          "data": {
            "image/png": "[encoded data removed]",
            "text/plain": [
              "<Figure size 432x288 with 2 Axes>"
            ]
          },
          "metadata": {
            "needs_background": "light"
          }
        }
      ]
    },
    {
      "cell_type": "code",
      "metadata": {
        "id": "4UPfkCouN087"
      },
      "source": [
        "df_sub = pd.read_csv(\"test.csv\")\n",
        "X_sub = df_sub[\"text\"].copy()"
      ],
      "execution_count": 14,
      "outputs": []
    },
    {
      "cell_type": "code",
      "metadata": {
        "colab": {
          "base_uri": "https://localhost:8080/"
        },
        "id": "MpuyPJ3EN3Eh",
        "outputId": "065e3d7c-8306-4eb7-edeb-d74613a01245"
      },
      "source": [
        "submission_pred = model.predict(X_sub)\n",
        "submission_pred"
      ],
      "execution_count": 15,
      "outputs": [
        {
          "output_type": "execute_result",
          "data": {
            "text/plain": [
              "array([[5.6480877e-02, 9.6532120e-04, 9.4255376e-01],\n",
              "       [9.4762290e-01, 3.3660047e-02, 1.8716987e-02],\n",
              "       [7.1637081e-03, 9.9227035e-01, 5.6593656e-04],\n",
              "       ...,\n",
              "       [2.5906494e-01, 8.4338244e-03, 7.3250127e-01],\n",
              "       [4.9042657e-01, 2.2098618e-02, 4.8747477e-01],\n",
              "       [1.5670020e-02, 9.8404109e-01, 2.8891972e-04]], dtype=float32)"
            ]
          },
          "metadata": {},
          "execution_count": 15
        }
      ]
    },
    {
      "cell_type": "code",
      "metadata": {
        "colab": {
          "base_uri": "https://localhost:8080/",
          "height": 417
        },
        "id": "_xXHAzdAN5xE",
        "outputId": "3da98f57-635d-4d2c-ca87-7dd65a004a29"
      },
      "source": [
        "submission = pd.DataFrame({\n",
        "    \"id\": df_sub[\"id\"],\n",
        "    \"EAP\": submission_pred[:, 0],\n",
        "    \"HPL\": submission_pred[:, 1],\n",
        "    \"MWS\": submission_pred[:, 2]\n",
        "})\n",
        "submission"
      ],
      "execution_count": 16,
      "outputs": [
        {
          "output_type": "execute_result",
          "data": {
            "text/html": [
              "<div>\n",
              "<style scoped>\n",
              "    .dataframe tbody tr th:only-of-type {\n",
              "        vertical-align: middle;\n",
              "    }\n",
              "\n",
              "    .dataframe tbody tr th {\n",
              "        vertical-align: top;\n",
              "    }\n",
              "\n",
              "    .dataframe thead th {\n",
              "        text-align: right;\n",
              "    }\n",
              "</style>\n",
              "<table border=\"1\" class=\"dataframe\">\n",
              "  <thead>\n",
              "    <tr style=\"text-align: right;\">\n",
              "      <th></th>\n",
              "      <th>id</th>\n",
              "      <th>EAP</th>\n",
              "      <th>HPL</th>\n",
              "      <th>MWS</th>\n",
              "    </tr>\n",
              "  </thead>\n",
              "  <tbody>\n",
              "    <tr>\n",
              "      <th>0</th>\n",
              "      <td>id02310</td>\n",
              "      <td>0.056481</td>\n",
              "      <td>0.000965</td>\n",
              "      <td>0.942554</td>\n",
              "    </tr>\n",
              "    <tr>\n",
              "      <th>1</th>\n",
              "      <td>id24541</td>\n",
              "      <td>0.947623</td>\n",
              "      <td>0.033660</td>\n",
              "      <td>0.018717</td>\n",
              "    </tr>\n",
              "    <tr>\n",
              "      <th>2</th>\n",
              "      <td>id00134</td>\n",
              "      <td>0.007164</td>\n",
              "      <td>0.992270</td>\n",
              "      <td>0.000566</td>\n",
              "    </tr>\n",
              "    <tr>\n",
              "      <th>3</th>\n",
              "      <td>id27757</td>\n",
              "      <td>0.821433</td>\n",
              "      <td>0.047785</td>\n",
              "      <td>0.130781</td>\n",
              "    </tr>\n",
              "    <tr>\n",
              "      <th>4</th>\n",
              "      <td>id04081</td>\n",
              "      <td>0.990820</td>\n",
              "      <td>0.001456</td>\n",
              "      <td>0.007724</td>\n",
              "    </tr>\n",
              "    <tr>\n",
              "      <th>...</th>\n",
              "      <td>...</td>\n",
              "      <td>...</td>\n",
              "      <td>...</td>\n",
              "      <td>...</td>\n",
              "    </tr>\n",
              "    <tr>\n",
              "      <th>8387</th>\n",
              "      <td>id11749</td>\n",
              "      <td>0.290476</td>\n",
              "      <td>0.003158</td>\n",
              "      <td>0.706365</td>\n",
              "    </tr>\n",
              "    <tr>\n",
              "      <th>8388</th>\n",
              "      <td>id10526</td>\n",
              "      <td>0.017635</td>\n",
              "      <td>0.007522</td>\n",
              "      <td>0.974843</td>\n",
              "    </tr>\n",
              "    <tr>\n",
              "      <th>8389</th>\n",
              "      <td>id13477</td>\n",
              "      <td>0.259065</td>\n",
              "      <td>0.008434</td>\n",
              "      <td>0.732501</td>\n",
              "    </tr>\n",
              "    <tr>\n",
              "      <th>8390</th>\n",
              "      <td>id13761</td>\n",
              "      <td>0.490427</td>\n",
              "      <td>0.022099</td>\n",
              "      <td>0.487475</td>\n",
              "    </tr>\n",
              "    <tr>\n",
              "      <th>8391</th>\n",
              "      <td>id04282</td>\n",
              "      <td>0.015670</td>\n",
              "      <td>0.984041</td>\n",
              "      <td>0.000289</td>\n",
              "    </tr>\n",
              "  </tbody>\n",
              "</table>\n",
              "<p>8392 rows × 4 columns</p>\n",
              "</div>"
            ],
            "text/plain": [
              "           id       EAP       HPL       MWS\n",
              "0     id02310  0.056481  0.000965  0.942554\n",
              "1     id24541  0.947623  0.033660  0.018717\n",
              "2     id00134  0.007164  0.992270  0.000566\n",
              "3     id27757  0.821433  0.047785  0.130781\n",
              "4     id04081  0.990820  0.001456  0.007724\n",
              "...       ...       ...       ...       ...\n",
              "8387  id11749  0.290476  0.003158  0.706365\n",
              "8388  id10526  0.017635  0.007522  0.974843\n",
              "8389  id13477  0.259065  0.008434  0.732501\n",
              "8390  id13761  0.490427  0.022099  0.487475\n",
              "8391  id04282  0.015670  0.984041  0.000289\n",
              "\n",
              "[8392 rows x 4 columns]"
            ]
          },
          "metadata": {},
          "execution_count": 16
        }
      ]
    },
    {
      "cell_type": "code",
      "metadata": {
        "id": "OFt_lDl6ODTY"
      },
      "source": [
        "submission.to_csv(\"submission.csv\", index=False)"
      ],
      "execution_count": 17,
      "outputs": []
    }
  ]
}